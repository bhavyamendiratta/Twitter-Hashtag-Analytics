{
  "nbformat": 4,
  "nbformat_minor": 0,
  "metadata": {
    "colab": {
      "name": "centrality&diffusion.ipynb",
      "provenance": []
    },
    "kernelspec": {
      "name": "python3",
      "display_name": "Python 3"
    }
  },
  "cells": [
    {
      "cell_type": "code",
      "metadata": {
        "id": "sTXZG3UPjLcL",
        "colab_type": "code",
        "outputId": "402990ac-7903-423d-b44e-1548b540ef42",
        "colab": {
          "base_uri": "https://localhost:8080/",
          "height": 71
        }
      },
      "source": [
        "import pandas as pd\n",
        "import seaborn as sns\n",
        "import matplotlib.pyplot as plt"
      ],
      "execution_count": 0,
      "outputs": [
        {
          "output_type": "stream",
          "text": [
            "/usr/local/lib/python3.6/dist-packages/statsmodels/tools/_testing.py:19: FutureWarning: pandas.util.testing is deprecated. Use the functions in the public API at pandas.testing instead.\n",
            "  import pandas.util.testing as tm\n"
          ],
          "name": "stderr"
        }
      ]
    },
    {
      "cell_type": "code",
      "metadata": {
        "id": "-Mm6PaG6j5Ju",
        "colab_type": "code",
        "colab": {}
      },
      "source": [
        "df = pd.read_csv('Datawarehouse.csv')"
      ],
      "execution_count": 0,
      "outputs": []
    },
    {
      "cell_type": "code",
      "metadata": {
        "id": "ZyRe0tLVkC4f",
        "colab_type": "code",
        "outputId": "8c279874-2d02-4353-d6bc-b680dc804c6d",
        "colab": {
          "base_uri": "https://localhost:8080/",
          "height": 564
        }
      },
      "source": [
        "df.head()"
      ],
      "execution_count": 0,
      "outputs": [
        {
          "output_type": "execute_result",
          "data": {
            "text/html": [
              "<div>\n",
              "<style scoped>\n",
              "    .dataframe tbody tr th:only-of-type {\n",
              "        vertical-align: middle;\n",
              "    }\n",
              "\n",
              "    .dataframe tbody tr th {\n",
              "        vertical-align: top;\n",
              "    }\n",
              "\n",
              "    .dataframe thead th {\n",
              "        text-align: right;\n",
              "    }\n",
              "</style>\n",
              "<table border=\"1\" class=\"dataframe\">\n",
              "  <thead>\n",
              "    <tr style=\"text-align: right;\">\n",
              "      <th></th>\n",
              "      <th>id</th>\n",
              "      <th>date</th>\n",
              "      <th>user</th>\n",
              "      <th>text</th>\n",
              "      <th>retweet</th>\n",
              "      <th>retweet_count</th>\n",
              "      <th>location</th>\n",
              "      <th>source</th>\n",
              "      <th>followers_count</th>\n",
              "      <th>friends_count</th>\n",
              "      <th>favourite_count</th>\n",
              "      <th>post_by</th>\n",
              "    </tr>\n",
              "  </thead>\n",
              "  <tbody>\n",
              "    <tr>\n",
              "      <th>0</th>\n",
              "      <td>1231611279967539200</td>\n",
              "      <td>Sun Feb 23 16:06:26 +0000 2020</td>\n",
              "      <td>journoabubakar</td>\n",
              "      <td>RT @ShamsIrfan27: A new normal in #Kashmir: ar...</td>\n",
              "      <td>True</td>\n",
              "      <td>45</td>\n",
              "      <td>Sopore, Jammu And Kashmir</td>\n",
              "      <td>Android</td>\n",
              "      <td>1714</td>\n",
              "      <td>222</td>\n",
              "      <td>1329</td>\n",
              "      <td>ShamsIrfan27</td>\n",
              "    </tr>\n",
              "    <tr>\n",
              "      <th>1</th>\n",
              "      <td>1231611227513618445</td>\n",
              "      <td>Sun Feb 23 16:06:13 +0000 2020</td>\n",
              "      <td>ThatKashmirGuy</td>\n",
              "      <td>RT @ShamsIrfan27: A new normal in #Kashmir: ar...</td>\n",
              "      <td>True</td>\n",
              "      <td>45</td>\n",
              "      <td>Kulgam, Jammu And Kashmir</td>\n",
              "      <td>Android</td>\n",
              "      <td>3254</td>\n",
              "      <td>54</td>\n",
              "      <td>208</td>\n",
              "      <td>ShamsIrfan27</td>\n",
              "    </tr>\n",
              "    <tr>\n",
              "      <th>2</th>\n",
              "      <td>1231611222891560961</td>\n",
              "      <td>Sun Feb 23 16:06:12 +0000 2020</td>\n",
              "      <td>mittoonkhan</td>\n",
              "      <td>RT @PTIofficial: Arundhati Roy isn’t much wron...</td>\n",
              "      <td>True</td>\n",
              "      <td>18</td>\n",
              "      <td>Southampton, England</td>\n",
              "      <td>Android</td>\n",
              "      <td>1513</td>\n",
              "      <td>117</td>\n",
              "      <td>369901</td>\n",
              "      <td>PTIofficial</td>\n",
              "    </tr>\n",
              "    <tr>\n",
              "      <th>3</th>\n",
              "      <td>1231611181418176512</td>\n",
              "      <td>Sun Feb 23 16:06:02 +0000 2020</td>\n",
              "      <td>abbasqamar_</td>\n",
              "      <td>RT @zari_pakistani: Kashmiris Use Memes to Moc...</td>\n",
              "      <td>True</td>\n",
              "      <td>12</td>\n",
              "      <td>NaN</td>\n",
              "      <td>Web App</td>\n",
              "      <td>342</td>\n",
              "      <td>1987</td>\n",
              "      <td>30411</td>\n",
              "      <td>zari_pakistani</td>\n",
              "    </tr>\n",
              "    <tr>\n",
              "      <th>4</th>\n",
              "      <td>1231611142088396800</td>\n",
              "      <td>Sun Feb 23 16:05:53 +0000 2020</td>\n",
              "      <td>LoverPakArmy</td>\n",
              "      <td>RT @Husnain4s_: 200+ days of lockdown in #Kash...</td>\n",
              "      <td>True</td>\n",
              "      <td>5</td>\n",
              "      <td>FORT OF ISLAM🇵🇰</td>\n",
              "      <td>Android</td>\n",
              "      <td>10801</td>\n",
              "      <td>11249</td>\n",
              "      <td>22886</td>\n",
              "      <td>Husnain4s_</td>\n",
              "    </tr>\n",
              "  </tbody>\n",
              "</table>\n",
              "</div>"
            ],
            "text/plain": [
              "                    id  ...         post_by\n",
              "0  1231611279967539200  ...    ShamsIrfan27\n",
              "1  1231611227513618445  ...    ShamsIrfan27\n",
              "2  1231611222891560961  ...     PTIofficial\n",
              "3  1231611181418176512  ...  zari_pakistani\n",
              "4  1231611142088396800  ...      Husnain4s_\n",
              "\n",
              "[5 rows x 12 columns]"
            ]
          },
          "metadata": {
            "tags": []
          },
          "execution_count": 3
        }
      ]
    },
    {
      "cell_type": "code",
      "metadata": {
        "id": "fPFBh-3WkEH5",
        "colab_type": "code",
        "outputId": "47ddcb0b-2356-42ae-c32f-274109847335",
        "colab": {
          "base_uri": "https://localhost:8080/",
          "height": 340
        }
      },
      "source": [
        "df.info()"
      ],
      "execution_count": 0,
      "outputs": [
        {
          "output_type": "stream",
          "text": [
            "<class 'pandas.core.frame.DataFrame'>\n",
            "RangeIndex: 23402 entries, 0 to 23401\n",
            "Data columns (total 12 columns):\n",
            " #   Column           Non-Null Count  Dtype \n",
            "---  ------           --------------  ----- \n",
            " 0   id               23402 non-null  int64 \n",
            " 1   date             23402 non-null  object\n",
            " 2   user             23402 non-null  object\n",
            " 3   text             23402 non-null  object\n",
            " 4   retweet          23402 non-null  bool  \n",
            " 5   retweet_count    23402 non-null  int64 \n",
            " 6   location         16141 non-null  object\n",
            " 7   source           23402 non-null  object\n",
            " 8   followers_count  23402 non-null  int64 \n",
            " 9   friends_count    23402 non-null  int64 \n",
            " 10  favourite_count  23402 non-null  int64 \n",
            " 11  post_by          19629 non-null  object\n",
            "dtypes: bool(1), int64(5), object(6)\n",
            "memory usage: 2.0+ MB\n"
          ],
          "name": "stdout"
        }
      ]
    },
    {
      "cell_type": "code",
      "metadata": {
        "id": "98mjzsLlkGDu",
        "colab_type": "code",
        "outputId": "78bca46d-b97e-4ed2-921b-02348a656f86",
        "colab": {
          "base_uri": "https://localhost:8080/",
          "height": 238
        }
      },
      "source": [
        "df.isnull().sum()"
      ],
      "execution_count": 0,
      "outputs": [
        {
          "output_type": "execute_result",
          "data": {
            "text/plain": [
              "id                    0\n",
              "date                  0\n",
              "user                  0\n",
              "text                  0\n",
              "retweet               0\n",
              "retweet_count         0\n",
              "location           7261\n",
              "source                0\n",
              "followers_count       0\n",
              "friends_count         0\n",
              "favourite_count       0\n",
              "post_by            3773\n",
              "dtype: int64"
            ]
          },
          "metadata": {
            "tags": []
          },
          "execution_count": 5
        }
      ]
    },
    {
      "cell_type": "code",
      "metadata": {
        "id": "4dbJWeyzkWFg",
        "colab_type": "code",
        "outputId": "65be3010-231b-4d6e-cd23-b621544e2791",
        "colab": {
          "base_uri": "https://localhost:8080/",
          "height": 235
        }
      },
      "source": [
        "corr = df.corr()\n",
        "corr"
      ],
      "execution_count": 0,
      "outputs": [
        {
          "output_type": "execute_result",
          "data": {
            "text/html": [
              "<div>\n",
              "<style scoped>\n",
              "    .dataframe tbody tr th:only-of-type {\n",
              "        vertical-align: middle;\n",
              "    }\n",
              "\n",
              "    .dataframe tbody tr th {\n",
              "        vertical-align: top;\n",
              "    }\n",
              "\n",
              "    .dataframe thead th {\n",
              "        text-align: right;\n",
              "    }\n",
              "</style>\n",
              "<table border=\"1\" class=\"dataframe\">\n",
              "  <thead>\n",
              "    <tr style=\"text-align: right;\">\n",
              "      <th></th>\n",
              "      <th>id</th>\n",
              "      <th>retweet</th>\n",
              "      <th>retweet_count</th>\n",
              "      <th>followers_count</th>\n",
              "      <th>friends_count</th>\n",
              "      <th>favourite_count</th>\n",
              "    </tr>\n",
              "  </thead>\n",
              "  <tbody>\n",
              "    <tr>\n",
              "      <th>id</th>\n",
              "      <td>1.000000</td>\n",
              "      <td>-0.007065</td>\n",
              "      <td>-0.086697</td>\n",
              "      <td>0.025844</td>\n",
              "      <td>0.016923</td>\n",
              "      <td>0.003295</td>\n",
              "    </tr>\n",
              "    <tr>\n",
              "      <th>retweet</th>\n",
              "      <td>-0.007065</td>\n",
              "      <td>1.000000</td>\n",
              "      <td>0.104014</td>\n",
              "      <td>-0.065215</td>\n",
              "      <td>0.017770</td>\n",
              "      <td>0.118510</td>\n",
              "    </tr>\n",
              "    <tr>\n",
              "      <th>retweet_count</th>\n",
              "      <td>-0.086697</td>\n",
              "      <td>0.104014</td>\n",
              "      <td>1.000000</td>\n",
              "      <td>-0.011118</td>\n",
              "      <td>-0.014106</td>\n",
              "      <td>0.012353</td>\n",
              "    </tr>\n",
              "    <tr>\n",
              "      <th>followers_count</th>\n",
              "      <td>0.025844</td>\n",
              "      <td>-0.065215</td>\n",
              "      <td>-0.011118</td>\n",
              "      <td>1.000000</td>\n",
              "      <td>0.053796</td>\n",
              "      <td>-0.003881</td>\n",
              "    </tr>\n",
              "    <tr>\n",
              "      <th>friends_count</th>\n",
              "      <td>0.016923</td>\n",
              "      <td>0.017770</td>\n",
              "      <td>-0.014106</td>\n",
              "      <td>0.053796</td>\n",
              "      <td>1.000000</td>\n",
              "      <td>0.216937</td>\n",
              "    </tr>\n",
              "    <tr>\n",
              "      <th>favourite_count</th>\n",
              "      <td>0.003295</td>\n",
              "      <td>0.118510</td>\n",
              "      <td>0.012353</td>\n",
              "      <td>-0.003881</td>\n",
              "      <td>0.216937</td>\n",
              "      <td>1.000000</td>\n",
              "    </tr>\n",
              "  </tbody>\n",
              "</table>\n",
              "</div>"
            ],
            "text/plain": [
              "                       id   retweet  ...  friends_count  favourite_count\n",
              "id               1.000000 -0.007065  ...       0.016923         0.003295\n",
              "retweet         -0.007065  1.000000  ...       0.017770         0.118510\n",
              "retweet_count   -0.086697  0.104014  ...      -0.014106         0.012353\n",
              "followers_count  0.025844 -0.065215  ...       0.053796        -0.003881\n",
              "friends_count    0.016923  0.017770  ...       1.000000         0.216937\n",
              "favourite_count  0.003295  0.118510  ...       0.216937         1.000000\n",
              "\n",
              "[6 rows x 6 columns]"
            ]
          },
          "metadata": {
            "tags": []
          },
          "execution_count": 7
        }
      ]
    },
    {
      "cell_type": "code",
      "metadata": {
        "id": "wunVSFmimAgK",
        "colab_type": "code",
        "colab": {}
      },
      "source": [
        "df.drop(\"id\",axis=1,inplace=True)"
      ],
      "execution_count": 0,
      "outputs": []
    },
    {
      "cell_type": "code",
      "metadata": {
        "id": "HC3xXyR4zVjx",
        "colab_type": "code",
        "outputId": "4edc1298-c5e6-4d88-bc48-6129a79bd7a9",
        "colab": {
          "base_uri": "https://localhost:8080/",
          "height": 374
        }
      },
      "source": [
        "df.head()"
      ],
      "execution_count": 0,
      "outputs": [
        {
          "output_type": "execute_result",
          "data": {
            "text/html": [
              "<div>\n",
              "<style scoped>\n",
              "    .dataframe tbody tr th:only-of-type {\n",
              "        vertical-align: middle;\n",
              "    }\n",
              "\n",
              "    .dataframe tbody tr th {\n",
              "        vertical-align: top;\n",
              "    }\n",
              "\n",
              "    .dataframe thead th {\n",
              "        text-align: right;\n",
              "    }\n",
              "</style>\n",
              "<table border=\"1\" class=\"dataframe\">\n",
              "  <thead>\n",
              "    <tr style=\"text-align: right;\">\n",
              "      <th></th>\n",
              "      <th>date</th>\n",
              "      <th>user</th>\n",
              "      <th>text</th>\n",
              "      <th>retweet</th>\n",
              "      <th>retweet_count</th>\n",
              "      <th>location</th>\n",
              "      <th>source</th>\n",
              "      <th>followers_count</th>\n",
              "      <th>friends_count</th>\n",
              "      <th>favourite_count</th>\n",
              "      <th>post_by</th>\n",
              "    </tr>\n",
              "  </thead>\n",
              "  <tbody>\n",
              "    <tr>\n",
              "      <th>0</th>\n",
              "      <td>Sun Feb 23 16:06:26 +0000 2020</td>\n",
              "      <td>journoabubakar</td>\n",
              "      <td>RT @ShamsIrfan27: A new normal in #Kashmir: ar...</td>\n",
              "      <td>True</td>\n",
              "      <td>45</td>\n",
              "      <td>Sopore, Jammu And Kashmir</td>\n",
              "      <td>Android</td>\n",
              "      <td>1714</td>\n",
              "      <td>222</td>\n",
              "      <td>1329</td>\n",
              "      <td>ShamsIrfan27</td>\n",
              "    </tr>\n",
              "    <tr>\n",
              "      <th>1</th>\n",
              "      <td>Sun Feb 23 16:06:13 +0000 2020</td>\n",
              "      <td>ThatKashmirGuy</td>\n",
              "      <td>RT @ShamsIrfan27: A new normal in #Kashmir: ar...</td>\n",
              "      <td>True</td>\n",
              "      <td>45</td>\n",
              "      <td>Kulgam, Jammu And Kashmir</td>\n",
              "      <td>Android</td>\n",
              "      <td>3254</td>\n",
              "      <td>54</td>\n",
              "      <td>208</td>\n",
              "      <td>ShamsIrfan27</td>\n",
              "    </tr>\n",
              "    <tr>\n",
              "      <th>2</th>\n",
              "      <td>Sun Feb 23 16:06:12 +0000 2020</td>\n",
              "      <td>mittoonkhan</td>\n",
              "      <td>RT @PTIofficial: Arundhati Roy isn’t much wron...</td>\n",
              "      <td>True</td>\n",
              "      <td>18</td>\n",
              "      <td>Southampton, England</td>\n",
              "      <td>Android</td>\n",
              "      <td>1513</td>\n",
              "      <td>117</td>\n",
              "      <td>369901</td>\n",
              "      <td>PTIofficial</td>\n",
              "    </tr>\n",
              "    <tr>\n",
              "      <th>3</th>\n",
              "      <td>Sun Feb 23 16:06:02 +0000 2020</td>\n",
              "      <td>abbasqamar_</td>\n",
              "      <td>RT @zari_pakistani: Kashmiris Use Memes to Moc...</td>\n",
              "      <td>True</td>\n",
              "      <td>12</td>\n",
              "      <td>NaN</td>\n",
              "      <td>Web App</td>\n",
              "      <td>342</td>\n",
              "      <td>1987</td>\n",
              "      <td>30411</td>\n",
              "      <td>zari_pakistani</td>\n",
              "    </tr>\n",
              "    <tr>\n",
              "      <th>4</th>\n",
              "      <td>Sun Feb 23 16:05:53 +0000 2020</td>\n",
              "      <td>LoverPakArmy</td>\n",
              "      <td>RT @Husnain4s_: 200+ days of lockdown in #Kash...</td>\n",
              "      <td>True</td>\n",
              "      <td>5</td>\n",
              "      <td>FORT OF ISLAM🇵🇰</td>\n",
              "      <td>Android</td>\n",
              "      <td>10801</td>\n",
              "      <td>11249</td>\n",
              "      <td>22886</td>\n",
              "      <td>Husnain4s_</td>\n",
              "    </tr>\n",
              "  </tbody>\n",
              "</table>\n",
              "</div>"
            ],
            "text/plain": [
              "                             date  ...         post_by\n",
              "0  Sun Feb 23 16:06:26 +0000 2020  ...    ShamsIrfan27\n",
              "1  Sun Feb 23 16:06:13 +0000 2020  ...    ShamsIrfan27\n",
              "2  Sun Feb 23 16:06:12 +0000 2020  ...     PTIofficial\n",
              "3  Sun Feb 23 16:06:02 +0000 2020  ...  zari_pakistani\n",
              "4  Sun Feb 23 16:05:53 +0000 2020  ...      Husnain4s_\n",
              "\n",
              "[5 rows x 11 columns]"
            ]
          },
          "metadata": {
            "tags": []
          },
          "execution_count": 11
        }
      ]
    },
    {
      "cell_type": "code",
      "metadata": {
        "id": "xNrojAk_zjwh",
        "colab_type": "code",
        "outputId": "654efe79-e9b4-4f08-add8-a280b09d8425",
        "colab": {
          "base_uri": "https://localhost:8080/",
          "height": 374
        }
      },
      "source": [
        "from sklearn.preprocessing import LabelEncoder\n",
        "le=LabelEncoder()\n",
        "df['retweet']=le.fit_transform(df['retweet'])\n",
        "df.head()"
      ],
      "execution_count": 0,
      "outputs": [
        {
          "output_type": "execute_result",
          "data": {
            "text/html": [
              "<div>\n",
              "<style scoped>\n",
              "    .dataframe tbody tr th:only-of-type {\n",
              "        vertical-align: middle;\n",
              "    }\n",
              "\n",
              "    .dataframe tbody tr th {\n",
              "        vertical-align: top;\n",
              "    }\n",
              "\n",
              "    .dataframe thead th {\n",
              "        text-align: right;\n",
              "    }\n",
              "</style>\n",
              "<table border=\"1\" class=\"dataframe\">\n",
              "  <thead>\n",
              "    <tr style=\"text-align: right;\">\n",
              "      <th></th>\n",
              "      <th>date</th>\n",
              "      <th>user</th>\n",
              "      <th>text</th>\n",
              "      <th>retweet</th>\n",
              "      <th>retweet_count</th>\n",
              "      <th>location</th>\n",
              "      <th>source</th>\n",
              "      <th>followers_count</th>\n",
              "      <th>friends_count</th>\n",
              "      <th>favourite_count</th>\n",
              "      <th>post_by</th>\n",
              "    </tr>\n",
              "  </thead>\n",
              "  <tbody>\n",
              "    <tr>\n",
              "      <th>0</th>\n",
              "      <td>Sun Feb 23 16:06:26 +0000 2020</td>\n",
              "      <td>journoabubakar</td>\n",
              "      <td>RT @ShamsIrfan27: A new normal in #Kashmir: ar...</td>\n",
              "      <td>1</td>\n",
              "      <td>45</td>\n",
              "      <td>Sopore, Jammu And Kashmir</td>\n",
              "      <td>Android</td>\n",
              "      <td>1714</td>\n",
              "      <td>222</td>\n",
              "      <td>1329</td>\n",
              "      <td>ShamsIrfan27</td>\n",
              "    </tr>\n",
              "    <tr>\n",
              "      <th>1</th>\n",
              "      <td>Sun Feb 23 16:06:13 +0000 2020</td>\n",
              "      <td>ThatKashmirGuy</td>\n",
              "      <td>RT @ShamsIrfan27: A new normal in #Kashmir: ar...</td>\n",
              "      <td>1</td>\n",
              "      <td>45</td>\n",
              "      <td>Kulgam, Jammu And Kashmir</td>\n",
              "      <td>Android</td>\n",
              "      <td>3254</td>\n",
              "      <td>54</td>\n",
              "      <td>208</td>\n",
              "      <td>ShamsIrfan27</td>\n",
              "    </tr>\n",
              "    <tr>\n",
              "      <th>2</th>\n",
              "      <td>Sun Feb 23 16:06:12 +0000 2020</td>\n",
              "      <td>mittoonkhan</td>\n",
              "      <td>RT @PTIofficial: Arundhati Roy isn’t much wron...</td>\n",
              "      <td>1</td>\n",
              "      <td>18</td>\n",
              "      <td>Southampton, England</td>\n",
              "      <td>Android</td>\n",
              "      <td>1513</td>\n",
              "      <td>117</td>\n",
              "      <td>369901</td>\n",
              "      <td>PTIofficial</td>\n",
              "    </tr>\n",
              "    <tr>\n",
              "      <th>3</th>\n",
              "      <td>Sun Feb 23 16:06:02 +0000 2020</td>\n",
              "      <td>abbasqamar_</td>\n",
              "      <td>RT @zari_pakistani: Kashmiris Use Memes to Moc...</td>\n",
              "      <td>1</td>\n",
              "      <td>12</td>\n",
              "      <td>NaN</td>\n",
              "      <td>Web App</td>\n",
              "      <td>342</td>\n",
              "      <td>1987</td>\n",
              "      <td>30411</td>\n",
              "      <td>zari_pakistani</td>\n",
              "    </tr>\n",
              "    <tr>\n",
              "      <th>4</th>\n",
              "      <td>Sun Feb 23 16:05:53 +0000 2020</td>\n",
              "      <td>LoverPakArmy</td>\n",
              "      <td>RT @Husnain4s_: 200+ days of lockdown in #Kash...</td>\n",
              "      <td>1</td>\n",
              "      <td>5</td>\n",
              "      <td>FORT OF ISLAM🇵🇰</td>\n",
              "      <td>Android</td>\n",
              "      <td>10801</td>\n",
              "      <td>11249</td>\n",
              "      <td>22886</td>\n",
              "      <td>Husnain4s_</td>\n",
              "    </tr>\n",
              "  </tbody>\n",
              "</table>\n",
              "</div>"
            ],
            "text/plain": [
              "                             date  ...         post_by\n",
              "0  Sun Feb 23 16:06:26 +0000 2020  ...    ShamsIrfan27\n",
              "1  Sun Feb 23 16:06:13 +0000 2020  ...    ShamsIrfan27\n",
              "2  Sun Feb 23 16:06:12 +0000 2020  ...     PTIofficial\n",
              "3  Sun Feb 23 16:06:02 +0000 2020  ...  zari_pakistani\n",
              "4  Sun Feb 23 16:05:53 +0000 2020  ...      Husnain4s_\n",
              "\n",
              "[5 rows x 11 columns]"
            ]
          },
          "metadata": {
            "tags": []
          },
          "execution_count": 12
        }
      ]
    },
    {
      "cell_type": "code",
      "metadata": {
        "id": "FBwarOCDz4Qn",
        "colab_type": "code",
        "outputId": "298247c8-38ae-4214-a36a-16cae6aa28bf",
        "colab": {
          "base_uri": "https://localhost:8080/",
          "height": 611
        }
      },
      "source": [
        "corrmat = df.corr()\n",
        "top_corr_features = corrmat.index\n",
        "#sns.set(font_scale=1.5)\n",
        "plt.figure(figsize=(8,8))\n",
        "g=sns.heatmap(df[top_corr_features].corr(),annot=True,cmap=\"RdYlGn\")"
      ],
      "execution_count": 0,
      "outputs": [
        {
          "output_type": "display_data",
          "data": {
            "image/png": "[encoded data removed]",
            "text/plain": [
              "<Figure size 576x576 with 2 Axes>"
            ]
          },
          "metadata": {
            "tags": []
          }
        }
      ]
    },
    {
      "cell_type": "code",
      "metadata": {
        "id": "JpAqyCVG0RpW",
        "colab_type": "code",
        "outputId": "1a2905a3-70a1-4f92-a9ce-336c61ca0b7f",
        "colab": {
          "base_uri": "https://localhost:8080/",
          "height": 941
        }
      },
      "source": [
        "sns.pairplot(df)"
      ],
      "execution_count": 0,
      "outputs": [
        {
          "output_type": "execute_result",
          "data": {
            "text/plain": [
              "<seaborn.axisgrid.PairGrid at 0x7f46f8b8f5f8>"
            ]
          },
          "metadata": {
            "tags": []
          },
          "execution_count": 15
        },
        {
          "output_type": "display_data",
          "data": {
            "image/png": "[encoded data removed]",
            "text/plain": [
              "<Figure size 900x900 with 30 Axes>"
            ]
          },
          "metadata": {
            "tags": []
          }
        }
      ]
    },
    {
      "cell_type": "code",
      "metadata": {
        "id": "6Wzd9BJt0jZB",
        "colab_type": "code",
        "outputId": "e2b41622-23e0-4508-c7b6-86d496fe99de",
        "colab": {
          "base_uri": "https://localhost:8080/",
          "height": 761
        }
      },
      "source": [
        "sns.pairplot(df,hue='retweet')"
      ],
      "execution_count": 0,
      "outputs": [
        {
          "output_type": "execute_result",
          "data": {
            "text/plain": [
              "<seaborn.axisgrid.PairGrid at 0x7f46f33f21d0>"
            ]
          },
          "metadata": {
            "tags": []
          },
          "execution_count": 16
        },
        {
          "output_type": "display_data",
          "data": {
            "image/png": "[encoded data removed]",
            "text/plain": [
              "<Figure size 789.9x720 with 20 Axes>"
            ]
          },
          "metadata": {
            "tags": []
          }
        }
      ]
    },
    {
      "cell_type": "code",
      "metadata": {
        "id": "_x2TWkQi2qTP",
        "colab_type": "code",
        "colab": {}
      },
      "source": [
        "import ndlib.models.ModelConfig as mc\n",
        "import ndlib.models.epidemics as ep\n",
        "from ndlib.viz.bokeh.MultiPlot import MultiPlot\n",
        "\n",
        "from bokeh.io import output_notebook,show\n",
        "from ndlib.viz.bokeh.DiffusionTrend import DiffusionTrend\n",
        "from ndlib.viz.bokeh.DiffusionPrevalence import DiffusionPrevalence\n",
        "\n",
        "import networkx as nx\n",
        "import matplotlib.pyplot as plt\n",
        "import pandas as pd"
      ],
      "execution_count": 0,
      "outputs": []
    },
    {
      "cell_type": "code",
      "metadata": {
        "id": "64ndLetN4ZMT",
        "colab_type": "code",
        "outputId": "f2ea5075-2859-4518-b1b4-84e68b655121",
        "colab": {
          "base_uri": "https://localhost:8080/",
          "height": 340
        }
      },
      "source": [
        "df.info()"
      ],
      "execution_count": 0,
      "outputs": [
        {
          "output_type": "stream",
          "text": [
            "<class 'pandas.core.frame.DataFrame'>\n",
            "RangeIndex: 23402 entries, 0 to 23401\n",
            "Data columns (total 12 columns):\n",
            " #   Column           Non-Null Count  Dtype \n",
            "---  ------           --------------  ----- \n",
            " 0   id               23402 non-null  int64 \n",
            " 1   date             23402 non-null  object\n",
            " 2   user             23402 non-null  object\n",
            " 3   text             23402 non-null  object\n",
            " 4   retweet          23402 non-null  bool  \n",
            " 5   retweet_count    23402 non-null  int64 \n",
            " 6   location         16141 non-null  object\n",
            " 7   source           23402 non-null  object\n",
            " 8   followers_count  23402 non-null  int64 \n",
            " 9   friends_count    23402 non-null  int64 \n",
            " 10  favourite_count  23402 non-null  int64 \n",
            " 11  post_by          19629 non-null  object\n",
            "dtypes: bool(1), int64(5), object(6)\n",
            "memory usage: 2.0+ MB\n"
          ],
          "name": "stdout"
        }
      ]
    },
    {
      "cell_type": "code",
      "metadata": {
        "id": "X7YAs9wu4jOC",
        "colab_type": "code",
        "colab": {}
      },
      "source": [
        "df.drop(\"date\",axis=1,inplace=True)\n",
        "df.drop(\"user\",axis=1,inplace=True)\n",
        "df.drop(\"text\",axis=1,inplace=True)\n",
        "df.drop(\"location\",axis=1,inplace=True)\n",
        "df.drop(\"source\",axis=1,inplace=True)\n",
        "df.drop(\"post_by\",axis=1,inplace=True)"
      ],
      "execution_count": 0,
      "outputs": []
    },
    {
      "cell_type": "code",
      "metadata": {
        "id": "fx2-1cqN42Ff",
        "colab_type": "code",
        "outputId": "2343a042-fe3b-4179-a61e-3f0736e21057",
        "colab": {
          "base_uri": "https://localhost:8080/",
          "height": 204
        }
      },
      "source": [
        ""
      ],
      "execution_count": 0,
      "outputs": [
        {
          "output_type": "execute_result",
          "data": {
            "text/html": [
              "<div>\n",
              "<style scoped>\n",
              "    .dataframe tbody tr th:only-of-type {\n",
              "        vertical-align: middle;\n",
              "    }\n",
              "\n",
              "    .dataframe tbody tr th {\n",
              "        vertical-align: top;\n",
              "    }\n",
              "\n",
              "    .dataframe thead th {\n",
              "        text-align: right;\n",
              "    }\n",
              "</style>\n",
              "<table border=\"1\" class=\"dataframe\">\n",
              "  <thead>\n",
              "    <tr style=\"text-align: right;\">\n",
              "      <th></th>\n",
              "      <th>id</th>\n",
              "      <th>retweet</th>\n",
              "      <th>retweet_count</th>\n",
              "      <th>followers_count</th>\n",
              "      <th>friends_count</th>\n",
              "      <th>favourite_count</th>\n",
              "    </tr>\n",
              "  </thead>\n",
              "  <tbody>\n",
              "    <tr>\n",
              "      <th>0</th>\n",
              "      <td>1231611279967539200</td>\n",
              "      <td>True</td>\n",
              "      <td>45</td>\n",
              "      <td>1714</td>\n",
              "      <td>222</td>\n",
              "      <td>1329</td>\n",
              "    </tr>\n",
              "    <tr>\n",
              "      <th>1</th>\n",
              "      <td>1231611227513618445</td>\n",
              "      <td>True</td>\n",
              "      <td>45</td>\n",
              "      <td>3254</td>\n",
              "      <td>54</td>\n",
              "      <td>208</td>\n",
              "    </tr>\n",
              "    <tr>\n",
              "      <th>2</th>\n",
              "      <td>1231611222891560961</td>\n",
              "      <td>True</td>\n",
              "      <td>18</td>\n",
              "      <td>1513</td>\n",
              "      <td>117</td>\n",
              "      <td>369901</td>\n",
              "    </tr>\n",
              "    <tr>\n",
              "      <th>3</th>\n",
              "      <td>1231611181418176512</td>\n",
              "      <td>True</td>\n",
              "      <td>12</td>\n",
              "      <td>342</td>\n",
              "      <td>1987</td>\n",
              "      <td>30411</td>\n",
              "    </tr>\n",
              "    <tr>\n",
              "      <th>4</th>\n",
              "      <td>1231611142088396800</td>\n",
              "      <td>True</td>\n",
              "      <td>5</td>\n",
              "      <td>10801</td>\n",
              "      <td>11249</td>\n",
              "      <td>22886</td>\n",
              "    </tr>\n",
              "  </tbody>\n",
              "</table>\n",
              "</div>"
            ],
            "text/plain": [
              "                    id  retweet  ...  friends_count  favourite_count\n",
              "0  1231611279967539200     True  ...            222             1329\n",
              "1  1231611227513618445     True  ...             54              208\n",
              "2  1231611222891560961     True  ...            117           369901\n",
              "3  1231611181418176512     True  ...           1987            30411\n",
              "4  1231611142088396800     True  ...          11249            22886\n",
              "\n",
              "[5 rows x 6 columns]"
            ]
          },
          "metadata": {
            "tags": []
          },
          "execution_count": 22
        }
      ]
    },
    {
      "cell_type": "code",
      "metadata": {
        "id": "1ZxiQFej4_iV",
        "colab_type": "code",
        "outputId": "496f7d3a-d919-47cc-ff8d-1886ce27dfc3",
        "colab": {
          "base_uri": "https://localhost:8080/",
          "height": 204
        }
      },
      "source": [
        "from sklearn.preprocessing import LabelEncoder\n",
        "le=LabelEncoder()\n",
        "df['retweet']=le.fit_transform(df['retweet'])\n",
        "df.head()"
      ],
      "execution_count": 0,
      "outputs": [
        {
          "output_type": "execute_result",
          "data": {
            "text/html": [
              "<div>\n",
              "<style scoped>\n",
              "    .dataframe tbody tr th:only-of-type {\n",
              "        vertical-align: middle;\n",
              "    }\n",
              "\n",
              "    .dataframe tbody tr th {\n",
              "        vertical-align: top;\n",
              "    }\n",
              "\n",
              "    .dataframe thead th {\n",
              "        text-align: right;\n",
              "    }\n",
              "</style>\n",
              "<table border=\"1\" class=\"dataframe\">\n",
              "  <thead>\n",
              "    <tr style=\"text-align: right;\">\n",
              "      <th></th>\n",
              "      <th>id</th>\n",
              "      <th>retweet</th>\n",
              "      <th>retweet_count</th>\n",
              "      <th>followers_count</th>\n",
              "      <th>friends_count</th>\n",
              "      <th>favourite_count</th>\n",
              "    </tr>\n",
              "  </thead>\n",
              "  <tbody>\n",
              "    <tr>\n",
              "      <th>0</th>\n",
              "      <td>1231611279967539200</td>\n",
              "      <td>1</td>\n",
              "      <td>45</td>\n",
              "      <td>1714</td>\n",
              "      <td>222</td>\n",
              "      <td>1329</td>\n",
              "    </tr>\n",
              "    <tr>\n",
              "      <th>1</th>\n",
              "      <td>1231611227513618445</td>\n",
              "      <td>1</td>\n",
              "      <td>45</td>\n",
              "      <td>3254</td>\n",
              "      <td>54</td>\n",
              "      <td>208</td>\n",
              "    </tr>\n",
              "    <tr>\n",
              "      <th>2</th>\n",
              "      <td>1231611222891560961</td>\n",
              "      <td>1</td>\n",
              "      <td>18</td>\n",
              "      <td>1513</td>\n",
              "      <td>117</td>\n",
              "      <td>369901</td>\n",
              "    </tr>\n",
              "    <tr>\n",
              "      <th>3</th>\n",
              "      <td>1231611181418176512</td>\n",
              "      <td>1</td>\n",
              "      <td>12</td>\n",
              "      <td>342</td>\n",
              "      <td>1987</td>\n",
              "      <td>30411</td>\n",
              "    </tr>\n",
              "    <tr>\n",
              "      <th>4</th>\n",
              "      <td>1231611142088396800</td>\n",
              "      <td>1</td>\n",
              "      <td>5</td>\n",
              "      <td>10801</td>\n",
              "      <td>11249</td>\n",
              "      <td>22886</td>\n",
              "    </tr>\n",
              "  </tbody>\n",
              "</table>\n",
              "</div>"
            ],
            "text/plain": [
              "                    id  retweet  ...  friends_count  favourite_count\n",
              "0  1231611279967539200        1  ...            222             1329\n",
              "1  1231611227513618445        1  ...             54              208\n",
              "2  1231611222891560961        1  ...            117           369901\n",
              "3  1231611181418176512        1  ...           1987            30411\n",
              "4  1231611142088396800        1  ...          11249            22886\n",
              "\n",
              "[5 rows x 6 columns]"
            ]
          },
          "metadata": {
            "tags": []
          },
          "execution_count": 23
        }
      ]
    },
    {
      "cell_type": "code",
      "metadata": {
        "id": "1TnrQRjo3_59",
        "colab_type": "code",
        "outputId": "28f431e9-ae59-4e3b-95ed-5420bb649144",
        "colab": {
          "base_uri": "https://localhost:8080/",
          "height": 564
        }
      },
      "source": [
        "df.head()"
      ],
      "execution_count": 0,
      "outputs": [
        {
          "output_type": "execute_result",
          "data": {
            "text/html": [
              "<div>\n",
              "<style scoped>\n",
              "    .dataframe tbody tr th:only-of-type {\n",
              "        vertical-align: middle;\n",
              "    }\n",
              "\n",
              "    .dataframe tbody tr th {\n",
              "        vertical-align: top;\n",
              "    }\n",
              "\n",
              "    .dataframe thead th {\n",
              "        text-align: right;\n",
              "    }\n",
              "</style>\n",
              "<table border=\"1\" class=\"dataframe\">\n",
              "  <thead>\n",
              "    <tr style=\"text-align: right;\">\n",
              "      <th></th>\n",
              "      <th>id</th>\n",
              "      <th>date</th>\n",
              "      <th>user</th>\n",
              "      <th>text</th>\n",
              "      <th>retweet</th>\n",
              "      <th>retweet_count</th>\n",
              "      <th>location</th>\n",
              "      <th>source</th>\n",
              "      <th>followers_count</th>\n",
              "      <th>friends_count</th>\n",
              "      <th>favourite_count</th>\n",
              "      <th>post_by</th>\n",
              "    </tr>\n",
              "  </thead>\n",
              "  <tbody>\n",
              "    <tr>\n",
              "      <th>0</th>\n",
              "      <td>1231611279967539200</td>\n",
              "      <td>Sun Feb 23 16:06:26 +0000 2020</td>\n",
              "      <td>journoabubakar</td>\n",
              "      <td>RT @ShamsIrfan27: A new normal in #Kashmir: ar...</td>\n",
              "      <td>True</td>\n",
              "      <td>45</td>\n",
              "      <td>Sopore, Jammu And Kashmir</td>\n",
              "      <td>Android</td>\n",
              "      <td>1714</td>\n",
              "      <td>222</td>\n",
              "      <td>1329</td>\n",
              "      <td>ShamsIrfan27</td>\n",
              "    </tr>\n",
              "    <tr>\n",
              "      <th>1</th>\n",
              "      <td>1231611227513618445</td>\n",
              "      <td>Sun Feb 23 16:06:13 +0000 2020</td>\n",
              "      <td>ThatKashmirGuy</td>\n",
              "      <td>RT @ShamsIrfan27: A new normal in #Kashmir: ar...</td>\n",
              "      <td>True</td>\n",
              "      <td>45</td>\n",
              "      <td>Kulgam, Jammu And Kashmir</td>\n",
              "      <td>Android</td>\n",
              "      <td>3254</td>\n",
              "      <td>54</td>\n",
              "      <td>208</td>\n",
              "      <td>ShamsIrfan27</td>\n",
              "    </tr>\n",
              "    <tr>\n",
              "      <th>2</th>\n",
              "      <td>1231611222891560961</td>\n",
              "      <td>Sun Feb 23 16:06:12 +0000 2020</td>\n",
              "      <td>mittoonkhan</td>\n",
              "      <td>RT @PTIofficial: Arundhati Roy isn’t much wron...</td>\n",
              "      <td>True</td>\n",
              "      <td>18</td>\n",
              "      <td>Southampton, England</td>\n",
              "      <td>Android</td>\n",
              "      <td>1513</td>\n",
              "      <td>117</td>\n",
              "      <td>369901</td>\n",
              "      <td>PTIofficial</td>\n",
              "    </tr>\n",
              "    <tr>\n",
              "      <th>3</th>\n",
              "      <td>1231611181418176512</td>\n",
              "      <td>Sun Feb 23 16:06:02 +0000 2020</td>\n",
              "      <td>abbasqamar_</td>\n",
              "      <td>RT @zari_pakistani: Kashmiris Use Memes to Moc...</td>\n",
              "      <td>True</td>\n",
              "      <td>12</td>\n",
              "      <td>NaN</td>\n",
              "      <td>Web App</td>\n",
              "      <td>342</td>\n",
              "      <td>1987</td>\n",
              "      <td>30411</td>\n",
              "      <td>zari_pakistani</td>\n",
              "    </tr>\n",
              "    <tr>\n",
              "      <th>4</th>\n",
              "      <td>1231611142088396800</td>\n",
              "      <td>Sun Feb 23 16:05:53 +0000 2020</td>\n",
              "      <td>LoverPakArmy</td>\n",
              "      <td>RT @Husnain4s_: 200+ days of lockdown in #Kash...</td>\n",
              "      <td>True</td>\n",
              "      <td>5</td>\n",
              "      <td>FORT OF ISLAM🇵🇰</td>\n",
              "      <td>Android</td>\n",
              "      <td>10801</td>\n",
              "      <td>11249</td>\n",
              "      <td>22886</td>\n",
              "      <td>Husnain4s_</td>\n",
              "    </tr>\n",
              "  </tbody>\n",
              "</table>\n",
              "</div>"
            ],
            "text/plain": [
              "                    id  ...         post_by\n",
              "0  1231611279967539200  ...    ShamsIrfan27\n",
              "1  1231611227513618445  ...    ShamsIrfan27\n",
              "2  1231611222891560961  ...     PTIofficial\n",
              "3  1231611181418176512  ...  zari_pakistani\n",
              "4  1231611142088396800  ...      Husnain4s_\n",
              "\n",
              "[5 rows x 12 columns]"
            ]
          },
          "metadata": {
            "tags": []
          },
          "execution_count": 25
        }
      ]
    },
    {
      "cell_type": "code",
      "metadata": {
        "id": "q5I6wiW35bb8",
        "colab_type": "code",
        "colab": {}
      },
      "source": [
        "df.drop(\"date\",axis=1,inplace=True)\n",
        "df.drop(\"id\",axis=1,inplace=True)\n",
        "df.drop(\"text\",axis=1,inplace=True)\n",
        "df.drop(\"location\",axis=1,inplace=True)\n",
        "df.drop(\"source\",axis=1,inplace=True)\n",
        "df.drop(\"post_by\",axis=1,inplace=True)"
      ],
      "execution_count": 0,
      "outputs": []
    },
    {
      "cell_type": "code",
      "metadata": {
        "id": "vs7Lp7Z55hFn",
        "colab_type": "code",
        "outputId": "6fca3b2d-08ab-4b48-fcca-5fb9a42364ac",
        "colab": {
          "base_uri": "https://localhost:8080/",
          "height": 204
        }
      },
      "source": [
        "from sklearn.preprocessing import LabelEncoder\n",
        "le=LabelEncoder()\n",
        "df['retweet']=le.fit_transform(df['retweet'])\n",
        "df.head()"
      ],
      "execution_count": 0,
      "outputs": [
        {
          "output_type": "execute_result",
          "data": {
            "text/html": [
              "<div>\n",
              "<style scoped>\n",
              "    .dataframe tbody tr th:only-of-type {\n",
              "        vertical-align: middle;\n",
              "    }\n",
              "\n",
              "    .dataframe tbody tr th {\n",
              "        vertical-align: top;\n",
              "    }\n",
              "\n",
              "    .dataframe thead th {\n",
              "        text-align: right;\n",
              "    }\n",
              "</style>\n",
              "<table border=\"1\" class=\"dataframe\">\n",
              "  <thead>\n",
              "    <tr style=\"text-align: right;\">\n",
              "      <th></th>\n",
              "      <th>user</th>\n",
              "      <th>retweet</th>\n",
              "      <th>retweet_count</th>\n",
              "      <th>followers_count</th>\n",
              "      <th>friends_count</th>\n",
              "      <th>favourite_count</th>\n",
              "    </tr>\n",
              "  </thead>\n",
              "  <tbody>\n",
              "    <tr>\n",
              "      <th>0</th>\n",
              "      <td>journoabubakar</td>\n",
              "      <td>1</td>\n",
              "      <td>45</td>\n",
              "      <td>1714</td>\n",
              "      <td>222</td>\n",
              "      <td>1329</td>\n",
              "    </tr>\n",
              "    <tr>\n",
              "      <th>1</th>\n",
              "      <td>ThatKashmirGuy</td>\n",
              "      <td>1</td>\n",
              "      <td>45</td>\n",
              "      <td>3254</td>\n",
              "      <td>54</td>\n",
              "      <td>208</td>\n",
              "    </tr>\n",
              "    <tr>\n",
              "      <th>2</th>\n",
              "      <td>mittoonkhan</td>\n",
              "      <td>1</td>\n",
              "      <td>18</td>\n",
              "      <td>1513</td>\n",
              "      <td>117</td>\n",
              "      <td>369901</td>\n",
              "    </tr>\n",
              "    <tr>\n",
              "      <th>3</th>\n",
              "      <td>abbasqamar_</td>\n",
              "      <td>1</td>\n",
              "      <td>12</td>\n",
              "      <td>342</td>\n",
              "      <td>1987</td>\n",
              "      <td>30411</td>\n",
              "    </tr>\n",
              "    <tr>\n",
              "      <th>4</th>\n",
              "      <td>LoverPakArmy</td>\n",
              "      <td>1</td>\n",
              "      <td>5</td>\n",
              "      <td>10801</td>\n",
              "      <td>11249</td>\n",
              "      <td>22886</td>\n",
              "    </tr>\n",
              "  </tbody>\n",
              "</table>\n",
              "</div>"
            ],
            "text/plain": [
              "             user  retweet  ...  friends_count  favourite_count\n",
              "0  journoabubakar        1  ...            222             1329\n",
              "1  ThatKashmirGuy        1  ...             54              208\n",
              "2     mittoonkhan        1  ...            117           369901\n",
              "3     abbasqamar_        1  ...           1987            30411\n",
              "4    LoverPakArmy        1  ...          11249            22886\n",
              "\n",
              "[5 rows x 6 columns]"
            ]
          },
          "metadata": {
            "tags": []
          },
          "execution_count": 27
        }
      ]
    },
    {
      "cell_type": "code",
      "metadata": {
        "id": "Cm-exP04xieh",
        "colab_type": "code",
        "colab": {}
      },
      "source": [
        "import re\n",
        "from nltk.corpus import stopwords\n",
        "from nltk.stem import PorterStemmer"
      ],
      "execution_count": 0,
      "outputs": []
    },
    {
      "cell_type": "code",
      "metadata": {
        "id": "nrRL0z9A0Ter",
        "colab_type": "code",
        "colab": {}
      },
      "source": [
        "df_loc = df['location']"
      ],
      "execution_count": 0,
      "outputs": []
    },
    {
      "cell_type": "code",
      "metadata": {
        "id": "GtpKgOsJxr71",
        "colab_type": "code",
        "outputId": "489cd08e-8c1e-48e9-ae34-8118c0665e83",
        "colab": {
          "base_uri": "https://localhost:8080/",
          "height": 34
        }
      },
      "source": [
        "type(df_loc)"
      ],
      "execution_count": 0,
      "outputs": [
        {
          "output_type": "execute_result",
          "data": {
            "text/plain": [
              "pandas.core.series.Series"
            ]
          },
          "metadata": {
            "tags": []
          },
          "execution_count": 5
        }
      ]
    },
    {
      "cell_type": "code",
      "metadata": {
        "id": "27mymN2kxu_q",
        "colab_type": "code",
        "outputId": "6617fc4a-3ea5-475b-86a8-b5f583448c0e",
        "colab": {
          "base_uri": "https://localhost:8080/",
          "height": 119
        }
      },
      "source": [
        "df_loc.head()"
      ],
      "execution_count": 0,
      "outputs": [
        {
          "output_type": "execute_result",
          "data": {
            "text/plain": [
              "0    Sopore, Jammu And Kashmir\n",
              "1    Kulgam, Jammu And Kashmir\n",
              "2         Southampton, England\n",
              "3                          NaN\n",
              "4              FORT OF ISLAM🇵🇰\n",
              "Name: location, dtype: object"
            ]
          },
          "metadata": {
            "tags": []
          },
          "execution_count": 8
        }
      ]
    },
    {
      "cell_type": "code",
      "metadata": {
        "id": "muSGMoH6xxJg",
        "colab_type": "code",
        "colab": {}
      },
      "source": [
        "loc = pd.read_csv('location - Sheet1 (2).csv')"
      ],
      "execution_count": 0,
      "outputs": []
    },
    {
      "cell_type": "code",
      "metadata": {
        "id": "CnqTKhPSD1kp",
        "colab_type": "code",
        "outputId": "040e1bc0-886b-4272-96fd-7fbb69b7a193",
        "colab": {
          "base_uri": "https://localhost:8080/",
          "height": 204
        }
      },
      "source": [
        "loc.head()"
      ],
      "execution_count": 0,
      "outputs": [
        {
          "output_type": "execute_result",
          "data": {
            "text/html": [
              "<div>\n",
              "<style scoped>\n",
              "    .dataframe tbody tr th:only-of-type {\n",
              "        vertical-align: middle;\n",
              "    }\n",
              "\n",
              "    .dataframe tbody tr th {\n",
              "        vertical-align: top;\n",
              "    }\n",
              "\n",
              "    .dataframe thead th {\n",
              "        text-align: right;\n",
              "    }\n",
              "</style>\n",
              "<table border=\"1\" class=\"dataframe\">\n",
              "  <thead>\n",
              "    <tr style=\"text-align: right;\">\n",
              "      <th></th>\n",
              "      <th>location</th>\n",
              "      <th>tweets</th>\n",
              "      <th>code</th>\n",
              "    </tr>\n",
              "  </thead>\n",
              "  <tbody>\n",
              "    <tr>\n",
              "      <th>0</th>\n",
              "      <td>India</td>\n",
              "      <td>9876</td>\n",
              "      <td>IND</td>\n",
              "    </tr>\n",
              "    <tr>\n",
              "      <th>1</th>\n",
              "      <td>Pakistan</td>\n",
              "      <td>2836</td>\n",
              "      <td>PAK</td>\n",
              "    </tr>\n",
              "    <tr>\n",
              "      <th>2</th>\n",
              "      <td>United Kingdom</td>\n",
              "      <td>886</td>\n",
              "      <td>UK</td>\n",
              "    </tr>\n",
              "    <tr>\n",
              "      <th>3</th>\n",
              "      <td>USA</td>\n",
              "      <td>484</td>\n",
              "      <td>USA</td>\n",
              "    </tr>\n",
              "    <tr>\n",
              "      <th>4</th>\n",
              "      <td>UAE</td>\n",
              "      <td>206</td>\n",
              "      <td>UAE</td>\n",
              "    </tr>\n",
              "  </tbody>\n",
              "</table>\n",
              "</div>"
            ],
            "text/plain": [
              "          location  tweets code\n",
              "0            India    9876  IND\n",
              "1         Pakistan    2836  PAK\n",
              "2  United Kingdom      886   UK\n",
              "3              USA     484  USA\n",
              "4              UAE     206  UAE"
            ]
          },
          "metadata": {
            "tags": []
          },
          "execution_count": 31
        }
      ]
    },
    {
      "cell_type": "code",
      "metadata": {
        "id": "9EWPYLFKE4hx",
        "colab_type": "code",
        "colab": {}
      },
      "source": [
        "import chart_studio.plotly as py\n",
        "import plotly.graph_objs as go\n",
        "from plotly.offline import download_plotlyjs,init_notebook_mode,plot,iplot"
      ],
      "execution_count": 0,
      "outputs": []
    },
    {
      "cell_type": "code",
      "metadata": {
        "id": "WOm5moUfFU1g",
        "colab_type": "code",
        "outputId": "89266f12-eda3-4ab6-8b0d-0f675b8952bc",
        "colab": {
          "base_uri": "https://localhost:8080/",
          "height": 17
        }
      },
      "source": [
        "init_notebook_mode(connected=True)"
      ],
      "execution_count": 0,
      "outputs": [
        {
          "output_type": "display_data",
          "data": {
            "text/html": [
              "        <script type=\"text/javascript\">\n",
              "        window.PlotlyConfig = {MathJaxConfig: 'local'};\n",
              "        if (window.MathJax) {MathJax.Hub.Config({SVG: {font: \"STIX-Web\"}});}\n",
              "        if (typeof require !== 'undefined') {\n",
              "        require.undef(\"plotly\");\n",
              "        requirejs.config({\n",
              "            paths: {\n",
              "                'plotly': ['https://cdn.plot.ly/plotly-latest.min']\n",
              "            }\n",
              "        });\n",
              "        require(['plotly'], function(Plotly) {\n",
              "            window._Plotly = Plotly;\n",
              "        });\n",
              "        }\n",
              "        </script>\n",
              "        "
            ]
          },
          "metadata": {
            "tags": []
          }
        }
      ]
    },
    {
      "cell_type": "code",
      "metadata": {
        "id": "0AzcuMShFsS1",
        "colab_type": "code",
        "colab": {}
      },
      "source": [
        "data = dict( type = 'choropleth',\n",
        "            locations = loc['code'],\n",
        "            z = loc['tweets'],\n",
        "            text = loc['location'],\n",
        "            colorbar = {'title': 'number of tweets'} \n",
        ")"
      ],
      "execution_count": 0,
      "outputs": []
    },
    {
      "cell_type": "code",
      "metadata": {
        "id": "B9FqiUc8Ge_b",
        "colab_type": "code",
        "colab": {}
      },
      "source": [
        "layout = dict(geo = dict(scope = 'world'))"
      ],
      "execution_count": 0,
      "outputs": []
    },
    {
      "cell_type": "code",
      "metadata": {
        "id": "3km8oPtyHC49",
        "colab_type": "code",
        "colab": {}
      },
      "source": [
        "col_map = go.Figure(data = [data],layout = layout)"
      ],
      "execution_count": 0,
      "outputs": []
    },
    {
      "cell_type": "code",
      "metadata": {
        "id": "iaRO4LyGKJyL",
        "colab_type": "code",
        "colab": {}
      },
      "source": [
        "df = pd.read_csv('fs (2).csv')"
      ],
      "execution_count": 0,
      "outputs": []
    },
    {
      "cell_type": "code",
      "metadata": {
        "id": "wsMLNOa4xs05",
        "colab_type": "code",
        "outputId": "b2c08fdb-5c23-4ad2-fda0-a62037b75d4a",
        "colab": {
          "base_uri": "https://localhost:8080/",
          "height": 204
        }
      },
      "source": [
        "df.head()"
      ],
      "execution_count": 0,
      "outputs": [
        {
          "output_type": "execute_result",
          "data": {
            "text/html": [
              "<div>\n",
              "<style scoped>\n",
              "    .dataframe tbody tr th:only-of-type {\n",
              "        vertical-align: middle;\n",
              "    }\n",
              "\n",
              "    .dataframe tbody tr th {\n",
              "        vertical-align: top;\n",
              "    }\n",
              "\n",
              "    .dataframe thead th {\n",
              "        text-align: right;\n",
              "    }\n",
              "</style>\n",
              "<table border=\"1\" class=\"dataframe\">\n",
              "  <thead>\n",
              "    <tr style=\"text-align: right;\">\n",
              "      <th></th>\n",
              "      <th>source</th>\n",
              "      <th>target</th>\n",
              "    </tr>\n",
              "  </thead>\n",
              "  <tbody>\n",
              "    <tr>\n",
              "      <th>0</th>\n",
              "      <td>hasanminhaj</td>\n",
              "      <td>chrissyteigen</td>\n",
              "    </tr>\n",
              "    <tr>\n",
              "      <th>1</th>\n",
              "      <td>hasanminhaj</td>\n",
              "      <td>mitchrichmond23</td>\n",
              "    </tr>\n",
              "    <tr>\n",
              "      <th>2</th>\n",
              "      <td>hasanminhaj</td>\n",
              "      <td>ninaemlemdi</td>\n",
              "    </tr>\n",
              "    <tr>\n",
              "      <th>3</th>\n",
              "      <td>hasanminhaj</td>\n",
              "      <td>Jon_Favreau</td>\n",
              "    </tr>\n",
              "    <tr>\n",
              "      <th>4</th>\n",
              "      <td>hasanminhaj</td>\n",
              "      <td>drsanjaygupta</td>\n",
              "    </tr>\n",
              "  </tbody>\n",
              "</table>\n",
              "</div>"
            ],
            "text/plain": [
              "        source           target\n",
              "0  hasanminhaj    chrissyteigen\n",
              "1  hasanminhaj  mitchrichmond23\n",
              "2  hasanminhaj      ninaemlemdi\n",
              "3  hasanminhaj      Jon_Favreau\n",
              "4  hasanminhaj    drsanjaygupta"
            ]
          },
          "metadata": {
            "tags": []
          },
          "execution_count": 3
        }
      ]
    },
    {
      "cell_type": "code",
      "metadata": {
        "id": "CsNt_dK2xt2X",
        "colab_type": "code",
        "colab": {}
      },
      "source": [
        "import networkx as nx\n",
        "import operator"
      ],
      "execution_count": 0,
      "outputs": []
    },
    {
      "cell_type": "code",
      "metadata": {
        "id": "8yk-jNYyx05-",
        "colab_type": "code",
        "colab": {}
      },
      "source": [
        "G=nx.from_pandas_edgelist(df)"
      ],
      "execution_count": 0,
      "outputs": []
    },
    {
      "cell_type": "code",
      "metadata": {
        "id": "Y-2Ogaq9x3Pz",
        "colab_type": "code",
        "outputId": "dfd11c2f-1cd9-46dc-ebb2-5970588227a0",
        "colab": {
          "base_uri": "https://localhost:8080/",
          "height": 54
        }
      },
      "source": [
        "#nodes ranking on basis of betweenness centrality\n",
        "x=nx.betweenness_centrality(G)\n",
        "sorted_x=sorted(x.items(),key=operator.itemgetter(1),reverse=True)\n",
        "print(sorted_x)"
      ],
      "execution_count": 0,
      "outputs": [
        {
          "output_type": "stream",
          "text": [
            "[('hasanminhaj', 0.7609133541139945), ('chrissyteigen', 0.0700067734684188), ('TheEllenShow', 0.043922462877106855), ('jimmykimmel', 0.02176666531101136), ('tomhanks', 0.020954428849338808), ('voxdotcom', 0.011088531333010078), ('TVietor08', 0.004684180065892571), ('TiffanyHaddish', 0.003749664779034542), ('BoysClubNY', 0.0036894641717296174), ('gabegundacker', 0.0027603202631398117), ('Casey', 0.002412365666768121), ('patriotact', 0.0023989496178792955), ('drsanjaygupta', 0.00216505609838807), ('BernieSanders', 0.0018988079484462625), ('sethmeyers', 0.0018386314318468537), ('Variety', 0.001803821104506682), ('MrGeorgeWallace', 0.0017827787863026853), ('iamjohnoliver', 0.0016840520751473641), ('SenSanders', 0.0016170532953740005), ('MattGertz', 0.001586149305925721), ('hodakatebi', 0.0014076734494967579), ('SacramentoKings', 0.0013983533870751915), ('joshrogin', 0.001395486754114396), ('AnandWrites', 0.0012282715957665153), ('chancetherapper', 0.0009099076497484434), ('ianbremmer', 0.0008243242352116511), ('janellejcomic', 0.000769581921837561), ('KimKap', 0.0006951256873100958), ('BlazerRamon', 0.0006411653300751045), ('ringer', 0.0006147813304768192), ('BergerWorld', 0.0006051639811038308), ('BRANDONWARDELL', 0.0005363050402210803), ('TheDailyShow', 0.0004324388762105495), ('MsEmmaBowman', 0.00036324281978248127), ('JessicaPilot212', 0.0003627199394803347), ('anitakumar01', 0.00033480088555276535), ('dopequeenpheebs', 0.00029529331268654), ('robinthede', 0.000291434210310348), ('tedtremper', 0.000280034014996421), ('garyvee', 0.00026668572362577113), ('ramy', 0.0002630944944706322), ('dpmeyer', 0.0002567478609057456), ('hodgman', 0.00024848820238028554), ('Gladwell', 0.0002245844679431507), ('rabiasquared', 0.00020777859852054206), ('amritsingh', 0.00020536656069101313), ('Trevornoah', 0.00018510992095689132), ('NPR', 0.00017106306656609045), ('solomongeorgio', 0.00016844549615622036), ('mehdirhasan', 0.00015313599509286094), ('BarackObama', 0.00015131006862744846), ('JustinTrudeau', 0.00015106394048233944), ('sophchang', 0.0001245691790804573), ('aspiegelnpr', 0.00012027531570821457), ('paulwdowns', 0.00011613200569967488), ('davidiserson', 0.00010629912354618857), ('THEKIDMERO', 0.00010129490392648287), ('ACLU', 9.861772276438973e-05), ('mileskahn', 9.735264873710412e-05), ('BKBMG', 8.909338766877352e-05), ('nytimes', 8.798912112482965e-05), ('raminhedayati', 8.605975856643286e-05), ('DaveedDiggs', 8.537817654359007e-05), ('philiplord', 7.315166870905644e-05), ('iJesseWilliams', 7.187124637769988e-05), ('jordanklepper', 6.442926420860386e-05), ('maddow', 5.761064389654601e-05), ('larrywilmore', 5.566140299713363e-05), ('stevejang', 5.384131323980948e-05), ('JSim07', 5.244525128474132e-05), ('OnePerfectShot', 5.104572397805481e-05), ('RoryAlbanese', 4.841640884873967e-05), ('PreetBharara', 4.8050195605462745e-05), ('Apey', 4.368267579284251e-05), ('almadrigal', 4.013053919068957e-05), ('morninggloria', 3.888862112546323e-05), ('StephenAtHome', 3.537000061971125e-05), ('Sethrogen', 3.533363386285164e-05), ('franklinleonard', 3.53027300384483e-05), ('TheDweck', 3.390833701808507e-05), ('billburr', 3.330670999843932e-05), ('JenaFriedman', 3.1456082207961906e-05), ('HallieHaglund', 2.639458842466361e-05), ('rianjohnson', 2.5136482843249762e-05), ('katepurchase', 2.5040933578725425e-05), ('alicewetterlund', 2.4220731927498846e-05), ('MamoudouNDiaye', 2.3878226267422944e-05), ('billyeichner', 2.2526908186195387e-05), ('goodreads', 1.984334403617906e-05), ('DevDell', 1.930380332631122e-05), ('mattkoff', 1.897569848697668e-05), ('AdamLowitt', 1.8579599876592355e-05), ('hopesolo', 1.718378739055431e-05), ('heyrubes_', 1.7132668918383203e-05), ('realDonaldTrump', 1.6516760877663134e-05), ('Kaepernick7', 1.617083835128948e-05), ('nbcsnl', 1.5574513451559007e-05), ('ComedyCellarUSA', 1.5136736001397656e-05), ('VanJones68', 1.4995666954511433e-05), ('chrislhayes', 1.4665895156595593e-05), ('thatchriskelly', 1.3805205226716925e-05), ('colbertlateshow', 1.3645889820164179e-05), ('dmaq1', 1.3575605680868838e-05), ('kendricklamar', 1.306203250207999e-05), ('JordanPeele', 1.2642248927815788e-05), ('telfordk', 1.2591001312805825e-05), ('mallika_rao', 1.232247284878864e-05), ('tedalexandro', 1.226777260611847e-05), ('JohnLeguizamo', 1.1233263417463907e-05), ('roywoodjr', 1.1144106765513224e-05), ('EugeneMirman', 1.1006591771827229e-05), ('NickKristof', 1.066654732068266e-05), ('LewisHowes', 1.0276075768754836e-05), ('oldmanebro', 1.0097130247201296e-05), ('AOC', 9.447681252192531e-06), ('yunamusic', 8.938467358365788e-06), ('Andrea_Simmons', 8.8790716282876e-06), ('AymanM', 8.8790716282876e-06), ('graceofwrath', 8.862795516930856e-06), ('sammorril', 8.62944143019331e-06), ('brokemogul', 8.553580922001976e-06), ('ingridnilsen', 8.35421888053467e-06), ('RonanFarrow', 8.120325179420287e-06), ('lsarsour', 7.404875825928458e-06), ('DanAmira', 7.40040613931577e-06), ('ChrisGethard', 7.284903291366819e-06), ('Lin_Manuel', 7.234410759671279e-06), ('iffykaysar', 7.110115514349785e-06), ('edgarwright', 7.074667821930717e-06), ('aliamjadrizvi', 6.872242962420031e-06), ('DreamsickJustin', 6.7783094098883585e-06), ('NateParker', 6.613756613756614e-06), ('FullFrontalSamB', 6.265375704550267e-06), ('baluchx', 6.086645184389545e-06), ('ava', 5.630620582473901e-06), ('SopanDeb', 5.6146860658138855e-06), ('ismat', 5.341512007024473e-06), ('Complex', 5.203871448430214e-06), ('JimGaffigan', 4.897218572855033e-06), ('davidfolkenflik', 4.400883160281657e-06), ('GlitterCheese', 4.2964554242749735e-06), ('isaiahlester', 4.22683693360385e-06), ('TessaThompson_x', 4.2253068568858045e-06), ('brennanshroff', 4.223909830317153e-06), ('N_C_B', 4.177109440267335e-06), ('ambarella', 3.893349758011412e-06), ('Zeyba', 3.872528543581175e-06), ('ezraklein', 3.8041532402434658e-06), ('ColinJost', 3.550948044534953e-06), ('bejohnce', 3.5178434301241316e-06), ('SheilaVee', 3.491275052531134e-06), ('eveewing', 3.4809245335561126e-06), ('mandamanda___', 3.4177094792018828e-06), ('kathygriffin', 3.388487942263686e-06), ('VaynerMedia', 3.379307481955406e-06), ('MrChadCarter', 3.3362740742603444e-06), ('SarahTreem', 3.313572392519761e-06), ('djkhaled', 3.242232565540837e-06), ('davidrocknyc', 3.1328320802005014e-06), ('jinajones', 3.1328320802005014e-06), ('Lilly', 3.122121543174175e-06), ('farantahir_', 3.113845219108377e-06), ('ChrisEvans', 3.0041681744468123e-06), ('ditzkoff', 2.865961199294533e-06), ('jennyhan', 2.819548872180451e-06), ('alexwagner', 2.5784331155883606e-06), ('SheaSerrano', 2.5303643724696356e-06), ('johnlegend', 2.5193490017951055e-06), ('joshgondelman', 2.5062656641604014e-06), ('zainabjohnson', 2.5062656641604014e-06), ('thismyshow', 2.425936636462952e-06), ('Krewella', 2.3496240601503762e-06), ('MB3FIVE', 2.2974101921470347e-06), ('humansofny', 2.2974101921470347e-06), ('iamledgin', 2.2463027013877826e-06), ('kenjeong', 2.018936229462545e-06), ('tomsegura', 2.0021859159176136e-06), ('mikehofman', 1.8399172534510878e-06), ('mrmedina', 1.7901897601145722e-06), ('JayPharoah', 1.701085292416562e-06), ('TheSamhita', 1.5829046299960429e-06), ('alyankovic', 1.5546384758889704e-06), ('zachdilanzo', 1.4005676429398778e-06), ('LastWeekTonight', 1.392369813422445e-06), ('rameswaram', 1.392369813422445e-06), ('seanseaevans', 1.342642320085929e-06), ('michaelsmith', 1.2866988900823486e-06), ('shresnik', 1.266216169714905e-06), ('StephenRDaw', 1.266216169714905e-06), ('GBerlanti', 1.266216169714905e-06), ('pronounced_ing', 1.2531328320802007e-06), ('tompapa', 1.2531328320802007e-06), ('jsmooth995', 1.2531328320802007e-06), ('mholland85', 1.2043839576056847e-06), ('mattingebretson', 1.1816822758651012e-06), ('jamesmiglehart', 1.1816822758651012e-06), ('amirkingkhan', 1.1392116655274551e-06), ('BenSPLATT', 1.1236668669724995e-06), ('jk_rowling', 1.1236668669724995e-06), ('priyankachopra', 1.1070910358603275e-06), ('AMANI2020', 1.1070910358603275e-06), ('prattprattpratt', 1.097983052870271e-06), ('HillaryClinton', 1.0442773600668338e-06), ('CarmichaelDave', 1.0442773600668338e-06), ('jonesinforjason', 1.0442773600668338e-06), ('nathanfielder', 9.862619511742318e-07), ('JensenKarp', 9.862619511742318e-07), ('GQMagazine', 9.639483323693851e-07), ('NinaDavuluri', 9.639483323693851e-07), ('talkhoops', 9.639483323693851e-07), ('anildash', 8.950948800572861e-07), ('MarkRuffalo', 7.371369600471768e-07), ('AvanJogia', 7.21375807940905e-07), ('MRPORTERLIVE', 6.595435958316845e-07), ('showmetheravi', 6.265664160401003e-07), ('melissamccarthy', 5.967299200381908e-07), ('Samanth_S', 5.448403617740002e-07), ('StephenKing', 5.012531328320803e-07), ('deray', 5.012531328320803e-07), ('iamsambee', 5.012531328320803e-07), ('A24', 4.64123271140815e-07), ('RickFamuyiwa', 4.64123271140815e-07), ('gkhamba', 4.64123271140815e-07), ('electrolemon', 4.64123271140815e-07), ('AkilahObviously', 4.64123271140815e-07), ('jaboukie', 4.4754744002864304e-07), ('jeremysliew', 4.4754744002864304e-07), ('arturodraws', 4.4754744002864304e-07), ('BarryJenkins', 4.4754744002864304e-07), ('ColeEscola', 3.9160401002506267e-07), ('abrahamjoseph', 3.297717979158422e-07), ('bfishbfish', 3.297717979158422e-07), ('fakedansavage', 3.297717979158422e-07), ('mitchrichmond23', 0.0), ('ninaemlemdi', 0.0), ('Jon_Favreau', 0.0), ('JasonSCampbell', 0.0), ('jkbjournalist', 0.0), ('SarahxAnwer', 0.0), ('martinandanar', 0.0), ('johnaugust', 0.0), ('55buckets', 0.0), ('BetsyHodges', 0.0), ('leeunkrich', 0.0), ('bessbell', 0.0), ('petrodraiz', 0.0), ('chamath', 0.0), ('adriangrenier', 0.0), ('jessetyler', 0.0), ('perlmutations', 0.0), ('jonnysun', 0.0), ('nikolajcw', 0.0), ('GabbySidibe', 0.0), ('adampally', 0.0), ('JasonRitter', 0.0), ('zach_r1ce', 0.0), ('Genius', 0.0), ('brandonjinx', 0.0), ('jackwhitehall', 0.0), ('russellhoward', 0.0), ('dstfelix', 0.0), ('yogrishiramdev', 0.0), ('umxrshk', 0.0), ('kporzee', 0.0), ('EnesKanter', 0.0), ('jenflanz', 0.0), ('Jokoy', 0.0), ('RonnieFieg', 0.0), ('attell', 0.0), ('KobiLibii', 0.0), ('bananapeele', 0.0), ('knguyen', 0.0), ('franciaraisa', 0.0), ('BlairImani', 0.0), ('JHarden13', 0.0), ('vanitaguptaCR', 0.0), ('tannercolby', 0.0), ('elizacossio', 0.0), ('seanogallagher', 0.0), ('AnikKhan_', 0.0), ('GuzKhanOfficial', 0.0), ('dissectpodcast', 0.0), ('FaizaPatelBCJ', 0.0), ('Lefsetz', 0.0), ('rtsimp', 0.0), ('paulshipper', 0.0), ('Lilfilm', 0.0), ('Felonious_munk', 0.0), ('JuleykaLantigua', 0.0), ('vcunningham', 0.0), ('Reddsaidit', 0.0), ('eshagupta2811', 0.0), ('MMFlint', 0.0), ('heymichellelee', 0.0), ('elseed', 0.0), ('airfrance', 0.0), ('SamHeughan', 0.0), ('SusannaFogel', 0.0), ('MitchyD', 0.0), ('Kinglimaa', 0.0), ('thevirdas', 0.0), ('rakeshsatyal', 0.0), ('blamethelabel', 0.0), ('TonyRevolori', 0.0), ('MalPal711', 0.0), ('CariChampion', 0.0), ('MikeDrucker', 0.0), ('MekkiLeeper', 0.0), ('charltonbrooker', 0.0), ('ludwiggoransson', 0.0), ('RachelFeinstein', 0.0), ('EmilyeOberg', 0.0), ('levie', 0.0), ('EdgeofSports', 0.0), ('tySchmitt5', 0.0), ('MarkDuplass', 0.0), ('ajv', 0.0), ('finkd', 0.0), ('marquezjesso', 0.0), ('iamsrk', 0.0), ('declanwalsh', 0.0), ('RogueTerritory', 0.0), ('KingOfQueenz', 0.0), ('lildickytweets', 0.0), ('Vasu', 0.0), ('wfcgreen', 0.0), ('bcamp810', 0.0), ('HOUSE_of_WARIS', 0.0), ('ThaboSefolosha', 0.0), ('bomani_jones', 0.0), ('ATTACKATHLETICS', 0.0), ('DLeary0us', 0.0), ('UnitedBlackout', 0.0), ('LenaWaithe', 0.0), ('JeffreyGurian', 0.0), ('atifateeq', 0.0), ('MatthewModine', 0.0), ('Dreamville', 0.0), ('KillerMike', 0.0), ('ryanleslie', 0.0), ('HEIRMJ', 0.0), ('TheNarcicyst', 0.0), ('joshluber', 0.0), ('ayeshacurry', 0.0), ('MazMHussain', 0.0), ('michaelb4jordan', 0.0), ('MattHalfhill', 0.0), ('IanMcKellen', 0.0), ('iraglass', 0.0), ('El_Silvero', 0.0), ('JLaPuma', 0.0), ('AllOfItWNYC', 0.0), ('ShahanR', 0.0), ('GrantNapearshow', 0.0), ('EliseCz', 0.0), ('showtoones', 0.0), ('iamcolinquinn', 0.0), ('SpecialRepMC', 0.0), ('fannynordmark', 0.0), ('JRHavlan', 0.0), ('hugoandmarie', 0.0), ('IStandWithAhmed', 0.0), ('DesiLydic', 0.0), ('ronnychieng', 0.0), ('twitney', 0.0), ('mdotbrown', 0.0), ('PinnapplePower', 0.0), ('EasyPri', 0.0), ('marcecko', 0.0), ('eugcordero', 0.0), ('Iam1Cent', 0.0), ('ajjacobs', 0.0), ('TaheraHAhmad', 0.0), ('patthewanderer', 0.0), ('saladinahmed', 0.0), ('SamSpratt', 0.0), ('phlaimeaux', 0.0), ('AngeloLozada66', 0.0), ('rojoperezzz', 0.0), ('dherzog77', 0.0), ('VRam_21', 0.0), ('heavenrants', 0.0), ('rastphan', 0.0), ('ComedyGroupie', 0.0), ('chrizmillr', 0.0), ('YourAnonNews', 0.0), ('LuciaAniello', 0.0), ('Babyballs69', 0.0), ('paulfeig', 0.0), ('mojorojo', 0.0), ('BinaShah', 0.0), ('tejucole', 0.0), ('joncbenson', 0.0), ('robcorddry', 0.0), ('kristenschaaled', 0.0), ('danielradosh', 0.0), ('timcarvell', 0.0), ('AaronCouch', 0.0), ('GeorgeKiel3', 0.0), ('BENBALLER', 0.0), ('Mowjood', 0.0)]\n"
          ],
          "name": "stdout"
        }
      ]
    },
    {
      "cell_type": "code",
      "metadata": {
        "id": "0_TDPErox7CE",
        "colab_type": "code",
        "outputId": "7bef67d6-0f40-4029-b10f-355af8658fd4",
        "colab": {
          "base_uri": "https://localhost:8080/",
          "height": 54
        }
      },
      "source": [
        "#nodes ranking on basis of degree centrality\n",
        "y=nx.degree_centrality(G)\n",
        "sorted_y=sorted(y.items(),key=operator.itemgetter(1),reverse=True)\n",
        "print(sorted_x)"
      ],
      "execution_count": 0,
      "outputs": [
        {
          "output_type": "stream",
          "text": [
            "[('hasanminhaj', 0.7609133541139945), ('chrissyteigen', 0.0700067734684188), ('TheEllenShow', 0.043922462877106855), ('jimmykimmel', 0.02176666531101136), ('tomhanks', 0.020954428849338808), ('voxdotcom', 0.011088531333010078), ('TVietor08', 0.004684180065892571), ('TiffanyHaddish', 0.003749664779034542), ('BoysClubNY', 0.0036894641717296174), ('gabegundacker', 0.0027603202631398117), ('Casey', 0.002412365666768121), ('patriotact', 0.0023989496178792955), ('drsanjaygupta', 0.00216505609838807), ('BernieSanders', 0.0018988079484462625), ('sethmeyers', 0.0018386314318468537), ('Variety', 0.001803821104506682), ('MrGeorgeWallace', 0.0017827787863026853), ('iamjohnoliver', 0.0016840520751473641), ('SenSanders', 0.0016170532953740005), ('MattGertz', 0.001586149305925721), ('hodakatebi', 0.0014076734494967579), ('SacramentoKings', 0.0013983533870751915), ('joshrogin', 0.001395486754114396), ('AnandWrites', 0.0012282715957665153), ('chancetherapper', 0.0009099076497484434), ('ianbremmer', 0.0008243242352116511), ('janellejcomic', 0.000769581921837561), ('KimKap', 0.0006951256873100958), ('BlazerRamon', 0.0006411653300751045), ('ringer', 0.0006147813304768192), ('BergerWorld', 0.0006051639811038308), ('BRANDONWARDELL', 0.0005363050402210803), ('TheDailyShow', 0.0004324388762105495), ('MsEmmaBowman', 0.00036324281978248127), ('JessicaPilot212', 0.0003627199394803347), ('anitakumar01', 0.00033480088555276535), ('dopequeenpheebs', 0.00029529331268654), ('robinthede', 0.000291434210310348), ('tedtremper', 0.000280034014996421), ('garyvee', 0.00026668572362577113), ('ramy', 0.0002630944944706322), ('dpmeyer', 0.0002567478609057456), ('hodgman', 0.00024848820238028554), ('Gladwell', 0.0002245844679431507), ('rabiasquared', 0.00020777859852054206), ('amritsingh', 0.00020536656069101313), ('Trevornoah', 0.00018510992095689132), ('NPR', 0.00017106306656609045), ('solomongeorgio', 0.00016844549615622036), ('mehdirhasan', 0.00015313599509286094), ('BarackObama', 0.00015131006862744846), ('JustinTrudeau', 0.00015106394048233944), ('sophchang', 0.0001245691790804573), ('aspiegelnpr', 0.00012027531570821457), ('paulwdowns', 0.00011613200569967488), ('davidiserson', 0.00010629912354618857), ('THEKIDMERO', 0.00010129490392648287), ('ACLU', 9.861772276438973e-05), ('mileskahn', 9.735264873710412e-05), ('BKBMG', 8.909338766877352e-05), ('nytimes', 8.798912112482965e-05), ('raminhedayati', 8.605975856643286e-05), ('DaveedDiggs', 8.537817654359007e-05), ('philiplord', 7.315166870905644e-05), ('iJesseWilliams', 7.187124637769988e-05), ('jordanklepper', 6.442926420860386e-05), ('maddow', 5.761064389654601e-05), ('larrywilmore', 5.566140299713363e-05), ('stevejang', 5.384131323980948e-05), ('JSim07', 5.244525128474132e-05), ('OnePerfectShot', 5.104572397805481e-05), ('RoryAlbanese', 4.841640884873967e-05), ('PreetBharara', 4.8050195605462745e-05), ('Apey', 4.368267579284251e-05), ('almadrigal', 4.013053919068957e-05), ('morninggloria', 3.888862112546323e-05), ('StephenAtHome', 3.537000061971125e-05), ('Sethrogen', 3.533363386285164e-05), ('franklinleonard', 3.53027300384483e-05), ('TheDweck', 3.390833701808507e-05), ('billburr', 3.330670999843932e-05), ('JenaFriedman', 3.1456082207961906e-05), ('HallieHaglund', 2.639458842466361e-05), ('rianjohnson', 2.5136482843249762e-05), ('katepurchase', 2.5040933578725425e-05), ('alicewetterlund', 2.4220731927498846e-05), ('MamoudouNDiaye', 2.3878226267422944e-05), ('billyeichner', 2.2526908186195387e-05), ('goodreads', 1.984334403617906e-05), ('DevDell', 1.930380332631122e-05), ('mattkoff', 1.897569848697668e-05), ('AdamLowitt', 1.8579599876592355e-05), ('hopesolo', 1.718378739055431e-05), ('heyrubes_', 1.7132668918383203e-05), ('realDonaldTrump', 1.6516760877663134e-05), ('Kaepernick7', 1.617083835128948e-05), ('nbcsnl', 1.5574513451559007e-05), ('ComedyCellarUSA', 1.5136736001397656e-05), ('VanJones68', 1.4995666954511433e-05), ('chrislhayes', 1.4665895156595593e-05), ('thatchriskelly', 1.3805205226716925e-05), ('colbertlateshow', 1.3645889820164179e-05), ('dmaq1', 1.3575605680868838e-05), ('kendricklamar', 1.306203250207999e-05), ('JordanPeele', 1.2642248927815788e-05), ('telfordk', 1.2591001312805825e-05), ('mallika_rao', 1.232247284878864e-05), ('tedalexandro', 1.226777260611847e-05), ('JohnLeguizamo', 1.1233263417463907e-05), ('roywoodjr', 1.1144106765513224e-05), ('EugeneMirman', 1.1006591771827229e-05), ('NickKristof', 1.066654732068266e-05), ('LewisHowes', 1.0276075768754836e-05), ('oldmanebro', 1.0097130247201296e-05), ('AOC', 9.447681252192531e-06), ('yunamusic', 8.938467358365788e-06), ('Andrea_Simmons', 8.8790716282876e-06), ('AymanM', 8.8790716282876e-06), ('graceofwrath', 8.862795516930856e-06), ('sammorril', 8.62944143019331e-06), ('brokemogul', 8.553580922001976e-06), ('ingridnilsen', 8.35421888053467e-06), ('RonanFarrow', 8.120325179420287e-06), ('lsarsour', 7.404875825928458e-06), ('DanAmira', 7.40040613931577e-06), ('ChrisGethard', 7.284903291366819e-06), ('Lin_Manuel', 7.234410759671279e-06), ('iffykaysar', 7.110115514349785e-06), ('edgarwright', 7.074667821930717e-06), ('aliamjadrizvi', 6.872242962420031e-06), ('DreamsickJustin', 6.7783094098883585e-06), ('NateParker', 6.613756613756614e-06), ('FullFrontalSamB', 6.265375704550267e-06), ('baluchx', 6.086645184389545e-06), ('ava', 5.630620582473901e-06), ('SopanDeb', 5.6146860658138855e-06), ('ismat', 5.341512007024473e-06), ('Complex', 5.203871448430214e-06), ('JimGaffigan', 4.897218572855033e-06), ('davidfolkenflik', 4.400883160281657e-06), ('GlitterCheese', 4.2964554242749735e-06), ('isaiahlester', 4.22683693360385e-06), ('TessaThompson_x', 4.2253068568858045e-06), ('brennanshroff', 4.223909830317153e-06), ('N_C_B', 4.177109440267335e-06), ('ambarella', 3.893349758011412e-06), ('Zeyba', 3.872528543581175e-06), ('ezraklein', 3.8041532402434658e-06), ('ColinJost', 3.550948044534953e-06), ('bejohnce', 3.5178434301241316e-06), ('SheilaVee', 3.491275052531134e-06), ('eveewing', 3.4809245335561126e-06), ('mandamanda___', 3.4177094792018828e-06), ('kathygriffin', 3.388487942263686e-06), ('VaynerMedia', 3.379307481955406e-06), ('MrChadCarter', 3.3362740742603444e-06), ('SarahTreem', 3.313572392519761e-06), ('djkhaled', 3.242232565540837e-06), ('davidrocknyc', 3.1328320802005014e-06), ('jinajones', 3.1328320802005014e-06), ('Lilly', 3.122121543174175e-06), ('farantahir_', 3.113845219108377e-06), ('ChrisEvans', 3.0041681744468123e-06), ('ditzkoff', 2.865961199294533e-06), ('jennyhan', 2.819548872180451e-06), ('alexwagner', 2.5784331155883606e-06), ('SheaSerrano', 2.5303643724696356e-06), ('johnlegend', 2.5193490017951055e-06), ('joshgondelman', 2.5062656641604014e-06), ('zainabjohnson', 2.5062656641604014e-06), ('thismyshow', 2.425936636462952e-06), ('Krewella', 2.3496240601503762e-06), ('MB3FIVE', 2.2974101921470347e-06), ('humansofny', 2.2974101921470347e-06), ('iamledgin', 2.2463027013877826e-06), ('kenjeong', 2.018936229462545e-06), ('tomsegura', 2.0021859159176136e-06), ('mikehofman', 1.8399172534510878e-06), ('mrmedina', 1.7901897601145722e-06), ('JayPharoah', 1.701085292416562e-06), ('TheSamhita', 1.5829046299960429e-06), ('alyankovic', 1.5546384758889704e-06), ('zachdilanzo', 1.4005676429398778e-06), ('LastWeekTonight', 1.392369813422445e-06), ('rameswaram', 1.392369813422445e-06), ('seanseaevans', 1.342642320085929e-06), ('michaelsmith', 1.2866988900823486e-06), ('shresnik', 1.266216169714905e-06), ('StephenRDaw', 1.266216169714905e-06), ('GBerlanti', 1.266216169714905e-06), ('pronounced_ing', 1.2531328320802007e-06), ('tompapa', 1.2531328320802007e-06), ('jsmooth995', 1.2531328320802007e-06), ('mholland85', 1.2043839576056847e-06), ('mattingebretson', 1.1816822758651012e-06), ('jamesmiglehart', 1.1816822758651012e-06), ('amirkingkhan', 1.1392116655274551e-06), ('BenSPLATT', 1.1236668669724995e-06), ('jk_rowling', 1.1236668669724995e-06), ('priyankachopra', 1.1070910358603275e-06), ('AMANI2020', 1.1070910358603275e-06), ('prattprattpratt', 1.097983052870271e-06), ('HillaryClinton', 1.0442773600668338e-06), ('CarmichaelDave', 1.0442773600668338e-06), ('jonesinforjason', 1.0442773600668338e-06), ('nathanfielder', 9.862619511742318e-07), ('JensenKarp', 9.862619511742318e-07), ('GQMagazine', 9.639483323693851e-07), ('NinaDavuluri', 9.639483323693851e-07), ('talkhoops', 9.639483323693851e-07), ('anildash', 8.950948800572861e-07), ('MarkRuffalo', 7.371369600471768e-07), ('AvanJogia', 7.21375807940905e-07), ('MRPORTERLIVE', 6.595435958316845e-07), ('showmetheravi', 6.265664160401003e-07), ('melissamccarthy', 5.967299200381908e-07), ('Samanth_S', 5.448403617740002e-07), ('StephenKing', 5.012531328320803e-07), ('deray', 5.012531328320803e-07), ('iamsambee', 5.012531328320803e-07), ('A24', 4.64123271140815e-07), ('RickFamuyiwa', 4.64123271140815e-07), ('gkhamba', 4.64123271140815e-07), ('electrolemon', 4.64123271140815e-07), ('AkilahObviously', 4.64123271140815e-07), ('jaboukie', 4.4754744002864304e-07), ('jeremysliew', 4.4754744002864304e-07), ('arturodraws', 4.4754744002864304e-07), ('BarryJenkins', 4.4754744002864304e-07), ('ColeEscola', 3.9160401002506267e-07), ('abrahamjoseph', 3.297717979158422e-07), ('bfishbfish', 3.297717979158422e-07), ('fakedansavage', 3.297717979158422e-07), ('mitchrichmond23', 0.0), ('ninaemlemdi', 0.0), ('Jon_Favreau', 0.0), ('JasonSCampbell', 0.0), ('jkbjournalist', 0.0), ('SarahxAnwer', 0.0), ('martinandanar', 0.0), ('johnaugust', 0.0), ('55buckets', 0.0), ('BetsyHodges', 0.0), ('leeunkrich', 0.0), ('bessbell', 0.0), ('petrodraiz', 0.0), ('chamath', 0.0), ('adriangrenier', 0.0), ('jessetyler', 0.0), ('perlmutations', 0.0), ('jonnysun', 0.0), ('nikolajcw', 0.0), ('GabbySidibe', 0.0), ('adampally', 0.0), ('JasonRitter', 0.0), ('zach_r1ce', 0.0), ('Genius', 0.0), ('brandonjinx', 0.0), ('jackwhitehall', 0.0), ('russellhoward', 0.0), ('dstfelix', 0.0), ('yogrishiramdev', 0.0), ('umxrshk', 0.0), ('kporzee', 0.0), ('EnesKanter', 0.0), ('jenflanz', 0.0), ('Jokoy', 0.0), ('RonnieFieg', 0.0), ('attell', 0.0), ('KobiLibii', 0.0), ('bananapeele', 0.0), ('knguyen', 0.0), ('franciaraisa', 0.0), ('BlairImani', 0.0), ('JHarden13', 0.0), ('vanitaguptaCR', 0.0), ('tannercolby', 0.0), ('elizacossio', 0.0), ('seanogallagher', 0.0), ('AnikKhan_', 0.0), ('GuzKhanOfficial', 0.0), ('dissectpodcast', 0.0), ('FaizaPatelBCJ', 0.0), ('Lefsetz', 0.0), ('rtsimp', 0.0), ('paulshipper', 0.0), ('Lilfilm', 0.0), ('Felonious_munk', 0.0), ('JuleykaLantigua', 0.0), ('vcunningham', 0.0), ('Reddsaidit', 0.0), ('eshagupta2811', 0.0), ('MMFlint', 0.0), ('heymichellelee', 0.0), ('elseed', 0.0), ('airfrance', 0.0), ('SamHeughan', 0.0), ('SusannaFogel', 0.0), ('MitchyD', 0.0), ('Kinglimaa', 0.0), ('thevirdas', 0.0), ('rakeshsatyal', 0.0), ('blamethelabel', 0.0), ('TonyRevolori', 0.0), ('MalPal711', 0.0), ('CariChampion', 0.0), ('MikeDrucker', 0.0), ('MekkiLeeper', 0.0), ('charltonbrooker', 0.0), ('ludwiggoransson', 0.0), ('RachelFeinstein', 0.0), ('EmilyeOberg', 0.0), ('levie', 0.0), ('EdgeofSports', 0.0), ('tySchmitt5', 0.0), ('MarkDuplass', 0.0), ('ajv', 0.0), ('finkd', 0.0), ('marquezjesso', 0.0), ('iamsrk', 0.0), ('declanwalsh', 0.0), ('RogueTerritory', 0.0), ('KingOfQueenz', 0.0), ('lildickytweets', 0.0), ('Vasu', 0.0), ('wfcgreen', 0.0), ('bcamp810', 0.0), ('HOUSE_of_WARIS', 0.0), ('ThaboSefolosha', 0.0), ('bomani_jones', 0.0), ('ATTACKATHLETICS', 0.0), ('DLeary0us', 0.0), ('UnitedBlackout', 0.0), ('LenaWaithe', 0.0), ('JeffreyGurian', 0.0), ('atifateeq', 0.0), ('MatthewModine', 0.0), ('Dreamville', 0.0), ('KillerMike', 0.0), ('ryanleslie', 0.0), ('HEIRMJ', 0.0), ('TheNarcicyst', 0.0), ('joshluber', 0.0), ('ayeshacurry', 0.0), ('MazMHussain', 0.0), ('michaelb4jordan', 0.0), ('MattHalfhill', 0.0), ('IanMcKellen', 0.0), ('iraglass', 0.0), ('El_Silvero', 0.0), ('JLaPuma', 0.0), ('AllOfItWNYC', 0.0), ('ShahanR', 0.0), ('GrantNapearshow', 0.0), ('EliseCz', 0.0), ('showtoones', 0.0), ('iamcolinquinn', 0.0), ('SpecialRepMC', 0.0), ('fannynordmark', 0.0), ('JRHavlan', 0.0), ('hugoandmarie', 0.0), ('IStandWithAhmed', 0.0), ('DesiLydic', 0.0), ('ronnychieng', 0.0), ('twitney', 0.0), ('mdotbrown', 0.0), ('PinnapplePower', 0.0), ('EasyPri', 0.0), ('marcecko', 0.0), ('eugcordero', 0.0), ('Iam1Cent', 0.0), ('ajjacobs', 0.0), ('TaheraHAhmad', 0.0), ('patthewanderer', 0.0), ('saladinahmed', 0.0), ('SamSpratt', 0.0), ('phlaimeaux', 0.0), ('AngeloLozada66', 0.0), ('rojoperezzz', 0.0), ('dherzog77', 0.0), ('VRam_21', 0.0), ('heavenrants', 0.0), ('rastphan', 0.0), ('ComedyGroupie', 0.0), ('chrizmillr', 0.0), ('YourAnonNews', 0.0), ('LuciaAniello', 0.0), ('Babyballs69', 0.0), ('paulfeig', 0.0), ('mojorojo', 0.0), ('BinaShah', 0.0), ('tejucole', 0.0), ('joncbenson', 0.0), ('robcorddry', 0.0), ('kristenschaaled', 0.0), ('danielradosh', 0.0), ('timcarvell', 0.0), ('AaronCouch', 0.0), ('GeorgeKiel3', 0.0), ('BENBALLER', 0.0), ('Mowjood', 0.0)]\n"
          ],
          "name": "stdout"
        }
      ]
    },
    {
      "cell_type": "code",
      "metadata": {
        "id": "p9Zlp-AKyGAn",
        "colab_type": "code",
        "outputId": "0de64875-10a1-4f78-ca27-2a49f4dec454",
        "colab": {
          "base_uri": "https://localhost:8080/",
          "height": 54
        }
      },
      "source": [
        "#nodes ranking on basis of eigenvector centrality\n",
        "z=nx.eigenvector_centrality(G)\n",
        "sorted_z=sorted(z.items(),key=operator.itemgetter(1),reverse=True)\n",
        "print(sorted_y)"
      ],
      "execution_count": 0,
      "outputs": [
        {
          "output_type": "stream",
          "text": [
            "[('hasanminhaj', 1.0), ('chrissyteigen', 0.425), ('TheEllenShow', 0.355), ('jimmykimmel', 0.2625), ('tomhanks', 0.2575), ('voxdotcom', 0.18), ('TVietor08', 0.13), ('TiffanyHaddish', 0.1225), ('BoysClubNY', 0.1125), ('sethmeyers', 0.1075), ('BernieSanders', 0.1), ('gabegundacker', 0.0975), ('MrGeorgeWallace', 0.0975), ('iamjohnoliver', 0.0975), ('joshrogin', 0.095), ('SenSanders', 0.095), ('Variety', 0.095), ('drsanjaygupta', 0.0925), ('Casey', 0.09), ('AnandWrites', 0.09), ('patriotact', 0.08750000000000001), ('MattGertz', 0.08), ('chancetherapper', 0.0725), ('SacramentoKings', 0.0675), ('hodakatebi', 0.0625), ('ianbremmer', 0.0625), ('BergerWorld', 0.0625), ('janellejcomic', 0.06), ('KimKap', 0.0575), ('MsEmmaBowman', 0.0575), ('ringer', 0.0575), ('TheDailyShow', 0.0575), ('JessicaPilot212', 0.0575), ('BRANDONWARDELL', 0.055), ('dopequeenpheebs', 0.0525), ('hodgman', 0.0525), ('BlazerRamon', 0.05), ('robinthede', 0.05), ('rabiasquared', 0.05), ('solomongeorgio', 0.0475), ('dpmeyer', 0.0475), ('tedtremper', 0.0475), ('anitakumar01', 0.045), ('Gladwell', 0.045), ('ramy', 0.045), ('BarackObama', 0.0425), ('aspiegelnpr', 0.0425), ('garyvee', 0.0425), ('mileskahn', 0.0425), ('Trevornoah', 0.0425), ('NPR', 0.04), ('mehdirhasan', 0.04), ('amritsingh', 0.0375), ('JustinTrudeau', 0.0375), ('raminhedayati', 0.0375), ('davidiserson', 0.035), ('paulwdowns', 0.035), ('philiplord', 0.0325), ('jordanklepper', 0.0325), ('ACLU', 0.03), ('nytimes', 0.03), ('maddow', 0.03), ('PreetBharara', 0.03), ('franklinleonard', 0.03), ('larrywilmore', 0.03), ('sophchang', 0.0275), ('Sethrogen', 0.0275), ('StephenAtHome', 0.0275), ('billyeichner', 0.0275), ('iJesseWilliams', 0.0275), ('DaveedDiggs', 0.0275), ('almadrigal', 0.0275), ('RoryAlbanese', 0.0275), ('BKBMG', 0.025), ('stevejang', 0.025), ('Apey', 0.025), ('JSim07', 0.025), ('colbertlateshow', 0.0225), ('DevDell', 0.0225), ('goodreads', 0.0225), ('billburr', 0.0225), ('JenaFriedman', 0.0225), ('morninggloria', 0.0225), ('AdamLowitt', 0.0225), ('THEKIDMERO', 0.02), ('TheDweck', 0.02), ('thatchriskelly', 0.02), ('edgarwright', 0.02), ('VanJones68', 0.02), ('hopesolo', 0.02), ('Andrea_Simmons', 0.02), ('oldmanebro', 0.02), ('AymanM', 0.02), ('heyrubes_', 0.02), ('HallieHaglund', 0.02), ('ComedyCellarUSA', 0.02), ('mattkoff', 0.02), ('OnePerfectShot', 0.02), ('alicewetterlund', 0.02), ('kathygriffin', 0.0175), ('JimGaffigan', 0.0175), ('aliamjadrizvi', 0.0175), ('ava', 0.0175), ('realDonaldTrump', 0.0175), ('JohnLeguizamo', 0.0175), ('DanAmira', 0.0175), ('LewisHowes', 0.0175), ('katepurchase', 0.0175), ('telfordk', 0.0175), ('JordanPeele', 0.0175), ('chrislhayes', 0.0175), ('Lin_Manuel', 0.0175), ('rianjohnson', 0.0175), ('tedalexandro', 0.0175), ('AOC', 0.015), ('johnlegend', 0.015), ('kenjeong', 0.015), ('tomsegura', 0.015), ('FullFrontalSamB', 0.015), ('nbcsnl', 0.015), ('ColinJost', 0.015), ('bejohnce', 0.015), ('MamoudouNDiaye', 0.015), ('Kaepernick7', 0.015), ('yunamusic', 0.015), ('mandamanda___', 0.015), ('mallika_rao', 0.015), ('alexwagner', 0.015), ('Lilly', 0.015), ('brokemogul', 0.015), ('kendricklamar', 0.015), ('NickKristof', 0.015), ('roywoodjr', 0.015), ('ChrisGethard', 0.015), ('GlitterCheese', 0.015), ('RonanFarrow', 0.015), ('graceofwrath', 0.015), ('sammorril', 0.015), ('brennanshroff', 0.015), ('ChrisEvans', 0.0125), ('SopanDeb', 0.0125), ('ezraklein', 0.0125), ('priyankachopra', 0.0125), ('alyankovic', 0.0125), ('GabbySidibe', 0.0125), ('JasonRitter', 0.0125), ('shresnik', 0.0125), ('JayPharoah', 0.0125), ('TheSamhita', 0.0125), ('attell', 0.0125), ('MB3FIVE', 0.0125), ('GQMagazine', 0.0125), ('zachdilanzo', 0.0125), ('Reddsaidit', 0.0125), ('mikehofman', 0.0125), ('iffykaysar', 0.0125), ('StephenRDaw', 0.0125), ('MikeDrucker', 0.0125), ('ditzkoff', 0.0125), ('iamledgin', 0.0125), ('Complex', 0.0125), ('DreamsickJustin', 0.0125), ('mholland85', 0.0125), ('farantahir_', 0.0125), ('isaiahlester', 0.0125), ('djkhaled', 0.0125), ('thismyshow', 0.0125), ('EugeneMirman', 0.0125), ('iamcolinquinn', 0.0125), ('showmetheravi', 0.0125), ('GBerlanti', 0.0125), ('prattprattpratt', 0.0125), ('ismat', 0.0125), ('MrChadCarter', 0.0125), ('TessaThompson_x', 0.0125), ('SarahTreem', 0.0125), ('baluchx', 0.0125), ('HillaryClinton', 0.01), ('dmaq1', 0.01), ('BetsyHodges', 0.01), ('bessbell', 0.01), ('adriangrenier', 0.01), ('jessetyler', 0.01), ('adampally', 0.01), ('SheilaVee', 0.01), ('jennyhan', 0.01), ('BlairImani', 0.01), ('AMANI2020', 0.01), ('elizacossio', 0.01), ('mattingebretson', 0.01), ('eveewing', 0.01), ('BarryJenkins', 0.01), ('BenSPLATT', 0.01), ('rakeshsatyal', 0.01), ('AvanJogia', 0.01), ('michaelsmith', 0.01), ('SheaSerrano', 0.01), ('jk_rowling', 0.01), ('RachelFeinstein', 0.01), ('VaynerMedia', 0.01), ('MarkDuplass', 0.01), ('seanseaevans', 0.01), ('Krewella', 0.01), ('Vasu', 0.01), ('ingridnilsen', 0.01), ('NateParker', 0.01), ('LenaWaithe', 0.01), ('nathanfielder', 0.01), ('davidfolkenflik', 0.01), ('JensenKarp', 0.01), ('IanMcKellen', 0.01), ('anildash', 0.01), ('NinaDavuluri', 0.01), ('abrahamjoseph', 0.01), ('ambarella', 0.01), ('ronnychieng', 0.01), ('humansofny', 0.01), ('ajjacobs', 0.01), ('melissamccarthy', 0.01), ('jamesmiglehart', 0.01), ('tompapa', 0.01), ('AngeloLozada66', 0.01), ('rastphan', 0.01), ('Zeyba', 0.01), ('lsarsour', 0.01), ('joshgondelman', 0.01), ('jonesinforjason', 0.01), ('MarkRuffalo', 0.0075), ('leeunkrich', 0.0075), ('perlmutations', 0.0075), ('nikolajcw', 0.0075), ('pronounced_ing', 0.0075), ('ColeEscola', 0.0075), ('jaboukie', 0.0075), ('jackwhitehall', 0.0075), ('Jokoy', 0.0075), ('N_C_B', 0.0075), ('franciaraisa', 0.0075), ('seanogallagher', 0.0075), ('LastWeekTonight', 0.0075), ('Samanth_S', 0.0075), ('GuzKhanOfficial', 0.0075), ('mrmedina', 0.0075), ('paulshipper', 0.0075), ('Felonious_munk', 0.0075), ('A24', 0.0075), ('jeremysliew', 0.0075), ('MMFlint', 0.0075), ('heymichellelee', 0.0075), ('arturodraws', 0.0075), ('StephenKing', 0.0075), ('SamHeughan', 0.0075), ('Kinglimaa', 0.0075), ('thevirdas', 0.0075), ('CariChampion', 0.0075), ('charltonbrooker', 0.0075), ('ajv', 0.0075), ('davidrocknyc', 0.0075), ('RickFamuyiwa', 0.0075), ('amirkingkhan', 0.0075), ('MRPORTERLIVE', 0.0075), ('bomani_jones', 0.0075), ('gkhamba', 0.0075), ('JeffreyGurian', 0.0075), ('KillerMike', 0.0075), ('ryanleslie', 0.0075), ('ayeshacurry', 0.0075), ('michaelb4jordan', 0.0075), ('rameswaram', 0.0075), ('ShahanR', 0.0075), ('CarmichaelDave', 0.0075), ('showtoones', 0.0075), ('electrolemon', 0.0075), ('bfishbfish', 0.0075), ('deray', 0.0075), ('fakedansavage', 0.0075), ('AkilahObviously', 0.0075), ('dherzog77', 0.0075), ('talkhoops', 0.0075), ('jsmooth995', 0.0075), ('ComedyGroupie', 0.0075), ('LuciaAniello', 0.0075), ('paulfeig', 0.0075), ('iamsambee', 0.0075), ('robcorddry', 0.0075), ('kristenschaaled', 0.0075), ('danielradosh', 0.0075), ('zainabjohnson', 0.0075), ('GeorgeKiel3', 0.0075), ('jinajones', 0.0075), ('Jon_Favreau', 0.005), ('JasonSCampbell', 0.005), ('petrodraiz', 0.005), ('jonnysun', 0.005), ('Genius', 0.005), ('brandonjinx', 0.005), ('dstfelix', 0.005), ('jenflanz', 0.005), ('KobiLibii', 0.005), ('bananapeele', 0.005), ('knguyen', 0.005), ('JHarden13', 0.005), ('vanitaguptaCR', 0.005), ('AnikKhan_', 0.005), ('dissectpodcast', 0.005), ('Lefsetz', 0.005), ('rtsimp', 0.005), ('JuleykaLantigua', 0.005), ('SusannaFogel', 0.005), ('MitchyD', 0.005), ('ludwiggoransson', 0.005), ('levie', 0.005), ('EdgeofSports', 0.005), ('tySchmitt5', 0.005), ('finkd', 0.005), ('marquezjesso', 0.005), ('declanwalsh', 0.005), ('RogueTerritory', 0.005), ('lildickytweets', 0.005), ('ThaboSefolosha', 0.005), ('DLeary0us', 0.005), ('UnitedBlackout', 0.005), ('Dreamville', 0.005), ('HEIRMJ', 0.005), ('TheNarcicyst', 0.005), ('joshluber', 0.005), ('MazMHussain', 0.005), ('iraglass', 0.005), ('GrantNapearshow', 0.005), ('SpecialRepMC', 0.005), ('fannynordmark', 0.005), ('JRHavlan', 0.005), ('twitney', 0.005), ('EasyPri', 0.005), ('rojoperezzz', 0.005), ('BinaShah', 0.005), ('tejucole', 0.005), ('joncbenson', 0.005), ('timcarvell', 0.005), ('BENBALLER', 0.005), ('Mowjood', 0.005), ('mitchrichmond23', 0.0025), ('ninaemlemdi', 0.0025), ('jkbjournalist', 0.0025), ('SarahxAnwer', 0.0025), ('martinandanar', 0.0025), ('johnaugust', 0.0025), ('55buckets', 0.0025), ('chamath', 0.0025), ('zach_r1ce', 0.0025), ('russellhoward', 0.0025), ('yogrishiramdev', 0.0025), ('umxrshk', 0.0025), ('kporzee', 0.0025), ('EnesKanter', 0.0025), ('RonnieFieg', 0.0025), ('tannercolby', 0.0025), ('FaizaPatelBCJ', 0.0025), ('Lilfilm', 0.0025), ('vcunningham', 0.0025), ('eshagupta2811', 0.0025), ('elseed', 0.0025), ('airfrance', 0.0025), ('blamethelabel', 0.0025), ('TonyRevolori', 0.0025), ('MalPal711', 0.0025), ('MekkiLeeper', 0.0025), ('EmilyeOberg', 0.0025), ('iamsrk', 0.0025), ('KingOfQueenz', 0.0025), ('wfcgreen', 0.0025), ('bcamp810', 0.0025), ('HOUSE_of_WARIS', 0.0025), ('ATTACKATHLETICS', 0.0025), ('atifateeq', 0.0025), ('MatthewModine', 0.0025), ('MattHalfhill', 0.0025), ('El_Silvero', 0.0025), ('JLaPuma', 0.0025), ('AllOfItWNYC', 0.0025), ('EliseCz', 0.0025), ('hugoandmarie', 0.0025), ('IStandWithAhmed', 0.0025), ('DesiLydic', 0.0025), ('mdotbrown', 0.0025), ('PinnapplePower', 0.0025), ('marcecko', 0.0025), ('eugcordero', 0.0025), ('Iam1Cent', 0.0025), ('TaheraHAhmad', 0.0025), ('patthewanderer', 0.0025), ('saladinahmed', 0.0025), ('SamSpratt', 0.0025), ('phlaimeaux', 0.0025), ('VRam_21', 0.0025), ('heavenrants', 0.0025), ('chrizmillr', 0.0025), ('YourAnonNews', 0.0025), ('Babyballs69', 0.0025), ('mojorojo', 0.0025), ('AaronCouch', 0.0025)]\n"
          ],
          "name": "stdout"
        }
      ]
    },
    {
      "cell_type": "code",
      "metadata": {
        "id": "bio79YTbyR4R",
        "colab_type": "code",
        "colab": {}
      },
      "source": [
        "import ndlib.models.ModelConfig as mc\n",
        "import ndlib.models.epidemics as ep\n",
        "from ndlib.viz.bokeh.MultiPlot import MultiPlot\n",
        "\n",
        "from bokeh.io import output_notebook,show\n",
        "from ndlib.viz.bokeh.DiffusionTrend import DiffusionTrend\n",
        "from ndlib.viz.bokeh.DiffusionPrevalence import DiffusionPrevalence"
      ],
      "execution_count": 0,
      "outputs": []
    },
    {
      "cell_type": "code",
      "metadata": {
        "id": "TkVTQNF0yO9a",
        "colab_type": "code",
        "outputId": "fbfb6a6e-85cd-4e95-8382-1b79cebc110e",
        "colab": {
          "base_uri": "https://localhost:8080/",
          "height": 535
        }
      },
      "source": [
        "#SIS Model\n",
        "vm=MultiPlot()\n",
        "\n",
        "G=nx.from_pandas_edgelist(df,create_using=nx.DiGraph())\n",
        "\n",
        "model=ep.SISModel(G)\n",
        "config=mc.Configuration()\n",
        "#supply the top 5 infected nodes of betweennes centrality \n",
        "infected_nodes=['hasanminhaj', 'chrissyteigen', 'TheEllenShow', 'jimmykimmel', 'tomhanks']\n",
        "\n",
        "config.add_model_parameter(\"beta\",0.05)\n",
        "config.add_model_parameter(\"lambda\",0.01)\n",
        "config.add_model_parameter(\"fraction_infected\",0.05)\n",
        "\n",
        "config.add_model_initial_configuration(\"Infected\",infected_nodes)\n",
        "\n",
        "  \n",
        "model.set_initial_status(config)\n",
        "iterations=model.iteration_bunch(10)\n",
        "print(model.get_info())\n",
        "\n",
        "trends=model.build_trends(iterations)\n",
        "#diffusion trend\n",
        "p1=DiffusionTrend(model,trends).plot(width=400,height=400)\n",
        "\n",
        "vm.add_plot(p1)\n",
        "\n",
        "m=vm.plot()\n",
        "output_notebook()\n",
        "show(m)"
      ],
      "execution_count": 0,
      "outputs": [
        {
          "output_type": "stream",
          "text": [
            "100%|██████████| 10/10 [00:00<00:00, 547.30it/s]"
          ],
          "name": "stderr"
        },
        {
          "output_type": "stream",
          "text": [
            "{'beta': 0.05, 'lambda': 0.01, 'fraction_infected': 0.05, 'tp_rate': 1}\n"
          ],
          "name": "stdout"
        },
        {
          "output_type": "stream",
          "text": [
            "\n",
            "BokehDeprecationWarning: 'legend' keyword is deprecated, use explicit 'legend_label', 'legend_field', or 'legend_group' keywords instead\n",
            "BokehDeprecationWarning: 'legend' keyword is deprecated, use explicit 'legend_label', 'legend_field', or 'legend_group' keywords instead\n"
          ],
          "name": "stderr"
        },
        {
          "output_type": "display_data",
          "data": {
            "application/javascript": [
              "\n",
              "(function(root) {\n",
              "  function now() {\n",
              "    return new Date();\n",
              "  }\n",
              "\n",
              "  var force = true;\n",
              "\n",
              "  if (typeof root._bokeh_onload_callbacks === \"undefined\" || force === true) {\n",
              "    root._bokeh_onload_callbacks = [];\n",
              "    root._bokeh_is_loading = undefined;\n",
              "  }\n",
              "\n",
              "  var JS_MIME_TYPE = 'application/javascript';\n",
              "  var HTML_MIME_TYPE = 'text/html';\n",
              "  var EXEC_MIME_TYPE = 'application/vnd.bokehjs_exec.v0+json';\n",
              "  var CLASS_NAME = 'output_bokeh rendered_html';\n",
              "\n",
              "  /**\n",
              "   * Render data to the DOM node\n",
              "   */\n",
              "  function render(props, node) {\n",
              "    var script = document.createElement(\"script\");\n",
              "    node.appendChild(script);\n",
              "  }\n",
              "\n",
              "  /**\n",
              "   * Handle when an output is cleared or removed\n",
              "   */\n",
              "  function handleClearOutput(event, handle) {\n",
              "    var cell = handle.cell;\n",
              "\n",
              "    var id = cell.output_area._bokeh_element_id;\n",
              "    var server_id = cell.output_area._bokeh_server_id;\n",
              "    // Clean up Bokeh references\n",
              "    if (id != null && id in Bokeh.index) {\n",
              "      Bokeh.index[id].model.document.clear();\n",
              "      delete Bokeh.index[id];\n",
              "    }\n",
              "\n",
              "    if (server_id !== undefined) {\n",
              "      // Clean up Bokeh references\n",
              "      var cmd = \"from bokeh.io.state import curstate; print(curstate().uuid_to_server['\" + server_id + \"'].get_sessions()[0].document.roots[0]._id)\";\n",
              "      cell.notebook.kernel.execute(cmd, {\n",
              "        iopub: {\n",
              "          output: function(msg) {\n",
              "            var id = msg.content.text.trim();\n",
              "            if (id in Bokeh.index) {\n",
              "              Bokeh.index[id].model.document.clear();\n",
              "              delete Bokeh.index[id];\n",
              "            }\n",
              "          }\n",
              "        }\n",
              "      });\n",
              "      // Destroy server and session\n",
              "      var cmd = \"import bokeh.io.notebook as ion; ion.destroy_server('\" + server_id + \"')\";\n",
              "      cell.notebook.kernel.execute(cmd);\n",
              "    }\n",
              "  }\n",
              "\n",
              "  /**\n",
              "   * Handle when a new output is added\n",
              "   */\n",
              "  function handleAddOutput(event, handle) {\n",
              "    var output_area = handle.output_area;\n",
              "    var output = handle.output;\n",
              "\n",
              "    // limit handleAddOutput to display_data with EXEC_MIME_TYPE content only\n",
              "    if ((output.output_type != \"display_data\") || (!output.data.hasOwnProperty(EXEC_MIME_TYPE))) {\n",
              "      return\n",
              "    }\n",
              "\n",
              "    var toinsert = output_area.element.find(\".\" + CLASS_NAME.split(' ')[0]);\n",
              "\n",
              "    if (output.metadata[EXEC_MIME_TYPE][\"id\"] !== undefined) {\n",
              "      toinsert[toinsert.length - 1].firstChild.textContent = output.data[JS_MIME_TYPE];\n",
              "      // store reference to embed id on output_area\n",
              "      output_area._bokeh_element_id = output.metadata[EXEC_MIME_TYPE][\"id\"];\n",
              "    }\n",
              "    if (output.metadata[EXEC_MIME_TYPE][\"server_id\"] !== undefined) {\n",
              "      var bk_div = document.createElement(\"div\");\n",
              "      bk_div.innerHTML = output.data[HTML_MIME_TYPE];\n",
              "      var script_attrs = bk_div.children[0].attributes;\n",
              "      for (var i = 0; i < script_attrs.length; i++) {\n",
              "        toinsert[toinsert.length - 1].firstChild.setAttribute(script_attrs[i].name, script_attrs[i].value);\n",
              "      }\n",
              "      // store reference to server id on output_area\n",
              "      output_area._bokeh_server_id = output.metadata[EXEC_MIME_TYPE][\"server_id\"];\n",
              "    }\n",
              "  }\n",
              "\n",
              "  function register_renderer(events, OutputArea) {\n",
              "\n",
              "    function append_mime(data, metadata, element) {\n",
              "      // create a DOM node to render to\n",
              "      var toinsert = this.create_output_subarea(\n",
              "        metadata,\n",
              "        CLASS_NAME,\n",
              "        EXEC_MIME_TYPE\n",
              "      );\n",
              "      this.keyboard_manager.register_events(toinsert);\n",
              "      // Render to node\n",
              "      var props = {data: data, metadata: metadata[EXEC_MIME_TYPE]};\n",
              "      render(props, toinsert[toinsert.length - 1]);\n",
              "      element.append(toinsert);\n",
              "      return toinsert\n",
              "    }\n",
              "\n",
              "    /* Handle when an output is cleared or removed */\n",
              "    events.on('clear_output.CodeCell', handleClearOutput);\n",
              "    events.on('delete.Cell', handleClearOutput);\n",
              "\n",
              "    /* Handle when a new output is added */\n",
              "    events.on('output_added.OutputArea', handleAddOutput);\n",
              "\n",
              "    /**\n",
              "     * Register the mime type and append_mime function with output_area\n",
              "     */\n",
              "    OutputArea.prototype.register_mime_type(EXEC_MIME_TYPE, append_mime, {\n",
              "      /* Is output safe? */\n",
              "      safe: true,\n",
              "      /* Index of renderer in `output_area.display_order` */\n",
              "      index: 0\n",
              "    });\n",
              "  }\n",
              "\n",
              "  // register the mime type if in Jupyter Notebook environment and previously unregistered\n",
              "  if (root.Jupyter !== undefined) {\n",
              "    var events = require('base/js/events');\n",
              "    var OutputArea = require('notebook/js/outputarea').OutputArea;\n",
              "\n",
              "    if (OutputArea.prototype.mime_types().indexOf(EXEC_MIME_TYPE) == -1) {\n",
              "      register_renderer(events, OutputArea);\n",
              "    }\n",
              "  }\n",
              "\n",
              "  \n",
              "  if (typeof (root._bokeh_timeout) === \"undefined\" || force === true) {\n",
              "    root._bokeh_timeout = Date.now() + 5000;\n",
              "    root._bokeh_failed_load = false;\n",
              "  }\n",
              "\n",
              "  var NB_LOAD_WARNING = {'data': {'text/html':\n",
              "     \"<div style='background-color: #fdd'>\\n\"+\n",
              "     \"<p>\\n\"+\n",
              "     \"BokehJS does not appear to have successfully loaded. If loading BokehJS from CDN, this \\n\"+\n",
              "     \"may be due to a slow or bad network connection. Possible fixes:\\n\"+\n",
              "     \"</p>\\n\"+\n",
              "     \"<ul>\\n\"+\n",
              "     \"<li>re-rerun `output_notebook()` to attempt to load from CDN again, or</li>\\n\"+\n",
              "     \"<li>use INLINE resources instead, as so:</li>\\n\"+\n",
              "     \"</ul>\\n\"+\n",
              "     \"<code>\\n\"+\n",
              "     \"from bokeh.resources import INLINE\\n\"+\n",
              "     \"output_notebook(resources=INLINE)\\n\"+\n",
              "     \"</code>\\n\"+\n",
              "     \"</div>\"}};\n",
              "\n",
              "  function display_loaded() {\n",
              "    var el = document.getElementById(null);\n",
              "    if (el != null) {\n",
              "      el.textContent = \"BokehJS is loading...\";\n",
              "    }\n",
              "    if (root.Bokeh !== undefined) {\n",
              "      if (el != null) {\n",
              "        el.textContent = \"BokehJS \" + root.Bokeh.version + \" successfully loaded.\";\n",
              "      }\n",
              "    } else if (Date.now() < root._bokeh_timeout) {\n",
              "      setTimeout(display_loaded, 100)\n",
              "    }\n",
              "  }\n",
              "\n",
              "\n",
              "  function run_callbacks() {\n",
              "    try {\n",
              "      root._bokeh_onload_callbacks.forEach(function(callback) {\n",
              "        if (callback != null)\n",
              "          callback();\n",
              "      });\n",
              "    } finally {\n",
              "      delete root._bokeh_onload_callbacks\n",
              "    }\n",
              "    console.debug(\"Bokeh: all callbacks have finished\");\n",
              "  }\n",
              "\n",
              "  function load_libs(css_urls, js_urls, callback) {\n",
              "    if (css_urls == null) css_urls = [];\n",
              "    if (js_urls == null) js_urls = [];\n",
              "\n",
              "    root._bokeh_onload_callbacks.push(callback);\n",
              "    if (root._bokeh_is_loading > 0) {\n",
              "      console.debug(\"Bokeh: BokehJS is being loaded, scheduling callback at\", now());\n",
              "      return null;\n",
              "    }\n",
              "    if (js_urls == null || js_urls.length === 0) {\n",
              "      run_callbacks();\n",
              "      return null;\n",
              "    }\n",
              "    console.debug(\"Bokeh: BokehJS not loaded, scheduling load and callback at\", now());\n",
              "    root._bokeh_is_loading = css_urls.length + js_urls.length;\n",
              "\n",
              "    function on_load() {\n",
              "      root._bokeh_is_loading--;\n",
              "      if (root._bokeh_is_loading === 0) {\n",
              "        console.debug(\"Bokeh: all BokehJS libraries/stylesheets loaded\");\n",
              "        run_callbacks()\n",
              "      }\n",
              "    }\n",
              "\n",
              "    function on_error() {\n",
              "      console.error(\"failed to load \" + url);\n",
              "    }\n",
              "\n",
              "    for (var i = 0; i < css_urls.length; i++) {\n",
              "      var url = css_urls[i];\n",
              "      const element = document.createElement(\"link\");\n",
              "      element.onload = on_load;\n",
              "      element.onerror = on_error;\n",
              "      element.rel = \"stylesheet\";\n",
              "      element.type = \"text/css\";\n",
              "      element.href = url;\n",
              "      console.debug(\"Bokeh: injecting link tag for BokehJS stylesheet: \", url);\n",
              "      document.body.appendChild(element);\n",
              "    }\n",
              "\n",
              "    for (var i = 0; i < js_urls.length; i++) {\n",
              "      var url = js_urls[i];\n",
              "      var element = document.createElement('script');\n",
              "      element.onload = on_load;\n",
              "      element.onerror = on_error;\n",
              "      element.async = false;\n",
              "      element.src = url;\n",
              "      console.debug(\"Bokeh: injecting script tag for BokehJS library: \", url);\n",
              "      document.head.appendChild(element);\n",
              "    }\n",
              "  };\n",
              "\n",
              "  function inject_raw_css(css) {\n",
              "    const element = document.createElement(\"style\");\n",
              "    element.appendChild(document.createTextNode(css));\n",
              "    document.body.appendChild(element);\n",
              "  }\n",
              "\n",
              "  \n",
              "  var js_urls = [\"https://cdn.pydata.org/bokeh/release/bokeh-1.4.0.min.js\", \"https://cdn.pydata.org/bokeh/release/bokeh-widgets-1.4.0.min.js\", \"https://cdn.pydata.org/bokeh/release/bokeh-tables-1.4.0.min.js\", \"https://cdn.pydata.org/bokeh/release/bokeh-gl-1.4.0.min.js\"];\n",
              "  var css_urls = [];\n",
              "  \n",
              "\n",
              "  var inline_js = [\n",
              "    function(Bokeh) {\n",
              "      Bokeh.set_log_level(\"info\");\n",
              "    },\n",
              "    function(Bokeh) {\n",
              "    \n",
              "    \n",
              "    }\n",
              "  ];\n",
              "\n",
              "  function run_inline_js() {\n",
              "    \n",
              "    if (root.Bokeh !== undefined || force === true) {\n",
              "      \n",
              "    for (var i = 0; i < inline_js.length; i++) {\n",
              "      inline_js[i].call(root, root.Bokeh);\n",
              "    }\n",
              "    } else if (Date.now() < root._bokeh_timeout) {\n",
              "      setTimeout(run_inline_js, 100);\n",
              "    } else if (!root._bokeh_failed_load) {\n",
              "      console.log(\"Bokeh: BokehJS failed to load within specified timeout.\");\n",
              "      root._bokeh_failed_load = true;\n",
              "    } else if (force !== true) {\n",
              "      var cell = $(document.getElementById(null)).parents('.cell').data().cell;\n",
              "      cell.output_area.append_execute_result(NB_LOAD_WARNING)\n",
              "    }\n",
              "\n",
              "  }\n",
              "\n",
              "  if (root._bokeh_is_loading === 0) {\n",
              "    console.debug(\"Bokeh: BokehJS loaded, going straight to plotting\");\n",
              "    run_inline_js();\n",
              "  } else {\n",
              "    load_libs(css_urls, js_urls, function() {\n",
              "      console.debug(\"Bokeh: BokehJS plotting callback run at\", now());\n",
              "      run_inline_js();\n",
              "    });\n",
              "  }\n",
              "}(window));"
            ],
            "application/vnd.bokehjs_load.v0+json": "\n(function(root) {\n  function now() {\n    return new Date();\n  }\n\n  var force = true;\n\n  if (typeof root._bokeh_onload_callbacks === \"undefined\" || force === true) {\n    root._bokeh_onload_callbacks = [];\n    root._bokeh_is_loading = undefined;\n  }\n\n  \n\n  \n  if (typeof (root._bokeh_timeout) === \"undefined\" || force === true) {\n    root._bokeh_timeout = Date.now() + 5000;\n    root._bokeh_failed_load = false;\n  }\n\n  var NB_LOAD_WARNING = {'data': {'text/html':\n     \"<div style='background-color: #fdd'>\\n\"+\n     \"<p>\\n\"+\n     \"BokehJS does not appear to have successfully loaded. If loading BokehJS from CDN, this \\n\"+\n     \"may be due to a slow or bad network connection. Possible fixes:\\n\"+\n     \"</p>\\n\"+\n     \"<ul>\\n\"+\n     \"<li>re-rerun `output_notebook()` to attempt to load from CDN again, or</li>\\n\"+\n     \"<li>use INLINE resources instead, as so:</li>\\n\"+\n     \"</ul>\\n\"+\n     \"<code>\\n\"+\n     \"from bokeh.resources import INLINE\\n\"+\n     \"output_notebook(resources=INLINE)\\n\"+\n     \"</code>\\n\"+\n     \"</div>\"}};\n\n  function display_loaded() {\n    var el = document.getElementById(null);\n    if (el != null) {\n      el.textContent = \"BokehJS is loading...\";\n    }\n    if (root.Bokeh !== undefined) {\n      if (el != null) {\n        el.textContent = \"BokehJS \" + root.Bokeh.version + \" successfully loaded.\";\n      }\n    } else if (Date.now() < root._bokeh_timeout) {\n      setTimeout(display_loaded, 100)\n    }\n  }\n\n\n  function run_callbacks() {\n    try {\n      root._bokeh_onload_callbacks.forEach(function(callback) {\n        if (callback != null)\n          callback();\n      });\n    } finally {\n      delete root._bokeh_onload_callbacks\n    }\n    console.debug(\"Bokeh: all callbacks have finished\");\n  }\n\n  function load_libs(css_urls, js_urls, callback) {\n    if (css_urls == null) css_urls = [];\n    if (js_urls == null) js_urls = [];\n\n    root._bokeh_onload_callbacks.push(callback);\n    if (root._bokeh_is_loading > 0) {\n      console.debug(\"Bokeh: BokehJS is being loaded, scheduling callback at\", now());\n      return null;\n    }\n    if (js_urls == null || js_urls.length === 0) {\n      run_callbacks();\n      return null;\n    }\n    console.debug(\"Bokeh: BokehJS not loaded, scheduling load and callback at\", now());\n    root._bokeh_is_loading = css_urls.length + js_urls.length;\n\n    function on_load() {\n      root._bokeh_is_loading--;\n      if (root._bokeh_is_loading === 0) {\n        console.debug(\"Bokeh: all BokehJS libraries/stylesheets loaded\");\n        run_callbacks()\n      }\n    }\n\n    function on_error() {\n      console.error(\"failed to load \" + url);\n    }\n\n    for (var i = 0; i < css_urls.length; i++) {\n      var url = css_urls[i];\n      const element = document.createElement(\"link\");\n      element.onload = on_load;\n      element.onerror = on_error;\n      element.rel = \"stylesheet\";\n      element.type = \"text/css\";\n      element.href = url;\n      console.debug(\"Bokeh: injecting link tag for BokehJS stylesheet: \", url);\n      document.body.appendChild(element);\n    }\n\n    for (var i = 0; i < js_urls.length; i++) {\n      var url = js_urls[i];\n      var element = document.createElement('script');\n      element.onload = on_load;\n      element.onerror = on_error;\n      element.async = false;\n      element.src = url;\n      console.debug(\"Bokeh: injecting script tag for BokehJS library: \", url);\n      document.head.appendChild(element);\n    }\n  };\n\n  function inject_raw_css(css) {\n    const element = document.createElement(\"style\");\n    element.appendChild(document.createTextNode(css));\n    document.body.appendChild(element);\n  }\n\n  \n  var js_urls = [\"https://cdn.pydata.org/bokeh/release/bokeh-1.4.0.min.js\", \"https://cdn.pydata.org/bokeh/release/bokeh-widgets-1.4.0.min.js\", \"https://cdn.pydata.org/bokeh/release/bokeh-tables-1.4.0.min.js\", \"https://cdn.pydata.org/bokeh/release/bokeh-gl-1.4.0.min.js\"];\n  var css_urls = [];\n  \n\n  var inline_js = [\n    function(Bokeh) {\n      Bokeh.set_log_level(\"info\");\n    },\n    function(Bokeh) {\n    \n    \n    }\n  ];\n\n  function run_inline_js() {\n    \n    if (root.Bokeh !== undefined || force === true) {\n      \n    for (var i = 0; i < inline_js.length; i++) {\n      inline_js[i].call(root, root.Bokeh);\n    }\n    } else if (Date.now() < root._bokeh_timeout) {\n      setTimeout(run_inline_js, 100);\n    } else if (!root._bokeh_failed_load) {\n      console.log(\"Bokeh: BokehJS failed to load within specified timeout.\");\n      root._bokeh_failed_load = true;\n    } else if (force !== true) {\n      var cell = $(document.getElementById(null)).parents('.cell').data().cell;\n      cell.output_area.append_execute_result(NB_LOAD_WARNING)\n    }\n\n  }\n\n  if (root._bokeh_is_loading === 0) {\n    console.debug(\"Bokeh: BokehJS loaded, going straight to plotting\");\n    run_inline_js();\n  } else {\n    load_libs(css_urls, js_urls, function() {\n      console.debug(\"Bokeh: BokehJS plotting callback run at\", now());\n      run_inline_js();\n    });\n  }\n}(window));"
          },
          "metadata": {
            "tags": []
          }
        },
        {
          "output_type": "display_data",
          "data": {
            "text/html": [
              "\n",
              "\n",
              "\n",
              "\n",
              "\n",
              "\n",
              "  <div class=\"bk-root\" id=\"1ec49e89-9942-423a-82ca-793cc72bc421\" data-root-id=\"1235\"></div>\n"
            ]
          },
          "metadata": {
            "tags": []
          }
        },
        {
          "output_type": "display_data",
          "data": {
            "application/javascript": [
              "(function(root) {\n",
              "  function embed_document(root) {\n",
              "    \n",
              "  var docs_json = {\"5f3f806c-1fa9-4705-8560-77c43a8a879d\":{\"roots\":{\"references\":[{\"attributes\":{\"children\":[{\"id\":\"1234\",\"type\":\"ToolbarBox\"},{\"id\":\"1232\",\"type\":\"GridBox\"}]},\"id\":\"1235\",\"type\":\"Column\"},{\"attributes\":{},\"id\":\"1180\",\"type\":\"ResetTool\"},{\"attributes\":{\"children\":[[{\"id\":\"1157\",\"subtype\":\"Figure\",\"type\":\"Plot\"},0,0]]},\"id\":\"1232\",\"type\":\"GridBox\"},{\"attributes\":{},\"id\":\"1229\",\"type\":\"UnionRenderers\"},{\"attributes\":{},\"id\":\"1177\",\"type\":\"WheelZoomTool\"},{\"attributes\":{\"active_drag\":\"auto\",\"active_inspect\":\"auto\",\"active_multi\":null,\"active_scroll\":\"auto\",\"active_tap\":\"auto\",\"tools\":[{\"id\":\"1176\",\"type\":\"PanTool\"},{\"id\":\"1177\",\"type\":\"WheelZoomTool\"},{\"id\":\"1178\",\"type\":\"BoxZoomTool\"},{\"id\":\"1179\",\"type\":\"SaveTool\"},{\"id\":\"1180\",\"type\":\"ResetTool\"},{\"id\":\"1181\",\"type\":\"HelpTool\"}]},\"id\":\"1182\",\"type\":\"Toolbar\"},{\"attributes\":{\"items\":[{\"id\":\"1202\",\"type\":\"LegendItem\"},{\"id\":\"1217\",\"type\":\"LegendItem\"}],\"orientation\":\"horizontal\"},\"id\":\"1201\",\"type\":\"Legend\"},{\"attributes\":{},\"id\":\"1230\",\"type\":\"Selection\"},{\"attributes\":{\"callback\":null},\"id\":\"1160\",\"type\":\"DataRange1d\"},{\"attributes\":{\"data_source\":{\"id\":\"1189\",\"type\":\"ColumnDataSource\"},\"glyph\":{\"id\":\"1190\",\"type\":\"Line\"},\"hover_glyph\":null,\"muted_glyph\":null,\"nonselection_glyph\":{\"id\":\"1191\",\"type\":\"Line\"},\"selection_glyph\":null,\"view\":{\"id\":\"1193\",\"type\":\"CDSView\"}},\"id\":\"1192\",\"type\":\"GlyphRenderer\"},{\"attributes\":{\"tools\":[{\"id\":\"1176\",\"type\":\"PanTool\"},{\"id\":\"1177\",\"type\":\"WheelZoomTool\"},{\"id\":\"1178\",\"type\":\"BoxZoomTool\"},{\"id\":\"1179\",\"type\":\"SaveTool\"},{\"id\":\"1180\",\"type\":\"ResetTool\"},{\"id\":\"1181\",\"type\":\"HelpTool\"}]},\"id\":\"1233\",\"type\":\"ProxyToolbar\"},{\"attributes\":{},\"id\":\"1181\",\"type\":\"HelpTool\"},{\"attributes\":{\"source\":{\"id\":\"1189\",\"type\":\"ColumnDataSource\"}},\"id\":\"1193\",\"type\":\"CDSView\"},{\"attributes\":{},\"id\":\"1162\",\"type\":\"LinearScale\"},{\"attributes\":{\"text\":\"SIS - Diffusion Trend\"},\"id\":\"1194\",\"type\":\"Title\"},{\"attributes\":{},\"id\":\"1179\",\"type\":\"SaveTool\"},{\"attributes\":{},\"id\":\"1164\",\"type\":\"LinearScale\"},{\"attributes\":{},\"id\":\"1197\",\"type\":\"BasicTickFormatter\"},{\"attributes\":{\"axis_label\":\"Iterations\",\"formatter\":{\"id\":\"1199\",\"type\":\"BasicTickFormatter\"},\"ticker\":{\"id\":\"1167\",\"type\":\"BasicTicker\"}},\"id\":\"1166\",\"type\":\"LinearAxis\"},{\"attributes\":{},\"id\":\"1199\",\"type\":\"BasicTickFormatter\"},{\"attributes\":{\"toolbar\":{\"id\":\"1233\",\"type\":\"ProxyToolbar\"},\"toolbar_location\":\"above\"},\"id\":\"1234\",\"type\":\"ToolbarBox\"},{\"attributes\":{},\"id\":\"1176\",\"type\":\"PanTool\"},{\"attributes\":{\"bottom_units\":\"screen\",\"fill_alpha\":{\"value\":0.5},\"fill_color\":{\"value\":\"lightgrey\"},\"left_units\":\"screen\",\"level\":\"overlay\",\"line_alpha\":{\"value\":1.0},\"line_color\":{\"value\":\"black\"},\"line_dash\":[4,4],\"line_width\":{\"value\":2},\"render_mode\":\"css\",\"right_units\":\"screen\",\"top_units\":\"screen\"},\"id\":\"1200\",\"type\":\"BoxAnnotation\"},{\"attributes\":{},\"id\":\"1167\",\"type\":\"BasicTicker\"},{\"attributes\":{\"label\":{\"value\":\"Infected\"},\"renderers\":[{\"id\":\"1206\",\"type\":\"GlyphRenderer\"}]},\"id\":\"1217\",\"type\":\"LegendItem\"},{\"attributes\":{\"label\":{\"value\":\"Susceptible\"},\"renderers\":[{\"id\":\"1192\",\"type\":\"GlyphRenderer\"}]},\"id\":\"1202\",\"type\":\"LegendItem\"},{\"attributes\":{\"overlay\":{\"id\":\"1200\",\"type\":\"BoxAnnotation\"}},\"id\":\"1178\",\"type\":\"BoxZoomTool\"},{\"attributes\":{\"callback\":null,\"data\":{\"x\":[0,1,2,3,4,5,6,7,8,9],\"y\":{\"__ndarray__\":\"HkH6+NqZ7z8RFW8yIQztPynAI0gfX+s/nvlpuhwj6T/18bUzP03nPwnSx9fO/OQ/YMoTUfEm4z90qiX1gNbgP9hdHbLZe94/SszAsmic2z8=\",\"dtype\":\"float64\",\"shape\":[10]}},\"selected\":{\"id\":\"1216\",\"type\":\"Selection\"},\"selection_policy\":{\"id\":\"1215\",\"type\":\"UnionRenderers\"}},\"id\":\"1189\",\"type\":\"ColumnDataSource\"},{\"attributes\":{\"callback\":null,\"data\":{\"x\":[0,1,2,3,4,5,6,7,8,9],\"y\":{\"__ndarray__\":\"gLhvwUGJiT92V4ds9p63P13/cN+Cg8I/iRlYFo1zyz8XHJSYgWXRP+5bcFBiBtY/QGvYXR2y2T8Yq7QV/lLePxRR8SYTwuA/25mfpssx4j8=\",\"dtype\":\"float64\",\"shape\":[10]}},\"selected\":{\"id\":\"1230\",\"type\":\"Selection\"},\"selection_policy\":{\"id\":\"1229\",\"type\":\"UnionRenderers\"}},\"id\":\"1203\",\"type\":\"ColumnDataSource\"},{\"attributes\":{\"line_alpha\":0.5,\"line_color\":\"#aec7e8\",\"line_width\":2,\"x\":{\"field\":\"x\"},\"y\":{\"field\":\"y\"}},\"id\":\"1204\",\"type\":\"Line\"},{\"attributes\":{\"line_alpha\":0.1,\"line_color\":\"#1f77b4\",\"line_width\":2,\"x\":{\"field\":\"x\"},\"y\":{\"field\":\"y\"}},\"id\":\"1191\",\"type\":\"Line\"},{\"attributes\":{\"line_alpha\":0.1,\"line_color\":\"#1f77b4\",\"line_width\":2,\"x\":{\"field\":\"x\"},\"y\":{\"field\":\"y\"}},\"id\":\"1205\",\"type\":\"Line\"},{\"attributes\":{\"data_source\":{\"id\":\"1203\",\"type\":\"ColumnDataSource\"},\"glyph\":{\"id\":\"1204\",\"type\":\"Line\"},\"hover_glyph\":null,\"muted_glyph\":null,\"nonselection_glyph\":{\"id\":\"1205\",\"type\":\"Line\"},\"selection_glyph\":null,\"view\":{\"id\":\"1207\",\"type\":\"CDSView\"}},\"id\":\"1206\",\"type\":\"GlyphRenderer\"},{\"attributes\":{\"dimension\":1,\"grid_line_alpha\":0.5,\"ticker\":{\"id\":\"1172\",\"type\":\"BasicTicker\"}},\"id\":\"1175\",\"type\":\"Grid\"},{\"attributes\":{\"below\":[{\"id\":\"1166\",\"type\":\"LinearAxis\"},{\"id\":\"1219\",\"type\":\"Title\"}],\"center\":[{\"id\":\"1170\",\"type\":\"Grid\"},{\"id\":\"1175\",\"type\":\"Grid\"},{\"id\":\"1201\",\"type\":\"Legend\"}],\"left\":[{\"id\":\"1171\",\"type\":\"LinearAxis\"}],\"plot_height\":400,\"plot_width\":400,\"renderers\":[{\"id\":\"1192\",\"type\":\"GlyphRenderer\"},{\"id\":\"1206\",\"type\":\"GlyphRenderer\"}],\"title\":{\"id\":\"1194\",\"type\":\"Title\"},\"toolbar\":{\"id\":\"1182\",\"type\":\"Toolbar\"},\"toolbar_location\":null,\"x_range\":{\"id\":\"1158\",\"type\":\"DataRange1d\"},\"x_scale\":{\"id\":\"1162\",\"type\":\"LinearScale\"},\"y_range\":{\"id\":\"1160\",\"type\":\"DataRange1d\"},\"y_scale\":{\"id\":\"1164\",\"type\":\"LinearScale\"}},\"id\":\"1157\",\"subtype\":\"Figure\",\"type\":\"Plot\"},{\"attributes\":{\"line_alpha\":0.5,\"line_color\":\"#1f77b4\",\"line_width\":2,\"x\":{\"field\":\"x\"},\"y\":{\"field\":\"y\"}},\"id\":\"1190\",\"type\":\"Line\"},{\"attributes\":{\"source\":{\"id\":\"1203\",\"type\":\"ColumnDataSource\"}},\"id\":\"1207\",\"type\":\"CDSView\"},{\"attributes\":{\"axis_label\":\"#Nodes\",\"formatter\":{\"id\":\"1197\",\"type\":\"BasicTickFormatter\"},\"ticker\":{\"id\":\"1172\",\"type\":\"BasicTicker\"}},\"id\":\"1171\",\"type\":\"LinearAxis\"},{\"attributes\":{},\"id\":\"1215\",\"type\":\"UnionRenderers\"},{\"attributes\":{\"callback\":null},\"id\":\"1158\",\"type\":\"DataRange1d\"},{\"attributes\":{},\"id\":\"1172\",\"type\":\"BasicTicker\"},{\"attributes\":{},\"id\":\"1216\",\"type\":\"Selection\"},{\"attributes\":{\"grid_line_alpha\":0.5,\"ticker\":{\"id\":\"1167\",\"type\":\"BasicTicker\"}},\"id\":\"1170\",\"type\":\"Grid\"},{\"attributes\":{\"align\":\"center\",\"text\":\"beta: 0.05, lambda: 0.01, fraction infected: 0.05, tp rate: 1\"},\"id\":\"1219\",\"type\":\"Title\"}],\"root_ids\":[\"1235\"]},\"title\":\"Bokeh Application\",\"version\":\"1.4.0\"}};\n",
              "  var render_items = [{\"docid\":\"5f3f806c-1fa9-4705-8560-77c43a8a879d\",\"roots\":{\"1235\":\"1ec49e89-9942-423a-82ca-793cc72bc421\"}}];\n",
              "  root.Bokeh.embed.embed_items_notebook(docs_json, render_items);\n",
              "\n",
              "  }\n",
              "  if (root.Bokeh !== undefined) {\n",
              "    embed_document(root);\n",
              "  } else {\n",
              "    var attempts = 0;\n",
              "    var timer = setInterval(function(root) {\n",
              "      if (root.Bokeh !== undefined) {\n",
              "        clearInterval(timer);\n",
              "        embed_document(root);\n",
              "      } else {\n",
              "        attempts++;\n",
              "        if (attempts > 100) {\n",
              "          clearInterval(timer);\n",
              "          console.log(\"Bokeh: ERROR: Unable to run BokehJS code because BokehJS library is missing\");\n",
              "        }\n",
              "      }\n",
              "    }, 10, root)\n",
              "  }\n",
              "})(window);"
            ],
            "application/vnd.bokehjs_exec.v0+json": ""
          },
          "metadata": {
            "tags": [],
            "application/vnd.bokehjs_exec.v0+json": {
              "id": "1235"
            }
          }
        }
      ]
    },
    {
      "cell_type": "code",
      "metadata": {
        "id": "5dlMunPZzGpM",
        "colab_type": "code",
        "outputId": "ec18bd0d-be4e-4fde-a61f-6dae1af1c233",
        "colab": {
          "base_uri": "https://localhost:8080/",
          "height": 552
        }
      },
      "source": [
        "#IC Model\n",
        "vm=MultiPlot()\n",
        "\n",
        "G=nx.from_pandas_edgelist(df,create_using=nx.DiGraph())\n",
        "\n",
        "IDCS=ep.IndependentCascadesModel(G)\n",
        "config=mc.Configuration()\n",
        "#supply the top 10 infected nodes of all 3 centralities 1 by 1 \n",
        "infected_nodes=['hasanminhaj', 'chrissyteigen', 'TheEllenShow', 'jimmykimmel', 'tomhanks']\n",
        "\n",
        "config.add_model_initial_configuration(\"Infected\",infected_nodes)\n",
        "\n",
        "for e in G.edges():\n",
        "    config.add_edge_configuration(\"threshold\",e,0.5)\n",
        "  \n",
        "IDCS.set_initial_status(config)\n",
        "iterations=IDCS.iteration_bunch(10)\n",
        "print(IDCS.get_info())\n",
        "\n",
        "trends=IDCS.build_trends(iterations)\n",
        "#diffusion trend\n",
        "p1=DiffusionTrend(IDCS,trends).plot(width=400,height=400)\n",
        "\n",
        "vm.add_plot(p1)\n",
        "\n",
        "m=vm.plot()\n",
        "output_notebook()\n",
        "show(m)"
      ],
      "execution_count": 0,
      "outputs": [
        {
          "output_type": "stream",
          "text": [
            "100%|██████████| 10/10 [00:00<00:00, 1329.20it/s]"
          ],
          "name": "stderr"
        },
        {
          "output_type": "stream",
          "text": [
            "{}\n"
          ],
          "name": "stdout"
        },
        {
          "output_type": "stream",
          "text": [
            "\n",
            "BokehDeprecationWarning: 'legend' keyword is deprecated, use explicit 'legend_label', 'legend_field', or 'legend_group' keywords instead\n",
            "BokehDeprecationWarning: 'legend' keyword is deprecated, use explicit 'legend_label', 'legend_field', or 'legend_group' keywords instead\n",
            "BokehDeprecationWarning: 'legend' keyword is deprecated, use explicit 'legend_label', 'legend_field', or 'legend_group' keywords instead\n"
          ],
          "name": "stderr"
        },
        {
          "output_type": "display_data",
          "data": {
            "application/javascript": [
              "\n",
              "(function(root) {\n",
              "  function now() {\n",
              "    return new Date();\n",
              "  }\n",
              "\n",
              "  var force = true;\n",
              "\n",
              "  if (typeof root._bokeh_onload_callbacks === \"undefined\" || force === true) {\n",
              "    root._bokeh_onload_callbacks = [];\n",
              "    root._bokeh_is_loading = undefined;\n",
              "  }\n",
              "\n",
              "  var JS_MIME_TYPE = 'application/javascript';\n",
              "  var HTML_MIME_TYPE = 'text/html';\n",
              "  var EXEC_MIME_TYPE = 'application/vnd.bokehjs_exec.v0+json';\n",
              "  var CLASS_NAME = 'output_bokeh rendered_html';\n",
              "\n",
              "  /**\n",
              "   * Render data to the DOM node\n",
              "   */\n",
              "  function render(props, node) {\n",
              "    var script = document.createElement(\"script\");\n",
              "    node.appendChild(script);\n",
              "  }\n",
              "\n",
              "  /**\n",
              "   * Handle when an output is cleared or removed\n",
              "   */\n",
              "  function handleClearOutput(event, handle) {\n",
              "    var cell = handle.cell;\n",
              "\n",
              "    var id = cell.output_area._bokeh_element_id;\n",
              "    var server_id = cell.output_area._bokeh_server_id;\n",
              "    // Clean up Bokeh references\n",
              "    if (id != null && id in Bokeh.index) {\n",
              "      Bokeh.index[id].model.document.clear();\n",
              "      delete Bokeh.index[id];\n",
              "    }\n",
              "\n",
              "    if (server_id !== undefined) {\n",
              "      // Clean up Bokeh references\n",
              "      var cmd = \"from bokeh.io.state import curstate; print(curstate().uuid_to_server['\" + server_id + \"'].get_sessions()[0].document.roots[0]._id)\";\n",
              "      cell.notebook.kernel.execute(cmd, {\n",
              "        iopub: {\n",
              "          output: function(msg) {\n",
              "            var id = msg.content.text.trim();\n",
              "            if (id in Bokeh.index) {\n",
              "              Bokeh.index[id].model.document.clear();\n",
              "              delete Bokeh.index[id];\n",
              "            }\n",
              "          }\n",
              "        }\n",
              "      });\n",
              "      // Destroy server and session\n",
              "      var cmd = \"import bokeh.io.notebook as ion; ion.destroy_server('\" + server_id + \"')\";\n",
              "      cell.notebook.kernel.execute(cmd);\n",
              "    }\n",
              "  }\n",
              "\n",
              "  /**\n",
              "   * Handle when a new output is added\n",
              "   */\n",
              "  function handleAddOutput(event, handle) {\n",
              "    var output_area = handle.output_area;\n",
              "    var output = handle.output;\n",
              "\n",
              "    // limit handleAddOutput to display_data with EXEC_MIME_TYPE content only\n",
              "    if ((output.output_type != \"display_data\") || (!output.data.hasOwnProperty(EXEC_MIME_TYPE))) {\n",
              "      return\n",
              "    }\n",
              "\n",
              "    var toinsert = output_area.element.find(\".\" + CLASS_NAME.split(' ')[0]);\n",
              "\n",
              "    if (output.metadata[EXEC_MIME_TYPE][\"id\"] !== undefined) {\n",
              "      toinsert[toinsert.length - 1].firstChild.textContent = output.data[JS_MIME_TYPE];\n",
              "      // store reference to embed id on output_area\n",
              "      output_area._bokeh_element_id = output.metadata[EXEC_MIME_TYPE][\"id\"];\n",
              "    }\n",
              "    if (output.metadata[EXEC_MIME_TYPE][\"server_id\"] !== undefined) {\n",
              "      var bk_div = document.createElement(\"div\");\n",
              "      bk_div.innerHTML = output.data[HTML_MIME_TYPE];\n",
              "      var script_attrs = bk_div.children[0].attributes;\n",
              "      for (var i = 0; i < script_attrs.length; i++) {\n",
              "        toinsert[toinsert.length - 1].firstChild.setAttribute(script_attrs[i].name, script_attrs[i].value);\n",
              "      }\n",
              "      // store reference to server id on output_area\n",
              "      output_area._bokeh_server_id = output.metadata[EXEC_MIME_TYPE][\"server_id\"];\n",
              "    }\n",
              "  }\n",
              "\n",
              "  function register_renderer(events, OutputArea) {\n",
              "\n",
              "    function append_mime(data, metadata, element) {\n",
              "      // create a DOM node to render to\n",
              "      var toinsert = this.create_output_subarea(\n",
              "        metadata,\n",
              "        CLASS_NAME,\n",
              "        EXEC_MIME_TYPE\n",
              "      );\n",
              "      this.keyboard_manager.register_events(toinsert);\n",
              "      // Render to node\n",
              "      var props = {data: data, metadata: metadata[EXEC_MIME_TYPE]};\n",
              "      render(props, toinsert[toinsert.length - 1]);\n",
              "      element.append(toinsert);\n",
              "      return toinsert\n",
              "    }\n",
              "\n",
              "    /* Handle when an output is cleared or removed */\n",
              "    events.on('clear_output.CodeCell', handleClearOutput);\n",
              "    events.on('delete.Cell', handleClearOutput);\n",
              "\n",
              "    /* Handle when a new output is added */\n",
              "    events.on('output_added.OutputArea', handleAddOutput);\n",
              "\n",
              "    /**\n",
              "     * Register the mime type and append_mime function with output_area\n",
              "     */\n",
              "    OutputArea.prototype.register_mime_type(EXEC_MIME_TYPE, append_mime, {\n",
              "      /* Is output safe? */\n",
              "      safe: true,\n",
              "      /* Index of renderer in `output_area.display_order` */\n",
              "      index: 0\n",
              "    });\n",
              "  }\n",
              "\n",
              "  // register the mime type if in Jupyter Notebook environment and previously unregistered\n",
              "  if (root.Jupyter !== undefined) {\n",
              "    var events = require('base/js/events');\n",
              "    var OutputArea = require('notebook/js/outputarea').OutputArea;\n",
              "\n",
              "    if (OutputArea.prototype.mime_types().indexOf(EXEC_MIME_TYPE) == -1) {\n",
              "      register_renderer(events, OutputArea);\n",
              "    }\n",
              "  }\n",
              "\n",
              "  \n",
              "  if (typeof (root._bokeh_timeout) === \"undefined\" || force === true) {\n",
              "    root._bokeh_timeout = Date.now() + 5000;\n",
              "    root._bokeh_failed_load = false;\n",
              "  }\n",
              "\n",
              "  var NB_LOAD_WARNING = {'data': {'text/html':\n",
              "     \"<div style='background-color: #fdd'>\\n\"+\n",
              "     \"<p>\\n\"+\n",
              "     \"BokehJS does not appear to have successfully loaded. If loading BokehJS from CDN, this \\n\"+\n",
              "     \"may be due to a slow or bad network connection. Possible fixes:\\n\"+\n",
              "     \"</p>\\n\"+\n",
              "     \"<ul>\\n\"+\n",
              "     \"<li>re-rerun `output_notebook()` to attempt to load from CDN again, or</li>\\n\"+\n",
              "     \"<li>use INLINE resources instead, as so:</li>\\n\"+\n",
              "     \"</ul>\\n\"+\n",
              "     \"<code>\\n\"+\n",
              "     \"from bokeh.resources import INLINE\\n\"+\n",
              "     \"output_notebook(resources=INLINE)\\n\"+\n",
              "     \"</code>\\n\"+\n",
              "     \"</div>\"}};\n",
              "\n",
              "  function display_loaded() {\n",
              "    var el = document.getElementById(null);\n",
              "    if (el != null) {\n",
              "      el.textContent = \"BokehJS is loading...\";\n",
              "    }\n",
              "    if (root.Bokeh !== undefined) {\n",
              "      if (el != null) {\n",
              "        el.textContent = \"BokehJS \" + root.Bokeh.version + \" successfully loaded.\";\n",
              "      }\n",
              "    } else if (Date.now() < root._bokeh_timeout) {\n",
              "      setTimeout(display_loaded, 100)\n",
              "    }\n",
              "  }\n",
              "\n",
              "\n",
              "  function run_callbacks() {\n",
              "    try {\n",
              "      root._bokeh_onload_callbacks.forEach(function(callback) {\n",
              "        if (callback != null)\n",
              "          callback();\n",
              "      });\n",
              "    } finally {\n",
              "      delete root._bokeh_onload_callbacks\n",
              "    }\n",
              "    console.debug(\"Bokeh: all callbacks have finished\");\n",
              "  }\n",
              "\n",
              "  function load_libs(css_urls, js_urls, callback) {\n",
              "    if (css_urls == null) css_urls = [];\n",
              "    if (js_urls == null) js_urls = [];\n",
              "\n",
              "    root._bokeh_onload_callbacks.push(callback);\n",
              "    if (root._bokeh_is_loading > 0) {\n",
              "      console.debug(\"Bokeh: BokehJS is being loaded, scheduling callback at\", now());\n",
              "      return null;\n",
              "    }\n",
              "    if (js_urls == null || js_urls.length === 0) {\n",
              "      run_callbacks();\n",
              "      return null;\n",
              "    }\n",
              "    console.debug(\"Bokeh: BokehJS not loaded, scheduling load and callback at\", now());\n",
              "    root._bokeh_is_loading = css_urls.length + js_urls.length;\n",
              "\n",
              "    function on_load() {\n",
              "      root._bokeh_is_loading--;\n",
              "      if (root._bokeh_is_loading === 0) {\n",
              "        console.debug(\"Bokeh: all BokehJS libraries/stylesheets loaded\");\n",
              "        run_callbacks()\n",
              "      }\n",
              "    }\n",
              "\n",
              "    function on_error() {\n",
              "      console.error(\"failed to load \" + url);\n",
              "    }\n",
              "\n",
              "    for (var i = 0; i < css_urls.length; i++) {\n",
              "      var url = css_urls[i];\n",
              "      const element = document.createElement(\"link\");\n",
              "      element.onload = on_load;\n",
              "      element.onerror = on_error;\n",
              "      element.rel = \"stylesheet\";\n",
              "      element.type = \"text/css\";\n",
              "      element.href = url;\n",
              "      console.debug(\"Bokeh: injecting link tag for BokehJS stylesheet: \", url);\n",
              "      document.body.appendChild(element);\n",
              "    }\n",
              "\n",
              "    for (var i = 0; i < js_urls.length; i++) {\n",
              "      var url = js_urls[i];\n",
              "      var element = document.createElement('script');\n",
              "      element.onload = on_load;\n",
              "      element.onerror = on_error;\n",
              "      element.async = false;\n",
              "      element.src = url;\n",
              "      console.debug(\"Bokeh: injecting script tag for BokehJS library: \", url);\n",
              "      document.head.appendChild(element);\n",
              "    }\n",
              "  };\n",
              "\n",
              "  function inject_raw_css(css) {\n",
              "    const element = document.createElement(\"style\");\n",
              "    element.appendChild(document.createTextNode(css));\n",
              "    document.body.appendChild(element);\n",
              "  }\n",
              "\n",
              "  \n",
              "  var js_urls = [\"https://cdn.pydata.org/bokeh/release/bokeh-1.4.0.min.js\", \"https://cdn.pydata.org/bokeh/release/bokeh-widgets-1.4.0.min.js\", \"https://cdn.pydata.org/bokeh/release/bokeh-tables-1.4.0.min.js\", \"https://cdn.pydata.org/bokeh/release/bokeh-gl-1.4.0.min.js\"];\n",
              "  var css_urls = [];\n",
              "  \n",
              "\n",
              "  var inline_js = [\n",
              "    function(Bokeh) {\n",
              "      Bokeh.set_log_level(\"info\");\n",
              "    },\n",
              "    function(Bokeh) {\n",
              "    \n",
              "    \n",
              "    }\n",
              "  ];\n",
              "\n",
              "  function run_inline_js() {\n",
              "    \n",
              "    if (root.Bokeh !== undefined || force === true) {\n",
              "      \n",
              "    for (var i = 0; i < inline_js.length; i++) {\n",
              "      inline_js[i].call(root, root.Bokeh);\n",
              "    }\n",
              "    } else if (Date.now() < root._bokeh_timeout) {\n",
              "      setTimeout(run_inline_js, 100);\n",
              "    } else if (!root._bokeh_failed_load) {\n",
              "      console.log(\"Bokeh: BokehJS failed to load within specified timeout.\");\n",
              "      root._bokeh_failed_load = true;\n",
              "    } else if (force !== true) {\n",
              "      var cell = $(document.getElementById(null)).parents('.cell').data().cell;\n",
              "      cell.output_area.append_execute_result(NB_LOAD_WARNING)\n",
              "    }\n",
              "\n",
              "  }\n",
              "\n",
              "  if (root._bokeh_is_loading === 0) {\n",
              "    console.debug(\"Bokeh: BokehJS loaded, going straight to plotting\");\n",
              "    run_inline_js();\n",
              "  } else {\n",
              "    load_libs(css_urls, js_urls, function() {\n",
              "      console.debug(\"Bokeh: BokehJS plotting callback run at\", now());\n",
              "      run_inline_js();\n",
              "    });\n",
              "  }\n",
              "}(window));"
            ],
            "application/vnd.bokehjs_load.v0+json": "\n(function(root) {\n  function now() {\n    return new Date();\n  }\n\n  var force = true;\n\n  if (typeof root._bokeh_onload_callbacks === \"undefined\" || force === true) {\n    root._bokeh_onload_callbacks = [];\n    root._bokeh_is_loading = undefined;\n  }\n\n  \n\n  \n  if (typeof (root._bokeh_timeout) === \"undefined\" || force === true) {\n    root._bokeh_timeout = Date.now() + 5000;\n    root._bokeh_failed_load = false;\n  }\n\n  var NB_LOAD_WARNING = {'data': {'text/html':\n     \"<div style='background-color: #fdd'>\\n\"+\n     \"<p>\\n\"+\n     \"BokehJS does not appear to have successfully loaded. If loading BokehJS from CDN, this \\n\"+\n     \"may be due to a slow or bad network connection. Possible fixes:\\n\"+\n     \"</p>\\n\"+\n     \"<ul>\\n\"+\n     \"<li>re-rerun `output_notebook()` to attempt to load from CDN again, or</li>\\n\"+\n     \"<li>use INLINE resources instead, as so:</li>\\n\"+\n     \"</ul>\\n\"+\n     \"<code>\\n\"+\n     \"from bokeh.resources import INLINE\\n\"+\n     \"output_notebook(resources=INLINE)\\n\"+\n     \"</code>\\n\"+\n     \"</div>\"}};\n\n  function display_loaded() {\n    var el = document.getElementById(null);\n    if (el != null) {\n      el.textContent = \"BokehJS is loading...\";\n    }\n    if (root.Bokeh !== undefined) {\n      if (el != null) {\n        el.textContent = \"BokehJS \" + root.Bokeh.version + \" successfully loaded.\";\n      }\n    } else if (Date.now() < root._bokeh_timeout) {\n      setTimeout(display_loaded, 100)\n    }\n  }\n\n\n  function run_callbacks() {\n    try {\n      root._bokeh_onload_callbacks.forEach(function(callback) {\n        if (callback != null)\n          callback();\n      });\n    } finally {\n      delete root._bokeh_onload_callbacks\n    }\n    console.debug(\"Bokeh: all callbacks have finished\");\n  }\n\n  function load_libs(css_urls, js_urls, callback) {\n    if (css_urls == null) css_urls = [];\n    if (js_urls == null) js_urls = [];\n\n    root._bokeh_onload_callbacks.push(callback);\n    if (root._bokeh_is_loading > 0) {\n      console.debug(\"Bokeh: BokehJS is being loaded, scheduling callback at\", now());\n      return null;\n    }\n    if (js_urls == null || js_urls.length === 0) {\n      run_callbacks();\n      return null;\n    }\n    console.debug(\"Bokeh: BokehJS not loaded, scheduling load and callback at\", now());\n    root._bokeh_is_loading = css_urls.length + js_urls.length;\n\n    function on_load() {\n      root._bokeh_is_loading--;\n      if (root._bokeh_is_loading === 0) {\n        console.debug(\"Bokeh: all BokehJS libraries/stylesheets loaded\");\n        run_callbacks()\n      }\n    }\n\n    function on_error() {\n      console.error(\"failed to load \" + url);\n    }\n\n    for (var i = 0; i < css_urls.length; i++) {\n      var url = css_urls[i];\n      const element = document.createElement(\"link\");\n      element.onload = on_load;\n      element.onerror = on_error;\n      element.rel = \"stylesheet\";\n      element.type = \"text/css\";\n      element.href = url;\n      console.debug(\"Bokeh: injecting link tag for BokehJS stylesheet: \", url);\n      document.body.appendChild(element);\n    }\n\n    for (var i = 0; i < js_urls.length; i++) {\n      var url = js_urls[i];\n      var element = document.createElement('script');\n      element.onload = on_load;\n      element.onerror = on_error;\n      element.async = false;\n      element.src = url;\n      console.debug(\"Bokeh: injecting script tag for BokehJS library: \", url);\n      document.head.appendChild(element);\n    }\n  };\n\n  function inject_raw_css(css) {\n    const element = document.createElement(\"style\");\n    element.appendChild(document.createTextNode(css));\n    document.body.appendChild(element);\n  }\n\n  \n  var js_urls = [\"https://cdn.pydata.org/bokeh/release/bokeh-1.4.0.min.js\", \"https://cdn.pydata.org/bokeh/release/bokeh-widgets-1.4.0.min.js\", \"https://cdn.pydata.org/bokeh/release/bokeh-tables-1.4.0.min.js\", \"https://cdn.pydata.org/bokeh/release/bokeh-gl-1.4.0.min.js\"];\n  var css_urls = [];\n  \n\n  var inline_js = [\n    function(Bokeh) {\n      Bokeh.set_log_level(\"info\");\n    },\n    function(Bokeh) {\n    \n    \n    }\n  ];\n\n  function run_inline_js() {\n    \n    if (root.Bokeh !== undefined || force === true) {\n      \n    for (var i = 0; i < inline_js.length; i++) {\n      inline_js[i].call(root, root.Bokeh);\n    }\n    } else if (Date.now() < root._bokeh_timeout) {\n      setTimeout(run_inline_js, 100);\n    } else if (!root._bokeh_failed_load) {\n      console.log(\"Bokeh: BokehJS failed to load within specified timeout.\");\n      root._bokeh_failed_load = true;\n    } else if (force !== true) {\n      var cell = $(document.getElementById(null)).parents('.cell').data().cell;\n      cell.output_area.append_execute_result(NB_LOAD_WARNING)\n    }\n\n  }\n\n  if (root._bokeh_is_loading === 0) {\n    console.debug(\"Bokeh: BokehJS loaded, going straight to plotting\");\n    run_inline_js();\n  } else {\n    load_libs(css_urls, js_urls, function() {\n      console.debug(\"Bokeh: BokehJS plotting callback run at\", now());\n      run_inline_js();\n    });\n  }\n}(window));"
          },
          "metadata": {
            "tags": []
          }
        },
        {
          "output_type": "display_data",
          "data": {
            "text/html": [
              "\n",
              "\n",
              "\n",
              "\n",
              "\n",
              "\n",
              "  <div class=\"bk-root\" id=\"d269ff73-cd1b-4ced-b9c0-44433566d1e1\" data-root-id=\"1421\"></div>\n"
            ]
          },
          "metadata": {
            "tags": []
          }
        },
        {
          "output_type": "display_data",
          "data": {
            "application/javascript": [
              "(function(root) {\n",
              "  function embed_document(root) {\n",
              "    \n",
              "  var docs_json = {\"cdc0b85e-81e1-48ac-a462-a969061514d9\":{\"roots\":{\"references\":[{\"attributes\":{\"children\":[{\"id\":\"1420\",\"type\":\"ToolbarBox\"},{\"id\":\"1418\",\"type\":\"GridBox\"}]},\"id\":\"1421\",\"type\":\"Column\"},{\"attributes\":{\"bottom_units\":\"screen\",\"fill_alpha\":{\"value\":0.5},\"fill_color\":{\"value\":\"lightgrey\"},\"left_units\":\"screen\",\"level\":\"overlay\",\"line_alpha\":{\"value\":1.0},\"line_color\":{\"value\":\"black\"},\"line_dash\":[4,4],\"line_width\":{\"value\":2},\"render_mode\":\"css\",\"right_units\":\"screen\",\"top_units\":\"screen\"},\"id\":\"1367\",\"type\":\"BoxAnnotation\"},{\"attributes\":{\"axis_label\":\"#Nodes\",\"formatter\":{\"id\":\"1364\",\"type\":\"BasicTickFormatter\"},\"ticker\":{\"id\":\"1339\",\"type\":\"BasicTicker\"}},\"id\":\"1338\",\"type\":\"LinearAxis\"},{\"attributes\":{\"align\":\"center\",\"text\":\"\"},\"id\":\"1403\",\"type\":\"Title\"},{\"attributes\":{\"label\":{\"value\":\"Susceptible\"},\"renderers\":[{\"id\":\"1359\",\"type\":\"GlyphRenderer\"}]},\"id\":\"1369\",\"type\":\"LegendItem\"},{\"attributes\":{},\"id\":\"1339\",\"type\":\"BasicTicker\"},{\"attributes\":{},\"id\":\"1415\",\"type\":\"UnionRenderers\"},{\"attributes\":{\"callback\":null,\"data\":{\"x\":[0,1,2,3,4,5,6,7,8,9],\"y\":{\"__ndarray__\":\"gLhvwUGJiT9jlbbCX8rjP3ztzE/T5bg/WTTObRTgkT8AAAAAAAAAAAAAAAAAAAAAAAAAAAAAAAAAAAAAAAAAAAAAAAAAAAAAAAAAAAAAAAA=\",\"dtype\":\"float64\",\"shape\":[10]}},\"selected\":{\"id\":\"1400\",\"type\":\"Selection\"},\"selection_policy\":{\"id\":\"1399\",\"type\":\"UnionRenderers\"}},\"id\":\"1370\",\"type\":\"ColumnDataSource\"},{\"attributes\":{\"dimension\":1,\"grid_line_alpha\":0.5,\"ticker\":{\"id\":\"1339\",\"type\":\"BasicTicker\"}},\"id\":\"1342\",\"type\":\"Grid\"},{\"attributes\":{},\"id\":\"1416\",\"type\":\"Selection\"},{\"attributes\":{\"line_alpha\":0.5,\"line_color\":\"#aec7e8\",\"line_width\":2,\"x\":{\"field\":\"x\"},\"y\":{\"field\":\"y\"}},\"id\":\"1371\",\"type\":\"Line\"},{\"attributes\":{\"line_alpha\":0.1,\"line_color\":\"#1f77b4\",\"line_width\":2,\"x\":{\"field\":\"x\"},\"y\":{\"field\":\"y\"}},\"id\":\"1358\",\"type\":\"Line\"},{\"attributes\":{\"tools\":[{\"id\":\"1343\",\"type\":\"PanTool\"},{\"id\":\"1344\",\"type\":\"WheelZoomTool\"},{\"id\":\"1345\",\"type\":\"BoxZoomTool\"},{\"id\":\"1346\",\"type\":\"SaveTool\"},{\"id\":\"1347\",\"type\":\"ResetTool\"},{\"id\":\"1348\",\"type\":\"HelpTool\"}]},\"id\":\"1419\",\"type\":\"ProxyToolbar\"},{\"attributes\":{\"line_alpha\":0.1,\"line_color\":\"#1f77b4\",\"line_width\":2,\"x\":{\"field\":\"x\"},\"y\":{\"field\":\"y\"}},\"id\":\"1372\",\"type\":\"Line\"},{\"attributes\":{\"line_alpha\":0.5,\"line_color\":\"#1f77b4\",\"line_width\":2,\"x\":{\"field\":\"x\"},\"y\":{\"field\":\"y\"}},\"id\":\"1357\",\"type\":\"Line\"},{\"attributes\":{\"toolbar\":{\"id\":\"1419\",\"type\":\"ProxyToolbar\"},\"toolbar_location\":\"above\"},\"id\":\"1420\",\"type\":\"ToolbarBox\"},{\"attributes\":{\"axis_label\":\"Iterations\",\"formatter\":{\"id\":\"1366\",\"type\":\"BasicTickFormatter\"},\"ticker\":{\"id\":\"1334\",\"type\":\"BasicTicker\"}},\"id\":\"1333\",\"type\":\"LinearAxis\"},{\"attributes\":{\"data_source\":{\"id\":\"1370\",\"type\":\"ColumnDataSource\"},\"glyph\":{\"id\":\"1371\",\"type\":\"Line\"},\"hover_glyph\":null,\"muted_glyph\":null,\"nonselection_glyph\":{\"id\":\"1372\",\"type\":\"Line\"},\"selection_glyph\":null,\"view\":{\"id\":\"1374\",\"type\":\"CDSView\"}},\"id\":\"1373\",\"type\":\"GlyphRenderer\"},{\"attributes\":{\"active_drag\":\"auto\",\"active_inspect\":\"auto\",\"active_multi\":null,\"active_scroll\":\"auto\",\"active_tap\":\"auto\",\"tools\":[{\"id\":\"1343\",\"type\":\"PanTool\"},{\"id\":\"1344\",\"type\":\"WheelZoomTool\"},{\"id\":\"1345\",\"type\":\"BoxZoomTool\"},{\"id\":\"1346\",\"type\":\"SaveTool\"},{\"id\":\"1347\",\"type\":\"ResetTool\"},{\"id\":\"1348\",\"type\":\"HelpTool\"}]},\"id\":\"1349\",\"type\":\"Toolbar\"},{\"attributes\":{},\"id\":\"1343\",\"type\":\"PanTool\"},{\"attributes\":{\"callback\":null},\"id\":\"1327\",\"type\":\"DataRange1d\"},{\"attributes\":{\"source\":{\"id\":\"1370\",\"type\":\"ColumnDataSource\"}},\"id\":\"1374\",\"type\":\"CDSView\"},{\"attributes\":{},\"id\":\"1344\",\"type\":\"WheelZoomTool\"},{\"attributes\":{},\"id\":\"1382\",\"type\":\"UnionRenderers\"},{\"attributes\":{\"below\":[{\"id\":\"1333\",\"type\":\"LinearAxis\"},{\"id\":\"1403\",\"type\":\"Title\"}],\"center\":[{\"id\":\"1337\",\"type\":\"Grid\"},{\"id\":\"1342\",\"type\":\"Grid\"},{\"id\":\"1368\",\"type\":\"Legend\"}],\"left\":[{\"id\":\"1338\",\"type\":\"LinearAxis\"}],\"plot_height\":400,\"plot_width\":400,\"renderers\":[{\"id\":\"1359\",\"type\":\"GlyphRenderer\"},{\"id\":\"1373\",\"type\":\"GlyphRenderer\"},{\"id\":\"1388\",\"type\":\"GlyphRenderer\"}],\"title\":{\"id\":\"1361\",\"type\":\"Title\"},\"toolbar\":{\"id\":\"1349\",\"type\":\"Toolbar\"},\"toolbar_location\":null,\"x_range\":{\"id\":\"1325\",\"type\":\"DataRange1d\"},\"x_scale\":{\"id\":\"1329\",\"type\":\"LinearScale\"},\"y_range\":{\"id\":\"1327\",\"type\":\"DataRange1d\"},\"y_scale\":{\"id\":\"1331\",\"type\":\"LinearScale\"}},\"id\":\"1324\",\"subtype\":\"Figure\",\"type\":\"Plot\"},{\"attributes\":{\"overlay\":{\"id\":\"1367\",\"type\":\"BoxAnnotation\"}},\"id\":\"1345\",\"type\":\"BoxZoomTool\"},{\"attributes\":{},\"id\":\"1383\",\"type\":\"Selection\"},{\"attributes\":{\"callback\":null,\"data\":{\"x\":[0,1,2,3,4,5,6,7,8,9],\"y\":{\"__ndarray__\":\"HkH6+NqZ7z92V4ds9p7XPxcclJiBZdE/0Ti3UYBH0D/ROLdRgEfQP9E4t1GAR9A/0Ti3UYBH0D/ROLdRgEfQP9E4t1GAR9A/0Ti3UYBH0D8=\",\"dtype\":\"float64\",\"shape\":[10]}},\"selected\":{\"id\":\"1383\",\"type\":\"Selection\"},\"selection_policy\":{\"id\":\"1382\",\"type\":\"UnionRenderers\"}},\"id\":\"1356\",\"type\":\"ColumnDataSource\"},{\"attributes\":{},\"id\":\"1346\",\"type\":\"SaveTool\"},{\"attributes\":{\"children\":[[{\"id\":\"1324\",\"subtype\":\"Figure\",\"type\":\"Plot\"},0,0]]},\"id\":\"1418\",\"type\":\"GridBox\"},{\"attributes\":{\"label\":{\"value\":\"Infected\"},\"renderers\":[{\"id\":\"1373\",\"type\":\"GlyphRenderer\"}]},\"id\":\"1384\",\"type\":\"LegendItem\"},{\"attributes\":{\"grid_line_alpha\":0.5,\"ticker\":{\"id\":\"1334\",\"type\":\"BasicTicker\"}},\"id\":\"1337\",\"type\":\"Grid\"},{\"attributes\":{},\"id\":\"1347\",\"type\":\"ResetTool\"},{\"attributes\":{\"callback\":null,\"data\":{\"x\":[0,1,2,3,4,5,6,7,8,9],\"y\":{\"__ndarray__\":\"AAAAAAAAAACAuG/BQYmJP0VUvMmEMOQ/9fG1Mz9N5z+XYyTXP9znP5djJNc/3Oc/l2Mk1z/c5z+XYyTXP9znP5djJNc/3Oc/l2Mk1z/c5z8=\",\"dtype\":\"float64\",\"shape\":[10]}},\"selected\":{\"id\":\"1416\",\"type\":\"Selection\"},\"selection_policy\":{\"id\":\"1415\",\"type\":\"UnionRenderers\"}},\"id\":\"1385\",\"type\":\"ColumnDataSource\"},{\"attributes\":{},\"id\":\"1348\",\"type\":\"HelpTool\"},{\"attributes\":{\"items\":[{\"id\":\"1369\",\"type\":\"LegendItem\"},{\"id\":\"1384\",\"type\":\"LegendItem\"},{\"id\":\"1401\",\"type\":\"LegendItem\"}],\"orientation\":\"horizontal\"},\"id\":\"1368\",\"type\":\"Legend\"},{\"attributes\":{\"line_alpha\":0.5,\"line_color\":\"#ff7f0e\",\"line_width\":2,\"x\":{\"field\":\"x\"},\"y\":{\"field\":\"y\"}},\"id\":\"1386\",\"type\":\"Line\"},{\"attributes\":{\"line_alpha\":0.1,\"line_color\":\"#1f77b4\",\"line_width\":2,\"x\":{\"field\":\"x\"},\"y\":{\"field\":\"y\"}},\"id\":\"1387\",\"type\":\"Line\"},{\"attributes\":{},\"id\":\"1331\",\"type\":\"LinearScale\"},{\"attributes\":{\"data_source\":{\"id\":\"1385\",\"type\":\"ColumnDataSource\"},\"glyph\":{\"id\":\"1386\",\"type\":\"Line\"},\"hover_glyph\":null,\"muted_glyph\":null,\"nonselection_glyph\":{\"id\":\"1387\",\"type\":\"Line\"},\"selection_glyph\":null,\"view\":{\"id\":\"1389\",\"type\":\"CDSView\"}},\"id\":\"1388\",\"type\":\"GlyphRenderer\"},{\"attributes\":{\"data_source\":{\"id\":\"1356\",\"type\":\"ColumnDataSource\"},\"glyph\":{\"id\":\"1357\",\"type\":\"Line\"},\"hover_glyph\":null,\"muted_glyph\":null,\"nonselection_glyph\":{\"id\":\"1358\",\"type\":\"Line\"},\"selection_glyph\":null,\"view\":{\"id\":\"1360\",\"type\":\"CDSView\"}},\"id\":\"1359\",\"type\":\"GlyphRenderer\"},{\"attributes\":{\"source\":{\"id\":\"1356\",\"type\":\"ColumnDataSource\"}},\"id\":\"1360\",\"type\":\"CDSView\"},{\"attributes\":{},\"id\":\"1334\",\"type\":\"BasicTicker\"},{\"attributes\":{\"source\":{\"id\":\"1385\",\"type\":\"ColumnDataSource\"}},\"id\":\"1389\",\"type\":\"CDSView\"},{\"attributes\":{\"text\":\"Independent Cascades - Diffusion Trend\"},\"id\":\"1361\",\"type\":\"Title\"},{\"attributes\":{},\"id\":\"1399\",\"type\":\"UnionRenderers\"},{\"attributes\":{},\"id\":\"1329\",\"type\":\"LinearScale\"},{\"attributes\":{},\"id\":\"1364\",\"type\":\"BasicTickFormatter\"},{\"attributes\":{\"callback\":null},\"id\":\"1325\",\"type\":\"DataRange1d\"},{\"attributes\":{},\"id\":\"1400\",\"type\":\"Selection\"},{\"attributes\":{},\"id\":\"1366\",\"type\":\"BasicTickFormatter\"},{\"attributes\":{\"label\":{\"value\":\"Removed\"},\"renderers\":[{\"id\":\"1388\",\"type\":\"GlyphRenderer\"}]},\"id\":\"1401\",\"type\":\"LegendItem\"}],\"root_ids\":[\"1421\"]},\"title\":\"Bokeh Application\",\"version\":\"1.4.0\"}};\n",
              "  var render_items = [{\"docid\":\"cdc0b85e-81e1-48ac-a462-a969061514d9\",\"roots\":{\"1421\":\"d269ff73-cd1b-4ced-b9c0-44433566d1e1\"}}];\n",
              "  root.Bokeh.embed.embed_items_notebook(docs_json, render_items);\n",
              "\n",
              "  }\n",
              "  if (root.Bokeh !== undefined) {\n",
              "    embed_document(root);\n",
              "  } else {\n",
              "    var attempts = 0;\n",
              "    var timer = setInterval(function(root) {\n",
              "      if (root.Bokeh !== undefined) {\n",
              "        clearInterval(timer);\n",
              "        embed_document(root);\n",
              "      } else {\n",
              "        attempts++;\n",
              "        if (attempts > 100) {\n",
              "          clearInterval(timer);\n",
              "          console.log(\"Bokeh: ERROR: Unable to run BokehJS code because BokehJS library is missing\");\n",
              "        }\n",
              "      }\n",
              "    }, 10, root)\n",
              "  }\n",
              "})(window);"
            ],
            "application/vnd.bokehjs_exec.v0+json": ""
          },
          "metadata": {
            "tags": [],
            "application/vnd.bokehjs_exec.v0+json": {
              "id": "1421"
            }
          }
        }
      ]
    },
    {
      "cell_type": "code",
      "metadata": {
        "id": "eo7Aa4UdzSHa",
        "colab_type": "code",
        "outputId": "2c567762-4e2d-4e3c-c572-7d1a23f97e43",
        "colab": {
          "base_uri": "https://localhost:8080/",
          "height": 552
        }
      },
      "source": [
        "#SIR Model\n",
        "vm=MultiPlot()\n",
        "\n",
        "G=nx.from_pandas_edgelist(df,create_using=nx.DiGraph())\n",
        "\n",
        "model=ep.SIRModel(G)\n",
        "config=mc.Configuration()\n",
        "#supply the top 10 infected nodes of all 3 centralities 1 by 1 \n",
        "infected_nodes=['hasanminhaj', 'chrissyteigen', 'TheEllenShow', 'jimmykimmel', 'tomhanks']\n",
        "\n",
        "config.add_model_parameter(\"beta\",0.05)\n",
        "config.add_model_parameter(\"gamma\",0.01)\n",
        "config.add_model_parameter(\"fraction_infected\",0.05)\n",
        "\n",
        "config.add_model_initial_configuration(\"Infected\",infected_nodes)\n",
        "\n",
        "  \n",
        "model.set_initial_status(config)\n",
        "iterations=model.iteration_bunch(10)\n",
        "print(model.get_info())\n",
        "\n",
        "trends=model.build_trends(iterations)\n",
        "#diffusion trend\n",
        "p1=DiffusionTrend(model,trends).plot(width=400,height=400)\n",
        "\n",
        "vm.add_plot(p1)\n",
        "\n",
        "m=vm.plot()\n",
        "output_notebook()\n",
        "show(m)"
      ],
      "execution_count": 0,
      "outputs": [
        {
          "output_type": "stream",
          "text": [
            "100%|██████████| 10/10 [00:00<00:00, 500.60it/s]"
          ],
          "name": "stderr"
        },
        {
          "output_type": "stream",
          "text": [
            "{'beta': 0.05, 'gamma': 0.01, 'fraction_infected': 0.05, 'tp_rate': 1}\n"
          ],
          "name": "stdout"
        },
        {
          "output_type": "stream",
          "text": [
            "\n",
            "BokehDeprecationWarning: 'legend' keyword is deprecated, use explicit 'legend_label', 'legend_field', or 'legend_group' keywords instead\n",
            "BokehDeprecationWarning: 'legend' keyword is deprecated, use explicit 'legend_label', 'legend_field', or 'legend_group' keywords instead\n",
            "BokehDeprecationWarning: 'legend' keyword is deprecated, use explicit 'legend_label', 'legend_field', or 'legend_group' keywords instead\n"
          ],
          "name": "stderr"
        },
        {
          "output_type": "display_data",
          "data": {
            "application/javascript": [
              "\n",
              "(function(root) {\n",
              "  function now() {\n",
              "    return new Date();\n",
              "  }\n",
              "\n",
              "  var force = true;\n",
              "\n",
              "  if (typeof root._bokeh_onload_callbacks === \"undefined\" || force === true) {\n",
              "    root._bokeh_onload_callbacks = [];\n",
              "    root._bokeh_is_loading = undefined;\n",
              "  }\n",
              "\n",
              "  var JS_MIME_TYPE = 'application/javascript';\n",
              "  var HTML_MIME_TYPE = 'text/html';\n",
              "  var EXEC_MIME_TYPE = 'application/vnd.bokehjs_exec.v0+json';\n",
              "  var CLASS_NAME = 'output_bokeh rendered_html';\n",
              "\n",
              "  /**\n",
              "   * Render data to the DOM node\n",
              "   */\n",
              "  function render(props, node) {\n",
              "    var script = document.createElement(\"script\");\n",
              "    node.appendChild(script);\n",
              "  }\n",
              "\n",
              "  /**\n",
              "   * Handle when an output is cleared or removed\n",
              "   */\n",
              "  function handleClearOutput(event, handle) {\n",
              "    var cell = handle.cell;\n",
              "\n",
              "    var id = cell.output_area._bokeh_element_id;\n",
              "    var server_id = cell.output_area._bokeh_server_id;\n",
              "    // Clean up Bokeh references\n",
              "    if (id != null && id in Bokeh.index) {\n",
              "      Bokeh.index[id].model.document.clear();\n",
              "      delete Bokeh.index[id];\n",
              "    }\n",
              "\n",
              "    if (server_id !== undefined) {\n",
              "      // Clean up Bokeh references\n",
              "      var cmd = \"from bokeh.io.state import curstate; print(curstate().uuid_to_server['\" + server_id + \"'].get_sessions()[0].document.roots[0]._id)\";\n",
              "      cell.notebook.kernel.execute(cmd, {\n",
              "        iopub: {\n",
              "          output: function(msg) {\n",
              "            var id = msg.content.text.trim();\n",
              "            if (id in Bokeh.index) {\n",
              "              Bokeh.index[id].model.document.clear();\n",
              "              delete Bokeh.index[id];\n",
              "            }\n",
              "          }\n",
              "        }\n",
              "      });\n",
              "      // Destroy server and session\n",
              "      var cmd = \"import bokeh.io.notebook as ion; ion.destroy_server('\" + server_id + \"')\";\n",
              "      cell.notebook.kernel.execute(cmd);\n",
              "    }\n",
              "  }\n",
              "\n",
              "  /**\n",
              "   * Handle when a new output is added\n",
              "   */\n",
              "  function handleAddOutput(event, handle) {\n",
              "    var output_area = handle.output_area;\n",
              "    var output = handle.output;\n",
              "\n",
              "    // limit handleAddOutput to display_data with EXEC_MIME_TYPE content only\n",
              "    if ((output.output_type != \"display_data\") || (!output.data.hasOwnProperty(EXEC_MIME_TYPE))) {\n",
              "      return\n",
              "    }\n",
              "\n",
              "    var toinsert = output_area.element.find(\".\" + CLASS_NAME.split(' ')[0]);\n",
              "\n",
              "    if (output.metadata[EXEC_MIME_TYPE][\"id\"] !== undefined) {\n",
              "      toinsert[toinsert.length - 1].firstChild.textContent = output.data[JS_MIME_TYPE];\n",
              "      // store reference to embed id on output_area\n",
              "      output_area._bokeh_element_id = output.metadata[EXEC_MIME_TYPE][\"id\"];\n",
              "    }\n",
              "    if (output.metadata[EXEC_MIME_TYPE][\"server_id\"] !== undefined) {\n",
              "      var bk_div = document.createElement(\"div\");\n",
              "      bk_div.innerHTML = output.data[HTML_MIME_TYPE];\n",
              "      var script_attrs = bk_div.children[0].attributes;\n",
              "      for (var i = 0; i < script_attrs.length; i++) {\n",
              "        toinsert[toinsert.length - 1].firstChild.setAttribute(script_attrs[i].name, script_attrs[i].value);\n",
              "      }\n",
              "      // store reference to server id on output_area\n",
              "      output_area._bokeh_server_id = output.metadata[EXEC_MIME_TYPE][\"server_id\"];\n",
              "    }\n",
              "  }\n",
              "\n",
              "  function register_renderer(events, OutputArea) {\n",
              "\n",
              "    function append_mime(data, metadata, element) {\n",
              "      // create a DOM node to render to\n",
              "      var toinsert = this.create_output_subarea(\n",
              "        metadata,\n",
              "        CLASS_NAME,\n",
              "        EXEC_MIME_TYPE\n",
              "      );\n",
              "      this.keyboard_manager.register_events(toinsert);\n",
              "      // Render to node\n",
              "      var props = {data: data, metadata: metadata[EXEC_MIME_TYPE]};\n",
              "      render(props, toinsert[toinsert.length - 1]);\n",
              "      element.append(toinsert);\n",
              "      return toinsert\n",
              "    }\n",
              "\n",
              "    /* Handle when an output is cleared or removed */\n",
              "    events.on('clear_output.CodeCell', handleClearOutput);\n",
              "    events.on('delete.Cell', handleClearOutput);\n",
              "\n",
              "    /* Handle when a new output is added */\n",
              "    events.on('output_added.OutputArea', handleAddOutput);\n",
              "\n",
              "    /**\n",
              "     * Register the mime type and append_mime function with output_area\n",
              "     */\n",
              "    OutputArea.prototype.register_mime_type(EXEC_MIME_TYPE, append_mime, {\n",
              "      /* Is output safe? */\n",
              "      safe: true,\n",
              "      /* Index of renderer in `output_area.display_order` */\n",
              "      index: 0\n",
              "    });\n",
              "  }\n",
              "\n",
              "  // register the mime type if in Jupyter Notebook environment and previously unregistered\n",
              "  if (root.Jupyter !== undefined) {\n",
              "    var events = require('base/js/events');\n",
              "    var OutputArea = require('notebook/js/outputarea').OutputArea;\n",
              "\n",
              "    if (OutputArea.prototype.mime_types().indexOf(EXEC_MIME_TYPE) == -1) {\n",
              "      register_renderer(events, OutputArea);\n",
              "    }\n",
              "  }\n",
              "\n",
              "  \n",
              "  if (typeof (root._bokeh_timeout) === \"undefined\" || force === true) {\n",
              "    root._bokeh_timeout = Date.now() + 5000;\n",
              "    root._bokeh_failed_load = false;\n",
              "  }\n",
              "\n",
              "  var NB_LOAD_WARNING = {'data': {'text/html':\n",
              "     \"<div style='background-color: #fdd'>\\n\"+\n",
              "     \"<p>\\n\"+\n",
              "     \"BokehJS does not appear to have successfully loaded. If loading BokehJS from CDN, this \\n\"+\n",
              "     \"may be due to a slow or bad network connection. Possible fixes:\\n\"+\n",
              "     \"</p>\\n\"+\n",
              "     \"<ul>\\n\"+\n",
              "     \"<li>re-rerun `output_notebook()` to attempt to load from CDN again, or</li>\\n\"+\n",
              "     \"<li>use INLINE resources instead, as so:</li>\\n\"+\n",
              "     \"</ul>\\n\"+\n",
              "     \"<code>\\n\"+\n",
              "     \"from bokeh.resources import INLINE\\n\"+\n",
              "     \"output_notebook(resources=INLINE)\\n\"+\n",
              "     \"</code>\\n\"+\n",
              "     \"</div>\"}};\n",
              "\n",
              "  function display_loaded() {\n",
              "    var el = document.getElementById(null);\n",
              "    if (el != null) {\n",
              "      el.textContent = \"BokehJS is loading...\";\n",
              "    }\n",
              "    if (root.Bokeh !== undefined) {\n",
              "      if (el != null) {\n",
              "        el.textContent = \"BokehJS \" + root.Bokeh.version + \" successfully loaded.\";\n",
              "      }\n",
              "    } else if (Date.now() < root._bokeh_timeout) {\n",
              "      setTimeout(display_loaded, 100)\n",
              "    }\n",
              "  }\n",
              "\n",
              "\n",
              "  function run_callbacks() {\n",
              "    try {\n",
              "      root._bokeh_onload_callbacks.forEach(function(callback) {\n",
              "        if (callback != null)\n",
              "          callback();\n",
              "      });\n",
              "    } finally {\n",
              "      delete root._bokeh_onload_callbacks\n",
              "    }\n",
              "    console.debug(\"Bokeh: all callbacks have finished\");\n",
              "  }\n",
              "\n",
              "  function load_libs(css_urls, js_urls, callback) {\n",
              "    if (css_urls == null) css_urls = [];\n",
              "    if (js_urls == null) js_urls = [];\n",
              "\n",
              "    root._bokeh_onload_callbacks.push(callback);\n",
              "    if (root._bokeh_is_loading > 0) {\n",
              "      console.debug(\"Bokeh: BokehJS is being loaded, scheduling callback at\", now());\n",
              "      return null;\n",
              "    }\n",
              "    if (js_urls == null || js_urls.length === 0) {\n",
              "      run_callbacks();\n",
              "      return null;\n",
              "    }\n",
              "    console.debug(\"Bokeh: BokehJS not loaded, scheduling load and callback at\", now());\n",
              "    root._bokeh_is_loading = css_urls.length + js_urls.length;\n",
              "\n",
              "    function on_load() {\n",
              "      root._bokeh_is_loading--;\n",
              "      if (root._bokeh_is_loading === 0) {\n",
              "        console.debug(\"Bokeh: all BokehJS libraries/stylesheets loaded\");\n",
              "        run_callbacks()\n",
              "      }\n",
              "    }\n",
              "\n",
              "    function on_error() {\n",
              "      console.error(\"failed to load \" + url);\n",
              "    }\n",
              "\n",
              "    for (var i = 0; i < css_urls.length; i++) {\n",
              "      var url = css_urls[i];\n",
              "      const element = document.createElement(\"link\");\n",
              "      element.onload = on_load;\n",
              "      element.onerror = on_error;\n",
              "      element.rel = \"stylesheet\";\n",
              "      element.type = \"text/css\";\n",
              "      element.href = url;\n",
              "      console.debug(\"Bokeh: injecting link tag for BokehJS stylesheet: \", url);\n",
              "      document.body.appendChild(element);\n",
              "    }\n",
              "\n",
              "    for (var i = 0; i < js_urls.length; i++) {\n",
              "      var url = js_urls[i];\n",
              "      var element = document.createElement('script');\n",
              "      element.onload = on_load;\n",
              "      element.onerror = on_error;\n",
              "      element.async = false;\n",
              "      element.src = url;\n",
              "      console.debug(\"Bokeh: injecting script tag for BokehJS library: \", url);\n",
              "      document.head.appendChild(element);\n",
              "    }\n",
              "  };\n",
              "\n",
              "  function inject_raw_css(css) {\n",
              "    const element = document.createElement(\"style\");\n",
              "    element.appendChild(document.createTextNode(css));\n",
              "    document.body.appendChild(element);\n",
              "  }\n",
              "\n",
              "  \n",
              "  var js_urls = [\"https://cdn.pydata.org/bokeh/release/bokeh-1.4.0.min.js\", \"https://cdn.pydata.org/bokeh/release/bokeh-widgets-1.4.0.min.js\", \"https://cdn.pydata.org/bokeh/release/bokeh-tables-1.4.0.min.js\", \"https://cdn.pydata.org/bokeh/release/bokeh-gl-1.4.0.min.js\"];\n",
              "  var css_urls = [];\n",
              "  \n",
              "\n",
              "  var inline_js = [\n",
              "    function(Bokeh) {\n",
              "      Bokeh.set_log_level(\"info\");\n",
              "    },\n",
              "    function(Bokeh) {\n",
              "    \n",
              "    \n",
              "    }\n",
              "  ];\n",
              "\n",
              "  function run_inline_js() {\n",
              "    \n",
              "    if (root.Bokeh !== undefined || force === true) {\n",
              "      \n",
              "    for (var i = 0; i < inline_js.length; i++) {\n",
              "      inline_js[i].call(root, root.Bokeh);\n",
              "    }\n",
              "    } else if (Date.now() < root._bokeh_timeout) {\n",
              "      setTimeout(run_inline_js, 100);\n",
              "    } else if (!root._bokeh_failed_load) {\n",
              "      console.log(\"Bokeh: BokehJS failed to load within specified timeout.\");\n",
              "      root._bokeh_failed_load = true;\n",
              "    } else if (force !== true) {\n",
              "      var cell = $(document.getElementById(null)).parents('.cell').data().cell;\n",
              "      cell.output_area.append_execute_result(NB_LOAD_WARNING)\n",
              "    }\n",
              "\n",
              "  }\n",
              "\n",
              "  if (root._bokeh_is_loading === 0) {\n",
              "    console.debug(\"Bokeh: BokehJS loaded, going straight to plotting\");\n",
              "    run_inline_js();\n",
              "  } else {\n",
              "    load_libs(css_urls, js_urls, function() {\n",
              "      console.debug(\"Bokeh: BokehJS plotting callback run at\", now());\n",
              "      run_inline_js();\n",
              "    });\n",
              "  }\n",
              "}(window));"
            ],
            "application/vnd.bokehjs_load.v0+json": "\n(function(root) {\n  function now() {\n    return new Date();\n  }\n\n  var force = true;\n\n  if (typeof root._bokeh_onload_callbacks === \"undefined\" || force === true) {\n    root._bokeh_onload_callbacks = [];\n    root._bokeh_is_loading = undefined;\n  }\n\n  \n\n  \n  if (typeof (root._bokeh_timeout) === \"undefined\" || force === true) {\n    root._bokeh_timeout = Date.now() + 5000;\n    root._bokeh_failed_load = false;\n  }\n\n  var NB_LOAD_WARNING = {'data': {'text/html':\n     \"<div style='background-color: #fdd'>\\n\"+\n     \"<p>\\n\"+\n     \"BokehJS does not appear to have successfully loaded. If loading BokehJS from CDN, this \\n\"+\n     \"may be due to a slow or bad network connection. Possible fixes:\\n\"+\n     \"</p>\\n\"+\n     \"<ul>\\n\"+\n     \"<li>re-rerun `output_notebook()` to attempt to load from CDN again, or</li>\\n\"+\n     \"<li>use INLINE resources instead, as so:</li>\\n\"+\n     \"</ul>\\n\"+\n     \"<code>\\n\"+\n     \"from bokeh.resources import INLINE\\n\"+\n     \"output_notebook(resources=INLINE)\\n\"+\n     \"</code>\\n\"+\n     \"</div>\"}};\n\n  function display_loaded() {\n    var el = document.getElementById(null);\n    if (el != null) {\n      el.textContent = \"BokehJS is loading...\";\n    }\n    if (root.Bokeh !== undefined) {\n      if (el != null) {\n        el.textContent = \"BokehJS \" + root.Bokeh.version + \" successfully loaded.\";\n      }\n    } else if (Date.now() < root._bokeh_timeout) {\n      setTimeout(display_loaded, 100)\n    }\n  }\n\n\n  function run_callbacks() {\n    try {\n      root._bokeh_onload_callbacks.forEach(function(callback) {\n        if (callback != null)\n          callback();\n      });\n    } finally {\n      delete root._bokeh_onload_callbacks\n    }\n    console.debug(\"Bokeh: all callbacks have finished\");\n  }\n\n  function load_libs(css_urls, js_urls, callback) {\n    if (css_urls == null) css_urls = [];\n    if (js_urls == null) js_urls = [];\n\n    root._bokeh_onload_callbacks.push(callback);\n    if (root._bokeh_is_loading > 0) {\n      console.debug(\"Bokeh: BokehJS is being loaded, scheduling callback at\", now());\n      return null;\n    }\n    if (js_urls == null || js_urls.length === 0) {\n      run_callbacks();\n      return null;\n    }\n    console.debug(\"Bokeh: BokehJS not loaded, scheduling load and callback at\", now());\n    root._bokeh_is_loading = css_urls.length + js_urls.length;\n\n    function on_load() {\n      root._bokeh_is_loading--;\n      if (root._bokeh_is_loading === 0) {\n        console.debug(\"Bokeh: all BokehJS libraries/stylesheets loaded\");\n        run_callbacks()\n      }\n    }\n\n    function on_error() {\n      console.error(\"failed to load \" + url);\n    }\n\n    for (var i = 0; i < css_urls.length; i++) {\n      var url = css_urls[i];\n      const element = document.createElement(\"link\");\n      element.onload = on_load;\n      element.onerror = on_error;\n      element.rel = \"stylesheet\";\n      element.type = \"text/css\";\n      element.href = url;\n      console.debug(\"Bokeh: injecting link tag for BokehJS stylesheet: \", url);\n      document.body.appendChild(element);\n    }\n\n    for (var i = 0; i < js_urls.length; i++) {\n      var url = js_urls[i];\n      var element = document.createElement('script');\n      element.onload = on_load;\n      element.onerror = on_error;\n      element.async = false;\n      element.src = url;\n      console.debug(\"Bokeh: injecting script tag for BokehJS library: \", url);\n      document.head.appendChild(element);\n    }\n  };\n\n  function inject_raw_css(css) {\n    const element = document.createElement(\"style\");\n    element.appendChild(document.createTextNode(css));\n    document.body.appendChild(element);\n  }\n\n  \n  var js_urls = [\"https://cdn.pydata.org/bokeh/release/bokeh-1.4.0.min.js\", \"https://cdn.pydata.org/bokeh/release/bokeh-widgets-1.4.0.min.js\", \"https://cdn.pydata.org/bokeh/release/bokeh-tables-1.4.0.min.js\", \"https://cdn.pydata.org/bokeh/release/bokeh-gl-1.4.0.min.js\"];\n  var css_urls = [];\n  \n\n  var inline_js = [\n    function(Bokeh) {\n      Bokeh.set_log_level(\"info\");\n    },\n    function(Bokeh) {\n    \n    \n    }\n  ];\n\n  function run_inline_js() {\n    \n    if (root.Bokeh !== undefined || force === true) {\n      \n    for (var i = 0; i < inline_js.length; i++) {\n      inline_js[i].call(root, root.Bokeh);\n    }\n    } else if (Date.now() < root._bokeh_timeout) {\n      setTimeout(run_inline_js, 100);\n    } else if (!root._bokeh_failed_load) {\n      console.log(\"Bokeh: BokehJS failed to load within specified timeout.\");\n      root._bokeh_failed_load = true;\n    } else if (force !== true) {\n      var cell = $(document.getElementById(null)).parents('.cell').data().cell;\n      cell.output_area.append_execute_result(NB_LOAD_WARNING)\n    }\n\n  }\n\n  if (root._bokeh_is_loading === 0) {\n    console.debug(\"Bokeh: BokehJS loaded, going straight to plotting\");\n    run_inline_js();\n  } else {\n    load_libs(css_urls, js_urls, function() {\n      console.debug(\"Bokeh: BokehJS plotting callback run at\", now());\n      run_inline_js();\n    });\n  }\n}(window));"
          },
          "metadata": {
            "tags": []
          }
        },
        {
          "output_type": "display_data",
          "data": {
            "text/html": [
              "\n",
              "\n",
              "\n",
              "\n",
              "\n",
              "\n",
              "  <div class=\"bk-root\" id=\"1ba946c5-86b4-47ab-aa03-cf31be06d102\" data-root-id=\"1632\"></div>\n"
            ]
          },
          "metadata": {
            "tags": []
          }
        },
        {
          "output_type": "display_data",
          "data": {
            "application/javascript": [
              "(function(root) {\n",
              "  function embed_document(root) {\n",
              "    \n",
              "  var docs_json = {\"85aae1ca-bcfc-491c-9aee-8e0758d482f4\":{\"roots\":{\"references\":[{\"attributes\":{\"children\":[{\"id\":\"1631\",\"type\":\"ToolbarBox\"},{\"id\":\"1629\",\"type\":\"GridBox\"}]},\"id\":\"1632\",\"type\":\"Column\"},{\"attributes\":{},\"id\":\"1559\",\"type\":\"HelpTool\"},{\"attributes\":{\"line_alpha\":0.1,\"line_color\":\"#1f77b4\",\"line_width\":2,\"x\":{\"field\":\"x\"},\"y\":{\"field\":\"y\"}},\"id\":\"1569\",\"type\":\"Line\"},{\"attributes\":{\"line_alpha\":0.5,\"line_color\":\"#ff7f0e\",\"line_width\":2,\"x\":{\"field\":\"x\"},\"y\":{\"field\":\"y\"}},\"id\":\"1597\",\"type\":\"Line\"},{\"attributes\":{\"line_alpha\":0.1,\"line_color\":\"#1f77b4\",\"line_width\":2,\"x\":{\"field\":\"x\"},\"y\":{\"field\":\"y\"}},\"id\":\"1598\",\"type\":\"Line\"},{\"attributes\":{\"active_drag\":\"auto\",\"active_inspect\":\"auto\",\"active_multi\":null,\"active_scroll\":\"auto\",\"active_tap\":\"auto\",\"tools\":[{\"id\":\"1554\",\"type\":\"PanTool\"},{\"id\":\"1555\",\"type\":\"WheelZoomTool\"},{\"id\":\"1556\",\"type\":\"BoxZoomTool\"},{\"id\":\"1557\",\"type\":\"SaveTool\"},{\"id\":\"1558\",\"type\":\"ResetTool\"},{\"id\":\"1559\",\"type\":\"HelpTool\"}]},\"id\":\"1560\",\"type\":\"Toolbar\"},{\"attributes\":{\"data_source\":{\"id\":\"1596\",\"type\":\"ColumnDataSource\"},\"glyph\":{\"id\":\"1597\",\"type\":\"Line\"},\"hover_glyph\":null,\"muted_glyph\":null,\"nonselection_glyph\":{\"id\":\"1598\",\"type\":\"Line\"},\"selection_glyph\":null,\"view\":{\"id\":\"1600\",\"type\":\"CDSView\"}},\"id\":\"1599\",\"type\":\"GlyphRenderer\"},{\"attributes\":{\"data_source\":{\"id\":\"1567\",\"type\":\"ColumnDataSource\"},\"glyph\":{\"id\":\"1568\",\"type\":\"Line\"},\"hover_glyph\":null,\"muted_glyph\":null,\"nonselection_glyph\":{\"id\":\"1569\",\"type\":\"Line\"},\"selection_glyph\":null,\"view\":{\"id\":\"1571\",\"type\":\"CDSView\"}},\"id\":\"1570\",\"type\":\"GlyphRenderer\"},{\"attributes\":{\"source\":{\"id\":\"1567\",\"type\":\"ColumnDataSource\"}},\"id\":\"1571\",\"type\":\"CDSView\"},{\"attributes\":{\"source\":{\"id\":\"1596\",\"type\":\"ColumnDataSource\"}},\"id\":\"1600\",\"type\":\"CDSView\"},{\"attributes\":{\"text\":\"SIR - Diffusion Trend\"},\"id\":\"1572\",\"type\":\"Title\"},{\"attributes\":{},\"id\":\"1610\",\"type\":\"UnionRenderers\"},{\"attributes\":{},\"id\":\"1575\",\"type\":\"BasicTickFormatter\"},{\"attributes\":{},\"id\":\"1611\",\"type\":\"Selection\"},{\"attributes\":{\"children\":[[{\"id\":\"1535\",\"subtype\":\"Figure\",\"type\":\"Plot\"},0,0]]},\"id\":\"1629\",\"type\":\"GridBox\"},{\"attributes\":{},\"id\":\"1577\",\"type\":\"BasicTickFormatter\"},{\"attributes\":{\"callback\":null,\"data\":{\"x\":[0,1,2,3,4,5,6,7,8,9],\"y\":{\"__ndarray__\":\"HkH6+NqZ7z9ULakHtIbtPwTp42tnfuo/mi7HSK5/6D9SgEeQPr7mP6Wt8JfyROQ//KU8ERVv4j+z97xYpa3gP5kQhk61pN4/TZdjJNc/3D8=\",\"dtype\":\"float64\",\"shape\":[10]}},\"selected\":{\"id\":\"1594\",\"type\":\"Selection\"},\"selection_policy\":{\"id\":\"1593\",\"type\":\"UnionRenderers\"}},\"id\":\"1567\",\"type\":\"ColumnDataSource\"},{\"attributes\":{\"label\":{\"value\":\"Removed\"},\"renderers\":[{\"id\":\"1599\",\"type\":\"GlyphRenderer\"}]},\"id\":\"1612\",\"type\":\"LegendItem\"},{\"attributes\":{\"items\":[{\"id\":\"1580\",\"type\":\"LegendItem\"},{\"id\":\"1595\",\"type\":\"LegendItem\"},{\"id\":\"1612\",\"type\":\"LegendItem\"}],\"orientation\":\"horizontal\"},\"id\":\"1579\",\"type\":\"Legend\"},{\"attributes\":{\"bottom_units\":\"screen\",\"fill_alpha\":{\"value\":0.5},\"fill_color\":{\"value\":\"lightgrey\"},\"left_units\":\"screen\",\"level\":\"overlay\",\"line_alpha\":{\"value\":1.0},\"line_color\":{\"value\":\"black\"},\"line_dash\":[4,4],\"line_width\":{\"value\":2},\"render_mode\":\"css\",\"right_units\":\"screen\",\"top_units\":\"screen\"},\"id\":\"1578\",\"type\":\"BoxAnnotation\"},{\"attributes\":{},\"id\":\"1540\",\"type\":\"LinearScale\"},{\"attributes\":{\"align\":\"center\",\"text\":\"beta: 0.05, gamma: 0.01, fraction infected: 0.05, tp rate: 1\"},\"id\":\"1614\",\"type\":\"Title\"},{\"attributes\":{\"callback\":null},\"id\":\"1538\",\"type\":\"DataRange1d\"},{\"attributes\":{\"label\":{\"value\":\"Susceptible\"},\"renderers\":[{\"id\":\"1570\",\"type\":\"GlyphRenderer\"}]},\"id\":\"1580\",\"type\":\"LegendItem\"},{\"attributes\":{},\"id\":\"1555\",\"type\":\"WheelZoomTool\"},{\"attributes\":{\"line_alpha\":0.5,\"line_color\":\"#1f77b4\",\"line_width\":2,\"x\":{\"field\":\"x\"},\"y\":{\"field\":\"y\"}},\"id\":\"1568\",\"type\":\"Line\"},{\"attributes\":{},\"id\":\"1626\",\"type\":\"UnionRenderers\"},{\"attributes\":{\"callback\":null,\"data\":{\"x\":[0,1,2,3,4,5,6,7,8,9],\"y\":{\"__ndarray__\":\"gLhvwUGJiT9gyhNR8SazP2kr/KU8EcU/DkrMwLJozD8XHJSYgWXRP+5bcFBiBtY/vwUHJWZg2T8OSszAsmjcPxt2V4ds9t4/80RUvMmE4D8=\",\"dtype\":\"float64\",\"shape\":[10]}},\"selected\":{\"id\":\"1611\",\"type\":\"Selection\"},\"selection_policy\":{\"id\":\"1610\",\"type\":\"UnionRenderers\"}},\"id\":\"1581\",\"type\":\"ColumnDataSource\"},{\"attributes\":{},\"id\":\"1542\",\"type\":\"LinearScale\"},{\"attributes\":{},\"id\":\"1627\",\"type\":\"Selection\"},{\"attributes\":{\"line_alpha\":0.5,\"line_color\":\"#aec7e8\",\"line_width\":2,\"x\":{\"field\":\"x\"},\"y\":{\"field\":\"y\"}},\"id\":\"1582\",\"type\":\"Line\"},{\"attributes\":{\"tools\":[{\"id\":\"1554\",\"type\":\"PanTool\"},{\"id\":\"1555\",\"type\":\"WheelZoomTool\"},{\"id\":\"1556\",\"type\":\"BoxZoomTool\"},{\"id\":\"1557\",\"type\":\"SaveTool\"},{\"id\":\"1558\",\"type\":\"ResetTool\"},{\"id\":\"1559\",\"type\":\"HelpTool\"}]},\"id\":\"1630\",\"type\":\"ProxyToolbar\"},{\"attributes\":{\"callback\":null},\"id\":\"1536\",\"type\":\"DataRange1d\"},{\"attributes\":{\"dimension\":1,\"grid_line_alpha\":0.5,\"ticker\":{\"id\":\"1550\",\"type\":\"BasicTicker\"}},\"id\":\"1553\",\"type\":\"Grid\"},{\"attributes\":{\"line_alpha\":0.1,\"line_color\":\"#1f77b4\",\"line_width\":2,\"x\":{\"field\":\"x\"},\"y\":{\"field\":\"y\"}},\"id\":\"1583\",\"type\":\"Line\"},{\"attributes\":{\"toolbar\":{\"id\":\"1630\",\"type\":\"ProxyToolbar\"},\"toolbar_location\":\"above\"},\"id\":\"1631\",\"type\":\"ToolbarBox\"},{\"attributes\":{},\"id\":\"1557\",\"type\":\"SaveTool\"},{\"attributes\":{\"below\":[{\"id\":\"1544\",\"type\":\"LinearAxis\"},{\"id\":\"1614\",\"type\":\"Title\"}],\"center\":[{\"id\":\"1548\",\"type\":\"Grid\"},{\"id\":\"1553\",\"type\":\"Grid\"},{\"id\":\"1579\",\"type\":\"Legend\"}],\"left\":[{\"id\":\"1549\",\"type\":\"LinearAxis\"}],\"plot_height\":400,\"plot_width\":400,\"renderers\":[{\"id\":\"1570\",\"type\":\"GlyphRenderer\"},{\"id\":\"1584\",\"type\":\"GlyphRenderer\"},{\"id\":\"1599\",\"type\":\"GlyphRenderer\"}],\"title\":{\"id\":\"1572\",\"type\":\"Title\"},\"toolbar\":{\"id\":\"1560\",\"type\":\"Toolbar\"},\"toolbar_location\":null,\"x_range\":{\"id\":\"1536\",\"type\":\"DataRange1d\"},\"x_scale\":{\"id\":\"1540\",\"type\":\"LinearScale\"},\"y_range\":{\"id\":\"1538\",\"type\":\"DataRange1d\"},\"y_scale\":{\"id\":\"1542\",\"type\":\"LinearScale\"}},\"id\":\"1535\",\"subtype\":\"Figure\",\"type\":\"Plot\"},{\"attributes\":{\"data_source\":{\"id\":\"1581\",\"type\":\"ColumnDataSource\"},\"glyph\":{\"id\":\"1582\",\"type\":\"Line\"},\"hover_glyph\":null,\"muted_glyph\":null,\"nonselection_glyph\":{\"id\":\"1583\",\"type\":\"Line\"},\"selection_glyph\":null,\"view\":{\"id\":\"1585\",\"type\":\"CDSView\"}},\"id\":\"1584\",\"type\":\"GlyphRenderer\"},{\"attributes\":{\"axis_label\":\"Iterations\",\"formatter\":{\"id\":\"1577\",\"type\":\"BasicTickFormatter\"},\"ticker\":{\"id\":\"1545\",\"type\":\"BasicTicker\"}},\"id\":\"1544\",\"type\":\"LinearAxis\"},{\"attributes\":{\"source\":{\"id\":\"1581\",\"type\":\"ColumnDataSource\"}},\"id\":\"1585\",\"type\":\"CDSView\"},{\"attributes\":{},\"id\":\"1554\",\"type\":\"PanTool\"},{\"attributes\":{},\"id\":\"1545\",\"type\":\"BasicTicker\"},{\"attributes\":{\"axis_label\":\"#Nodes\",\"formatter\":{\"id\":\"1575\",\"type\":\"BasicTickFormatter\"},\"ticker\":{\"id\":\"1550\",\"type\":\"BasicTicker\"}},\"id\":\"1549\",\"type\":\"LinearAxis\"},{\"attributes\":{},\"id\":\"1593\",\"type\":\"UnionRenderers\"},{\"attributes\":{},\"id\":\"1550\",\"type\":\"BasicTicker\"},{\"attributes\":{},\"id\":\"1594\",\"type\":\"Selection\"},{\"attributes\":{},\"id\":\"1558\",\"type\":\"ResetTool\"},{\"attributes\":{\"grid_line_alpha\":0.5,\"ticker\":{\"id\":\"1545\",\"type\":\"BasicTicker\"}},\"id\":\"1548\",\"type\":\"Grid\"},{\"attributes\":{\"overlay\":{\"id\":\"1578\",\"type\":\"BoxAnnotation\"}},\"id\":\"1556\",\"type\":\"BoxZoomTool\"},{\"attributes\":{\"label\":{\"value\":\"Infected\"},\"renderers\":[{\"id\":\"1584\",\"type\":\"GlyphRenderer\"}]},\"id\":\"1595\",\"type\":\"LegendItem\"},{\"attributes\":{\"callback\":null,\"data\":{\"x\":[0,1,2,3,4,5,6,7,8,9],\"y\":{\"__ndarray__\":\"AAAAAAAAAABmYFk0zm1kP5kQhk61pH4/gLhvwUGJiT9ZNM5tFOCRP3OM5PqH+5Y/jOT6h/sWnD9ZNM5tFOChP2DKE1HxJqM/bfaeF6u0pT8=\",\"dtype\":\"float64\",\"shape\":[10]}},\"selected\":{\"id\":\"1627\",\"type\":\"Selection\"},\"selection_policy\":{\"id\":\"1626\",\"type\":\"UnionRenderers\"}},\"id\":\"1596\",\"type\":\"ColumnDataSource\"}],\"root_ids\":[\"1632\"]},\"title\":\"Bokeh Application\",\"version\":\"1.4.0\"}};\n",
              "  var render_items = [{\"docid\":\"85aae1ca-bcfc-491c-9aee-8e0758d482f4\",\"roots\":{\"1632\":\"1ba946c5-86b4-47ab-aa03-cf31be06d102\"}}];\n",
              "  root.Bokeh.embed.embed_items_notebook(docs_json, render_items);\n",
              "\n",
              "  }\n",
              "  if (root.Bokeh !== undefined) {\n",
              "    embed_document(root);\n",
              "  } else {\n",
              "    var attempts = 0;\n",
              "    var timer = setInterval(function(root) {\n",
              "      if (root.Bokeh !== undefined) {\n",
              "        clearInterval(timer);\n",
              "        embed_document(root);\n",
              "      } else {\n",
              "        attempts++;\n",
              "        if (attempts > 100) {\n",
              "          clearInterval(timer);\n",
              "          console.log(\"Bokeh: ERROR: Unable to run BokehJS code because BokehJS library is missing\");\n",
              "        }\n",
              "      }\n",
              "    }, 10, root)\n",
              "  }\n",
              "})(window);"
            ],
            "application/vnd.bokehjs_exec.v0+json": ""
          },
          "metadata": {
            "tags": [],
            "application/vnd.bokehjs_exec.v0+json": {
              "id": "1632"
            }
          }
        }
      ]
    }
  ]
}