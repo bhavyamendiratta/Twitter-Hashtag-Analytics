{
 "cells": [
  {
   "cell_type": "code",
   "execution_count": 1,
   "metadata": {},
   "outputs": [],
   "source": [
    "import numpy as np\n",
    "import pandas as pd\n",
    "import matplotlib.pyplot as plt"
   ]
  },
  {
   "cell_type": "code",
   "execution_count": 2,
   "metadata": {},
   "outputs": [],
   "source": [
    "df = pd.read_csv('tweetskashmir.csv')"
   ]
  },
  {
   "cell_type": "code",
   "execution_count": 3,
   "metadata": {},
   "outputs": [],
   "source": [
    "import re\n",
    "from nltk.corpus import stopwords\n",
    "from nltk.stem import PorterStemmer"
   ]
  },
  {
   "cell_type": "code",
   "execution_count": 5,
   "metadata": {},
   "outputs": [],
   "source": [
    "sw = set(stopwords.words('english'))\n",
    "ps = PorterStemmer()"
   ]
  },
  {
   "cell_type": "code",
   "execution_count": 9,
   "metadata": {},
   "outputs": [],
   "source": [
    "def clean_text(sample):\n",
    "    sample = sample.lower()\n",
    "    sample = sample.replace(\"rt\", \"\")\n",
    "    sample = sample.replace(\"@\", \"\")\n",
    "    #sample = re.sub(\"[^a-zA-Z]+\", \" \", sample)\n",
    "    \n",
    "    sample = sample.split()\n",
    "    \n",
    "    sample = [ps.stem(s) for s in sample if s not in sw] \n",
    "    \n",
    "    sample = \" \".join(sample)\n",
    "    \n",
    "    return sample"
   ]
  },
  {
   "cell_type": "code",
   "execution_count": 10,
   "metadata": {},
   "outputs": [],
   "source": [
    "df['cleaned_text'] =  df['text'].apply(clean_text)"
   ]
  },
  {
   "cell_type": "code",
   "execution_count": 11,
   "metadata": {},
   "outputs": [
    {
     "data": {
      "text/html": [
       "<div>\n",
       "<style scoped>\n",
       "    .dataframe tbody tr th:only-of-type {\n",
       "        vertical-align: middle;\n",
       "    }\n",
       "\n",
       "    .dataframe tbody tr th {\n",
       "        vertical-align: top;\n",
       "    }\n",
       "\n",
       "    .dataframe thead th {\n",
       "        text-align: right;\n",
       "    }\n",
       "</style>\n",
       "<table border=\"1\" class=\"dataframe\">\n",
       "  <thead>\n",
       "    <tr style=\"text-align: right;\">\n",
       "      <th></th>\n",
       "      <th>Unnamed: 0</th>\n",
       "      <th>text</th>\n",
       "      <th>cleaned_text</th>\n",
       "    </tr>\n",
       "  </thead>\n",
       "  <tbody>\n",
       "    <tr>\n",
       "      <th>0</th>\n",
       "      <td>0</td>\n",
       "      <td>RT @ShamsIrfan27: A new normal in #Kashmir: ar...</td>\n",
       "      <td>shamsirfan27: new normal #kashmir: armi men st...</td>\n",
       "    </tr>\n",
       "    <tr>\n",
       "      <th>1</th>\n",
       "      <td>1</td>\n",
       "      <td>RT @ShamsIrfan27: A new normal in #Kashmir: ar...</td>\n",
       "      <td>shamsirfan27: new normal #kashmir: armi men st...</td>\n",
       "    </tr>\n",
       "    <tr>\n",
       "      <th>2</th>\n",
       "      <td>2</td>\n",
       "      <td>RT @PTIofficial: Arundhati Roy isn’t much wron...</td>\n",
       "      <td>ptiofficial: arundhati roy isn’t much wrong ca...</td>\n",
       "    </tr>\n",
       "    <tr>\n",
       "      <th>3</th>\n",
       "      <td>3</td>\n",
       "      <td>RT @zari_pakistani: Kashmiris Use Memes to Moc...</td>\n",
       "      <td>zari_pakistani: kashmiri use meme mock governm...</td>\n",
       "    </tr>\n",
       "    <tr>\n",
       "      <th>4</th>\n",
       "      <td>4</td>\n",
       "      <td>RT @Husnain4s_: 200+ days of lockdown in #Kash...</td>\n",
       "      <td>husnain4s_: 200+ day lockdown #kashmir. hidden...</td>\n",
       "    </tr>\n",
       "  </tbody>\n",
       "</table>\n",
       "</div>"
      ],
      "text/plain": [
       "   Unnamed: 0                                               text  \\\n",
       "0           0  RT @ShamsIrfan27: A new normal in #Kashmir: ar...   \n",
       "1           1  RT @ShamsIrfan27: A new normal in #Kashmir: ar...   \n",
       "2           2  RT @PTIofficial: Arundhati Roy isn’t much wron...   \n",
       "3           3  RT @zari_pakistani: Kashmiris Use Memes to Moc...   \n",
       "4           4  RT @Husnain4s_: 200+ days of lockdown in #Kash...   \n",
       "\n",
       "                                        cleaned_text  \n",
       "0  shamsirfan27: new normal #kashmir: armi men st...  \n",
       "1  shamsirfan27: new normal #kashmir: armi men st...  \n",
       "2  ptiofficial: arundhati roy isn’t much wrong ca...  \n",
       "3  zari_pakistani: kashmiri use meme mock governm...  \n",
       "4  husnain4s_: 200+ day lockdown #kashmir. hidden...  "
      ]
     },
     "execution_count": 11,
     "metadata": {},
     "output_type": "execute_result"
    }
   ],
   "source": [
    "df.head()"
   ]
  },
  {
   "cell_type": "code",
   "execution_count": 15,
   "metadata": {},
   "outputs": [],
   "source": [
    "from vaderSentiment.vaderSentiment import SentimentIntensityAnalyzer\n",
    "analyser = SentimentIntensityAnalyzer()"
   ]
  },
  {
   "cell_type": "code",
   "execution_count": 16,
   "metadata": {},
   "outputs": [],
   "source": [
    "def print_sentiment_scores(sentence):\n",
    "    snt = analyser.polarity_scores(sentence)  #Calling the polarity analyzer\n",
    "    print(\"{:-<40} {}\".format(sentence, str(snt)))"
   ]
  },
  {
   "cell_type": "code",
   "execution_count": 21,
   "metadata": {},
   "outputs": [
    {
     "data": {
      "text/plain": [
       "23402"
      ]
     },
     "execution_count": 21,
     "metadata": {},
     "output_type": "execute_result"
    }
   ],
   "source": [
    "i=0 #counter\n",
    "\n",
    "compval1 = [ ]  #empty list to hold our computed 'compound' VADER scores\n",
    "\n",
    "\n",
    "while (i<len(df)):\n",
    "\n",
    "    k = analyser.polarity_scores(df.iloc[i]['cleaned_text'])\n",
    "    compval1.append(k['compound'])\n",
    "    \n",
    "    i = i+1\n",
    "    \n",
    "#converting sentiment values to numpy for easier usage\n",
    "\n",
    "compval1 = np.array(compval1)\n",
    "\n",
    "len(compval1)"
   ]
  },
  {
   "cell_type": "code",
   "execution_count": 22,
   "metadata": {},
   "outputs": [],
   "source": [
    "df['VADER score'] = compval1"
   ]
  },
  {
   "cell_type": "code",
   "execution_count": 23,
   "metadata": {},
   "outputs": [
    {
     "data": {
      "text/html": [
       "<div>\n",
       "<style scoped>\n",
       "    .dataframe tbody tr th:only-of-type {\n",
       "        vertical-align: middle;\n",
       "    }\n",
       "\n",
       "    .dataframe tbody tr th {\n",
       "        vertical-align: top;\n",
       "    }\n",
       "\n",
       "    .dataframe thead th {\n",
       "        text-align: right;\n",
       "    }\n",
       "</style>\n",
       "<table border=\"1\" class=\"dataframe\">\n",
       "  <thead>\n",
       "    <tr style=\"text-align: right;\">\n",
       "      <th></th>\n",
       "      <th>Unnamed: 0</th>\n",
       "      <th>text</th>\n",
       "      <th>cleaned_text</th>\n",
       "      <th>VADER score</th>\n",
       "    </tr>\n",
       "  </thead>\n",
       "  <tbody>\n",
       "    <tr>\n",
       "      <th>0</th>\n",
       "      <td>0</td>\n",
       "      <td>RT @ShamsIrfan27: A new normal in #Kashmir: ar...</td>\n",
       "      <td>shamsirfan27: new normal #kashmir: armi men st...</td>\n",
       "      <td>-0.2960</td>\n",
       "    </tr>\n",
       "    <tr>\n",
       "      <th>1</th>\n",
       "      <td>1</td>\n",
       "      <td>RT @ShamsIrfan27: A new normal in #Kashmir: ar...</td>\n",
       "      <td>shamsirfan27: new normal #kashmir: armi men st...</td>\n",
       "      <td>-0.2960</td>\n",
       "    </tr>\n",
       "    <tr>\n",
       "      <th>2</th>\n",
       "      <td>2</td>\n",
       "      <td>RT @PTIofficial: Arundhati Roy isn’t much wron...</td>\n",
       "      <td>ptiofficial: arundhati roy isn’t much wrong ca...</td>\n",
       "      <td>-0.6486</td>\n",
       "    </tr>\n",
       "    <tr>\n",
       "      <th>3</th>\n",
       "      <td>3</td>\n",
       "      <td>RT @zari_pakistani: Kashmiris Use Memes to Moc...</td>\n",
       "      <td>zari_pakistani: kashmiri use meme mock governm...</td>\n",
       "      <td>-0.8481</td>\n",
       "    </tr>\n",
       "    <tr>\n",
       "      <th>4</th>\n",
       "      <td>4</td>\n",
       "      <td>RT @Husnain4s_: 200+ days of lockdown in #Kash...</td>\n",
       "      <td>husnain4s_: 200+ day lockdown #kashmir. hidden...</td>\n",
       "      <td>0.3612</td>\n",
       "    </tr>\n",
       "  </tbody>\n",
       "</table>\n",
       "</div>"
      ],
      "text/plain": [
       "   Unnamed: 0                                               text  \\\n",
       "0           0  RT @ShamsIrfan27: A new normal in #Kashmir: ar...   \n",
       "1           1  RT @ShamsIrfan27: A new normal in #Kashmir: ar...   \n",
       "2           2  RT @PTIofficial: Arundhati Roy isn’t much wron...   \n",
       "3           3  RT @zari_pakistani: Kashmiris Use Memes to Moc...   \n",
       "4           4  RT @Husnain4s_: 200+ days of lockdown in #Kash...   \n",
       "\n",
       "                                        cleaned_text  VADER score  \n",
       "0  shamsirfan27: new normal #kashmir: armi men st...      -0.2960  \n",
       "1  shamsirfan27: new normal #kashmir: armi men st...      -0.2960  \n",
       "2  ptiofficial: arundhati roy isn’t much wrong ca...      -0.6486  \n",
       "3  zari_pakistani: kashmiri use meme mock governm...      -0.8481  \n",
       "4  husnain4s_: 200+ day lockdown #kashmir. hidden...       0.3612  "
      ]
     },
     "execution_count": 23,
     "metadata": {},
     "output_type": "execute_result"
    }
   ],
   "source": [
    "df.head()"
   ]
  },
  {
   "cell_type": "code",
   "execution_count": 24,
   "metadata": {},
   "outputs": [],
   "source": [
    "i = 0\n",
    "\n",
    "predicted_value = [ ] #empty series to hold our predicted values\n",
    "\n",
    "while(i<len(df)):\n",
    "    if ((df.iloc[i]['VADER score'] >= 0.05)):\n",
    "        predicted_value.append('positive')\n",
    "        i = i+1\n",
    "    elif ((df.iloc[i]['VADER score'] > -0.05) & (df.iloc[i]['VADER score'] < 0.05)):\n",
    "        predicted_value.append('neutral')\n",
    "        i = i+1\n",
    "    elif ((df.iloc[i]['VADER score'] <= -0.05)):\n",
    "        predicted_value.append('negative')\n",
    "        i = i+1"
   ]
  },
  {
   "cell_type": "code",
   "execution_count": 25,
   "metadata": {},
   "outputs": [],
   "source": [
    "df['predicted sentiment'] = predicted_value"
   ]
  },
  {
   "cell_type": "code",
   "execution_count": 26,
   "metadata": {},
   "outputs": [
    {
     "data": {
      "text/html": [
       "<div>\n",
       "<style scoped>\n",
       "    .dataframe tbody tr th:only-of-type {\n",
       "        vertical-align: middle;\n",
       "    }\n",
       "\n",
       "    .dataframe tbody tr th {\n",
       "        vertical-align: top;\n",
       "    }\n",
       "\n",
       "    .dataframe thead th {\n",
       "        text-align: right;\n",
       "    }\n",
       "</style>\n",
       "<table border=\"1\" class=\"dataframe\">\n",
       "  <thead>\n",
       "    <tr style=\"text-align: right;\">\n",
       "      <th></th>\n",
       "      <th>Unnamed: 0</th>\n",
       "      <th>text</th>\n",
       "      <th>cleaned_text</th>\n",
       "      <th>VADER score</th>\n",
       "      <th>predicted sentiment</th>\n",
       "    </tr>\n",
       "  </thead>\n",
       "  <tbody>\n",
       "    <tr>\n",
       "      <th>0</th>\n",
       "      <td>0</td>\n",
       "      <td>RT @ShamsIrfan27: A new normal in #Kashmir: ar...</td>\n",
       "      <td>shamsirfan27: new normal #kashmir: armi men st...</td>\n",
       "      <td>-0.2960</td>\n",
       "      <td>negative</td>\n",
       "    </tr>\n",
       "    <tr>\n",
       "      <th>1</th>\n",
       "      <td>1</td>\n",
       "      <td>RT @ShamsIrfan27: A new normal in #Kashmir: ar...</td>\n",
       "      <td>shamsirfan27: new normal #kashmir: armi men st...</td>\n",
       "      <td>-0.2960</td>\n",
       "      <td>negative</td>\n",
       "    </tr>\n",
       "    <tr>\n",
       "      <th>2</th>\n",
       "      <td>2</td>\n",
       "      <td>RT @PTIofficial: Arundhati Roy isn’t much wron...</td>\n",
       "      <td>ptiofficial: arundhati roy isn’t much wrong ca...</td>\n",
       "      <td>-0.6486</td>\n",
       "      <td>negative</td>\n",
       "    </tr>\n",
       "    <tr>\n",
       "      <th>3</th>\n",
       "      <td>3</td>\n",
       "      <td>RT @zari_pakistani: Kashmiris Use Memes to Moc...</td>\n",
       "      <td>zari_pakistani: kashmiri use meme mock governm...</td>\n",
       "      <td>-0.8481</td>\n",
       "      <td>negative</td>\n",
       "    </tr>\n",
       "    <tr>\n",
       "      <th>4</th>\n",
       "      <td>4</td>\n",
       "      <td>RT @Husnain4s_: 200+ days of lockdown in #Kash...</td>\n",
       "      <td>husnain4s_: 200+ day lockdown #kashmir. hidden...</td>\n",
       "      <td>0.3612</td>\n",
       "      <td>positive</td>\n",
       "    </tr>\n",
       "  </tbody>\n",
       "</table>\n",
       "</div>"
      ],
      "text/plain": [
       "   Unnamed: 0                                               text  \\\n",
       "0           0  RT @ShamsIrfan27: A new normal in #Kashmir: ar...   \n",
       "1           1  RT @ShamsIrfan27: A new normal in #Kashmir: ar...   \n",
       "2           2  RT @PTIofficial: Arundhati Roy isn’t much wron...   \n",
       "3           3  RT @zari_pakistani: Kashmiris Use Memes to Moc...   \n",
       "4           4  RT @Husnain4s_: 200+ days of lockdown in #Kash...   \n",
       "\n",
       "                                        cleaned_text  VADER score  \\\n",
       "0  shamsirfan27: new normal #kashmir: armi men st...      -0.2960   \n",
       "1  shamsirfan27: new normal #kashmir: armi men st...      -0.2960   \n",
       "2  ptiofficial: arundhati roy isn’t much wrong ca...      -0.6486   \n",
       "3  zari_pakistani: kashmiri use meme mock governm...      -0.8481   \n",
       "4  husnain4s_: 200+ day lockdown #kashmir. hidden...       0.3612   \n",
       "\n",
       "  predicted sentiment  \n",
       "0            negative  \n",
       "1            negative  \n",
       "2            negative  \n",
       "3            negative  \n",
       "4            positive  "
      ]
     },
     "execution_count": 26,
     "metadata": {},
     "output_type": "execute_result"
    }
   ],
   "source": [
    "df.head()"
   ]
  },
  {
   "cell_type": "code",
   "execution_count": 28,
   "metadata": {},
   "outputs": [
    {
     "data": {
      "text/plain": [
       "<matplotlib.axes._subplots.AxesSubplot at 0x14a91e7e708>"
      ]
     },
     "execution_count": 28,
     "metadata": {},
     "output_type": "execute_result"
    },
    {
     "data": {
      "image/png": "[encoded data removed]",
      "text/plain": [
       "<Figure size 432x288 with 1 Axes>"
      ]
     },
     "metadata": {
      "needs_background": "light"
     },
     "output_type": "display_data"
    }
   ],
   "source": [
    "df.groupby('predicted sentiment').size().plot(kind='bar')"
   ]
  },
  {
   "cell_type": "code",
   "execution_count": 33,
   "metadata": {},
   "outputs": [
    {
     "data": {
      "text/plain": [
       "neutral     10239\n",
       "negative     8381\n",
       "positive     4782\n",
       "Name: predicted sentiment, dtype: int64"
      ]
     },
     "execution_count": 33,
     "metadata": {},
     "output_type": "execute_result"
    }
   ],
   "source": [
    "df['predicted sentiment'].value_counts()"
   ]
  },
  {
   "cell_type": "code",
   "execution_count": 34,
   "metadata": {},
   "outputs": [],
   "source": [
    "import seaborn as sns"
   ]
  },
  {
   "cell_type": "code",
   "execution_count": 41,
   "metadata": {},
   "outputs": [
    {
     "data": {
      "text/plain": [
       "list"
      ]
     },
     "execution_count": 41,
     "metadata": {},
     "output_type": "execute_result"
    }
   ],
   "source": [
    "s = pd.Series(df['predicted sentiment'])\n",
    "l = s.values.tolist()\n",
    "type(l)"
   ]
  },
  {
   "cell_type": "code",
   "execution_count": 44,
   "metadata": {},
   "outputs": [],
   "source": [
    "z = df.groupby('predicted sentiment').size()"
   ]
  },
  {
   "cell_type": "code",
   "execution_count": 51,
   "metadata": {},
   "outputs": [
    {
     "data": {
      "image/png": "[encoded data removed]",
      "text/plain": [
       "<Figure size 432x288 with 1 Axes>"
      ]
     },
     "metadata": {},
     "output_type": "display_data"
    }
   ],
   "source": [
    "sent_count = df['predicted sentiment'].value_counts()\n",
    "sns.barplot(sent_count.index, sent_count.values,alpha=0.8)\n",
    "plt.title('Sentiments of tweets')\n",
    "plt.ylabel('Number of tweets', fontsize=12)\n",
    "plt.xlabel('predicted sentiment', fontsize=12)\n",
    "plt.show()"
   ]
  },
  {
   "cell_type": "code",
   "execution_count": null,
   "metadata": {},
   "outputs": [],
   "source": []
  }
 ],
 "metadata": {
  "kernelspec": {
   "display_name": "Python 3",
   "language": "python",
   "name": "python3"
  },
  "language_info": {
   "codemirror_mode": {
    "name": "ipython",
    "version": 3
   },
   "file_extension": ".py",
   "mimetype": "text/x-python",
   "name": "python",
   "nbconvert_exporter": "python",
   "pygments_lexer": "ipython3",
   "version": "3.7.4"
  }
 },
 "nbformat": 4,
 "nbformat_minor": 2
}
